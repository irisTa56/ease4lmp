{
 "cells": [
  {
   "cell_type": "code",
   "execution_count": 1,
   "metadata": {
    "ExecuteTime": {
     "end_time": "2018-06-03T11:40:25.432944Z",
     "start_time": "2018-06-03T11:40:25.145275Z"
    }
   },
   "outputs": [],
   "source": [
    "from ase.build import fcc111\n",
    "from ease4lmp import BondedAtoms, LammpsWriter"
   ]
  },
  {
   "cell_type": "code",
   "execution_count": 2,
   "metadata": {
    "ExecuteTime": {
     "end_time": "2018-06-03T11:40:25.550645Z",
     "start_time": "2018-06-03T11:40:25.528238Z"
    }
   },
   "outputs": [],
   "source": [
    "slab = fcc111('Cu', size=(4, 4, 2), vacuum=10.0)"
   ]
  },
  {
   "cell_type": "code",
   "execution_count": 3,
   "metadata": {
    "ExecuteTime": {
     "end_time": "2018-06-03T11:40:25.880723Z",
     "start_time": "2018-06-03T11:40:25.853629Z"
    }
   },
   "outputs": [
    {
     "data": {
      "text/plain": [
       "ase.atoms.Atoms"
      ]
     },
     "execution_count": 3,
     "metadata": {},
     "output_type": "execute_result"
    }
   ],
   "source": [
    "type(slab)"
   ]
  },
  {
   "cell_type": "code",
   "execution_count": 4,
   "metadata": {
    "ExecuteTime": {
     "end_time": "2018-06-03T11:40:26.039907Z",
     "start_time": "2018-06-03T11:40:26.036117Z"
    }
   },
   "outputs": [],
   "source": [
    "slab = BondedAtoms.inherit(slab)"
   ]
  },
  {
   "cell_type": "code",
   "execution_count": 5,
   "metadata": {
    "ExecuteTime": {
     "end_time": "2018-06-03T11:40:26.216601Z",
     "start_time": "2018-06-03T11:40:26.202765Z"
    }
   },
   "outputs": [
    {
     "name": "stdout",
     "output_type": "stream",
     "text": [
      "LammpsAtoms: 'id' have been set\n",
      "LammpsAtoms: 'x' have been set\n",
      "LammpsAtoms: 'y' have been set\n",
      "LammpsAtoms: 'z' have been set\n",
      "LammpsAtoms: 'type' have been set\n"
     ]
    }
   ],
   "source": [
    "writer = LammpsWriter(slab, atom_style=\"atomic\")"
   ]
  },
  {
   "cell_type": "code",
   "execution_count": 6,
   "metadata": {
    "ExecuteTime": {
     "end_time": "2018-06-03T11:40:26.627262Z",
     "start_time": "2018-06-03T11:40:26.616262Z"
    }
   },
   "outputs": [
    {
     "data": {
      "text/plain": [
       "set()"
      ]
     },
     "execution_count": 6,
     "metadata": {},
     "output_type": "execute_result"
    }
   ],
   "source": [
    "writer.get_required_datanames()"
   ]
  },
  {
   "cell_type": "code",
   "execution_count": 7,
   "metadata": {
    "ExecuteTime": {
     "end_time": "2018-06-03T11:40:27.102249Z",
     "start_time": "2018-06-03T11:40:27.082632Z"
    }
   },
   "outputs": [
    {
     "name": "stdout",
     "output_type": "stream",
     "text": [
      "'Masses' section was written\n",
      "'Atoms' section was written\n"
     ]
    }
   ],
   "source": [
    "writer.write_lammps_data(\"data.Cu\", mass=True)"
   ]
  },
  {
   "cell_type": "code",
   "execution_count": 8,
   "metadata": {
    "ExecuteTime": {
     "end_time": "2018-06-03T11:40:28.539224Z",
     "start_time": "2018-06-03T11:40:28.531541Z"
    }
   },
   "outputs": [],
   "source": [
    "molecule = BondedAtoms('2N', positions=[(0., 0., 0.), (0., 0., 1.10)])"
   ]
  },
  {
   "cell_type": "code",
   "execution_count": 9,
   "metadata": {
    "ExecuteTime": {
     "end_time": "2018-06-03T11:40:28.903673Z",
     "start_time": "2018-06-03T11:40:28.888783Z"
    }
   },
   "outputs": [],
   "source": [
    "molecule.set_cell([\n",
    "    [5., 0., 0.], [0., 5., 0.], [0., 0., 5.]])\n",
    "molecule.center()"
   ]
  },
  {
   "cell_type": "code",
   "execution_count": 10,
   "metadata": {
    "ExecuteTime": {
     "end_time": "2018-06-03T11:40:29.323803Z",
     "start_time": "2018-06-03T11:40:29.318898Z"
    }
   },
   "outputs": [],
   "source": [
    "molecule.add_bond(0, 1)"
   ]
  },
  {
   "cell_type": "code",
   "execution_count": 11,
   "metadata": {
    "ExecuteTime": {
     "end_time": "2018-06-03T11:40:29.729809Z",
     "start_time": "2018-06-03T11:40:29.720519Z"
    }
   },
   "outputs": [
    {
     "name": "stdout",
     "output_type": "stream",
     "text": [
      "LammpsAtoms: 'id' have been set\n",
      "LammpsAtoms: 'x' have been set\n",
      "LammpsAtoms: 'y' have been set\n",
      "LammpsAtoms: 'z' have been set\n",
      "LammpsAtoms: 'type' have been set\n",
      "LammpsBonds: 'id' have been set\n",
      "LammpsBonds: 'atom1' have been set\n",
      "LammpsBonds: 'atom2' have been set\n"
     ]
    }
   ],
   "source": [
    "writer2 = LammpsWriter(molecule, atom_style=\"molecular\", special_bonds=True)"
   ]
  },
  {
   "cell_type": "code",
   "execution_count": 12,
   "metadata": {
    "ExecuteTime": {
     "end_time": "2018-06-03T11:40:31.075966Z",
     "start_time": "2018-06-03T11:40:31.068950Z"
    }
   },
   "outputs": [
    {
     "data": {
      "text/plain": [
       "{(0, 0)}"
      ]
     },
     "execution_count": 12,
     "metadata": {},
     "output_type": "execute_result"
    }
   ],
   "source": [
    "writer2.get_bond_patterns()"
   ]
  },
  {
   "cell_type": "code",
   "execution_count": 13,
   "metadata": {
    "ExecuteTime": {
     "end_time": "2018-06-03T11:40:31.293715Z",
     "start_time": "2018-06-03T11:40:31.286181Z"
    }
   },
   "outputs": [
    {
     "data": {
      "text/plain": [
       "set()"
      ]
     },
     "execution_count": 13,
     "metadata": {},
     "output_type": "execute_result"
    }
   ],
   "source": [
    "writer2.get_angle_patterns()"
   ]
  },
  {
   "cell_type": "code",
   "execution_count": 14,
   "metadata": {
    "ExecuteTime": {
     "end_time": "2018-06-03T11:40:31.786394Z",
     "start_time": "2018-06-03T11:40:31.779642Z"
    }
   },
   "outputs": [
    {
     "name": "stdout",
     "output_type": "stream",
     "text": [
      "LammpsBonds: 'type' have been set\n"
     ]
    }
   ],
   "source": [
    "writer2.set_bond_types({(0, 0): 1})"
   ]
  },
  {
   "cell_type": "code",
   "execution_count": 15,
   "metadata": {
    "ExecuteTime": {
     "end_time": "2018-06-03T11:40:33.317381Z",
     "start_time": "2018-06-03T11:40:33.309525Z"
    }
   },
   "outputs": [
    {
     "data": {
      "text/plain": [
       "set()"
      ]
     },
     "execution_count": 15,
     "metadata": {},
     "output_type": "execute_result"
    }
   ],
   "source": [
    "writer2.get_required_datanames_for_molecule()"
   ]
  },
  {
   "cell_type": "code",
   "execution_count": 16,
   "metadata": {
    "ExecuteTime": {
     "end_time": "2018-06-03T11:40:34.009840Z",
     "start_time": "2018-06-03T11:40:33.975756Z"
    }
   },
   "outputs": [
    {
     "name": "stdout",
     "output_type": "stream",
     "text": [
      "'Coords' section was written\n",
      "'Types' section was written\n",
      "'Bonds' section was written\n",
      "'Special Bond Counts' and 'Special Bonds' section was written\n"
     ]
    }
   ],
   "source": [
    "writer2.write_lammps_molecule(\"molecule.N2\")"
   ]
  },
  {
   "cell_type": "code",
   "execution_count": 17,
   "metadata": {
    "ExecuteTime": {
     "end_time": "2018-06-03T11:40:50.086158Z",
     "start_time": "2018-06-03T11:40:50.078904Z"
    }
   },
   "outputs": [
    {
     "data": {
      "text/plain": [
       "1"
      ]
     },
     "execution_count": 17,
     "metadata": {},
     "output_type": "execute_result"
    }
   ],
   "source": [
    "writer2.get_max_bonds_per_atom()"
   ]
  },
  {
   "cell_type": "code",
   "execution_count": null,
   "metadata": {},
   "outputs": [],
   "source": []
  }
 ],
 "metadata": {
  "kernelspec": {
   "display_name": "Python 3",
   "language": "python",
   "name": "python3"
  },
  "language_info": {
   "codemirror_mode": {
    "name": "ipython",
    "version": 3
   },
   "file_extension": ".py",
   "mimetype": "text/x-python",
   "name": "python",
   "nbconvert_exporter": "python",
   "pygments_lexer": "ipython3",
   "version": "3.6.5"
  },
  "toc": {
   "base_numbering": 1,
   "nav_menu": {},
   "number_sections": true,
   "sideBar": true,
   "skip_h1_title": true,
   "title_cell": "Table of Contents",
   "title_sidebar": "Contents",
   "toc_cell": false,
   "toc_position": {},
   "toc_section_display": true,
   "toc_window_display": false
  }
 },
 "nbformat": 4,
 "nbformat_minor": 2
}
