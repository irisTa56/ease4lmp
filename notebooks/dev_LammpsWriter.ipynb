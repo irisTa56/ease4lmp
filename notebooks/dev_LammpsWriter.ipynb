{
 "cells": [
  {
   "cell_type": "code",
   "execution_count": 1,
   "metadata": {
    "ExecuteTime": {
     "end_time": "2018-06-03T06:31:21.811168Z",
     "start_time": "2018-06-03T06:31:21.599500Z"
    }
   },
   "outputs": [],
   "source": [
    "from ase.build import fcc111\n",
    "from ease4lmp import BondedAtoms, LammpsWriter"
   ]
  },
  {
   "cell_type": "code",
   "execution_count": 2,
   "metadata": {
    "ExecuteTime": {
     "end_time": "2018-06-03T06:31:22.327192Z",
     "start_time": "2018-06-03T06:31:22.316204Z"
    }
   },
   "outputs": [],
   "source": [
    "slab = fcc111('Cu', size=(4, 4, 2), vacuum=10.0)"
   ]
  },
  {
   "cell_type": "code",
   "execution_count": 3,
   "metadata": {
    "ExecuteTime": {
     "end_time": "2018-06-03T06:31:22.730871Z",
     "start_time": "2018-06-03T06:31:22.712419Z"
    }
   },
   "outputs": [
    {
     "data": {
      "text/plain": [
       "ase.atoms.Atoms"
      ]
     },
     "execution_count": 3,
     "metadata": {},
     "output_type": "execute_result"
    }
   ],
   "source": [
    "type(slab)"
   ]
  },
  {
   "cell_type": "code",
   "execution_count": 4,
   "metadata": {
    "ExecuteTime": {
     "end_time": "2018-06-03T06:31:22.993057Z",
     "start_time": "2018-06-03T06:31:22.988562Z"
    }
   },
   "outputs": [],
   "source": [
    "slab = BondedAtoms.inherit(slab)"
   ]
  },
  {
   "cell_type": "code",
   "execution_count": 5,
   "metadata": {
    "ExecuteTime": {
     "end_time": "2018-06-03T06:31:23.397313Z",
     "start_time": "2018-06-03T06:31:23.383819Z"
    }
   },
   "outputs": [
    {
     "name": "stdout",
     "output_type": "stream",
     "text": [
      "LammpsAtoms: 'id' have been set\n",
      "LammpsAtoms: 'x' have been set\n",
      "LammpsAtoms: 'y' have been set\n",
      "LammpsAtoms: 'z' have been set\n",
      "LammpsAtoms: 'type' have been set\n"
     ]
    }
   ],
   "source": [
    "writer = LammpsWriter(slab, atom_style=\"atomic\")"
   ]
  },
  {
   "cell_type": "code",
   "execution_count": 6,
   "metadata": {
    "ExecuteTime": {
     "end_time": "2018-06-03T06:31:24.487721Z",
     "start_time": "2018-06-03T06:31:24.479219Z"
    }
   },
   "outputs": [
    {
     "data": {
      "text/plain": [
       "set()"
      ]
     },
     "execution_count": 6,
     "metadata": {},
     "output_type": "execute_result"
    }
   ],
   "source": [
    "writer.get_required_atom_datanames()"
   ]
  },
  {
   "cell_type": "code",
   "execution_count": 7,
   "metadata": {
    "ExecuteTime": {
     "end_time": "2018-06-03T06:31:25.489326Z",
     "start_time": "2018-06-03T06:31:25.470197Z"
    }
   },
   "outputs": [
    {
     "name": "stdout",
     "output_type": "stream",
     "text": [
      "'Masses' section was written\n",
      "'Atoms' section was written\n"
     ]
    }
   ],
   "source": [
    "writer.write_lammps_data(\"data.Cu\", mass=True)"
   ]
  },
  {
   "cell_type": "code",
   "execution_count": 8,
   "metadata": {
    "ExecuteTime": {
     "end_time": "2018-06-03T06:31:29.939667Z",
     "start_time": "2018-06-03T06:31:29.933528Z"
    }
   },
   "outputs": [],
   "source": [
    "molecule = BondedAtoms('2N', positions=[(0., 0., 0.), (0., 0., 1.10)])"
   ]
  },
  {
   "cell_type": "code",
   "execution_count": 9,
   "metadata": {
    "ExecuteTime": {
     "end_time": "2018-06-03T06:31:35.464151Z",
     "start_time": "2018-06-03T06:31:35.453570Z"
    }
   },
   "outputs": [],
   "source": [
    "molecule.set_cell([\n",
    "    [5., 0., 0.], [0., 5., 0.], [0., 0., 5.]])\n",
    "molecule.center()"
   ]
  },
  {
   "cell_type": "code",
   "execution_count": 10,
   "metadata": {
    "ExecuteTime": {
     "end_time": "2018-06-03T06:31:45.035309Z",
     "start_time": "2018-06-03T06:31:45.031152Z"
    }
   },
   "outputs": [],
   "source": [
    "molecule.add_bond(0, 1)"
   ]
  },
  {
   "cell_type": "code",
   "execution_count": 11,
   "metadata": {
    "ExecuteTime": {
     "end_time": "2018-06-03T06:31:46.767529Z",
     "start_time": "2018-06-03T06:31:46.757289Z"
    }
   },
   "outputs": [
    {
     "name": "stdout",
     "output_type": "stream",
     "text": [
      "LammpsAtoms: 'id' have been set\n",
      "LammpsAtoms: 'x' have been set\n",
      "LammpsAtoms: 'y' have been set\n",
      "LammpsAtoms: 'z' have been set\n",
      "LammpsAtoms: 'type' have been set\n",
      "LammpsBonds: 'id' have been set\n",
      "LammpsBonds: 'atom1' have been set\n",
      "LammpsBonds: 'atom2' have been set\n"
     ]
    }
   ],
   "source": [
    "writer2 = LammpsWriter(molecule, atom_style=\"molecular\")"
   ]
  },
  {
   "cell_type": "code",
   "execution_count": 12,
   "metadata": {
    "ExecuteTime": {
     "end_time": "2018-06-03T06:32:07.792267Z",
     "start_time": "2018-06-03T06:32:07.784527Z"
    }
   },
   "outputs": [
    {
     "data": {
      "text/plain": [
       "{(0, 0)}"
      ]
     },
     "execution_count": 12,
     "metadata": {},
     "output_type": "execute_result"
    }
   ],
   "source": [
    "writer2.get_bond_sequence_patterns()"
   ]
  },
  {
   "cell_type": "code",
   "execution_count": 13,
   "metadata": {
    "ExecuteTime": {
     "end_time": "2018-06-03T06:32:11.171026Z",
     "start_time": "2018-06-03T06:32:11.160553Z"
    }
   },
   "outputs": [
    {
     "name": "stdout",
     "output_type": "stream",
     "text": [
      "LammpsBonds: 'type' have been set\n"
     ]
    }
   ],
   "source": [
    "writer2.set_bond_types({(0, 0): 1})"
   ]
  },
  {
   "cell_type": "code",
   "execution_count": 14,
   "metadata": {
    "ExecuteTime": {
     "end_time": "2018-06-03T06:32:14.031686Z",
     "start_time": "2018-06-03T06:32:14.024936Z"
    }
   },
   "outputs": [
    {
     "data": {
      "text/plain": [
       "{'mol'}"
      ]
     },
     "execution_count": 14,
     "metadata": {},
     "output_type": "execute_result"
    }
   ],
   "source": [
    "writer2.get_required_atom_datanames()"
   ]
  },
  {
   "cell_type": "code",
   "execution_count": 15,
   "metadata": {
    "ExecuteTime": {
     "end_time": "2018-06-03T06:32:16.875707Z",
     "start_time": "2018-06-03T06:32:16.868489Z"
    }
   },
   "outputs": [
    {
     "name": "stdout",
     "output_type": "stream",
     "text": [
      "LammpsAtoms: 'mol' have been set\n"
     ]
    }
   ],
   "source": [
    "writer2.set_atom_data(mol=[1,1])"
   ]
  },
  {
   "cell_type": "code",
   "execution_count": 16,
   "metadata": {
    "ExecuteTime": {
     "end_time": "2018-06-03T06:32:18.286931Z",
     "start_time": "2018-06-03T06:32:18.262411Z"
    }
   },
   "outputs": [
    {
     "name": "stdout",
     "output_type": "stream",
     "text": [
      "'Masses' section was written\n",
      "'Atoms' section was written\n",
      "'Bonds' section was written\n"
     ]
    }
   ],
   "source": [
    "writer2.write_lammps_data(\"data.N2\", mass=True)"
   ]
  },
  {
   "cell_type": "code",
   "execution_count": null,
   "metadata": {},
   "outputs": [],
   "source": []
  }
 ],
 "metadata": {
  "kernelspec": {
   "display_name": "Python 3",
   "language": "python",
   "name": "python3"
  },
  "language_info": {
   "codemirror_mode": {
    "name": "ipython",
    "version": 3
   },
   "file_extension": ".py",
   "mimetype": "text/x-python",
   "name": "python",
   "nbconvert_exporter": "python",
   "pygments_lexer": "ipython3",
   "version": "3.6.5"
  },
  "toc": {
   "base_numbering": 1,
   "nav_menu": {},
   "number_sections": true,
   "sideBar": true,
   "skip_h1_title": true,
   "title_cell": "Table of Contents",
   "title_sidebar": "Contents",
   "toc_cell": false,
   "toc_position": {},
   "toc_section_display": true,
   "toc_window_display": false
  }
 },
 "nbformat": 4,
 "nbformat_minor": 2
}
