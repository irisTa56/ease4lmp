{
 "cells": [
  {
   "cell_type": "code",
   "execution_count": 1,
   "metadata": {
    "ExecuteTime": {
     "end_time": "2018-06-05T04:09:24.498260Z",
     "start_time": "2018-06-05T04:09:24.290664Z"
    }
   },
   "outputs": [],
   "source": [
    "from ase.build import fcc111\n",
    "from ease4lmp import BondedAtoms, LammpsWriter"
   ]
  },
  {
   "cell_type": "markdown",
   "metadata": {
    "heading_collapsed": true
   },
   "source": [
    "## Cu"
   ]
  },
  {
   "cell_type": "code",
   "execution_count": 2,
   "metadata": {
    "ExecuteTime": {
     "end_time": "2018-06-05T03:46:56.061827Z",
     "start_time": "2018-06-05T03:46:56.044170Z"
    },
    "hidden": true
   },
   "outputs": [],
   "source": [
    "slab = fcc111('Cu', size=(4, 4, 2), vacuum=10.0)"
   ]
  },
  {
   "cell_type": "code",
   "execution_count": 3,
   "metadata": {
    "ExecuteTime": {
     "end_time": "2018-06-05T03:46:56.486551Z",
     "start_time": "2018-06-05T03:46:56.464383Z"
    },
    "hidden": true
   },
   "outputs": [
    {
     "data": {
      "text/plain": [
       "ase.atoms.Atoms"
      ]
     },
     "execution_count": 3,
     "metadata": {},
     "output_type": "execute_result"
    }
   ],
   "source": [
    "type(slab)"
   ]
  },
  {
   "cell_type": "code",
   "execution_count": 4,
   "metadata": {
    "ExecuteTime": {
     "end_time": "2018-06-05T03:46:56.929142Z",
     "start_time": "2018-06-05T03:46:56.918323Z"
    },
    "hidden": true
   },
   "outputs": [],
   "source": [
    "slab = BondedAtoms.inherit(slab)"
   ]
  },
  {
   "cell_type": "code",
   "execution_count": 5,
   "metadata": {
    "ExecuteTime": {
     "end_time": "2018-06-05T03:46:57.353673Z",
     "start_time": "2018-06-05T03:46:57.345673Z"
    },
    "hidden": true
   },
   "outputs": [
    {
     "name": "stdout",
     "output_type": "stream",
     "text": [
      "LammpsAtoms: 'id' have been set\n",
      "LammpsAtoms: 'x' have been set\n",
      "LammpsAtoms: 'y' have been set\n",
      "LammpsAtoms: 'z' have been set\n",
      "LammpsAtoms: 'type' have been set\n"
     ]
    }
   ],
   "source": [
    "writer = LammpsWriter(slab, atom_style=\"atomic\")"
   ]
  },
  {
   "cell_type": "code",
   "execution_count": 6,
   "metadata": {
    "ExecuteTime": {
     "end_time": "2018-06-05T03:46:57.790052Z",
     "start_time": "2018-06-05T03:46:57.781997Z"
    },
    "hidden": true
   },
   "outputs": [
    {
     "data": {
      "text/plain": [
       "set()"
      ]
     },
     "execution_count": 6,
     "metadata": {},
     "output_type": "execute_result"
    }
   ],
   "source": [
    "writer.get_required_datanames()"
   ]
  },
  {
   "cell_type": "code",
   "execution_count": 7,
   "metadata": {
    "ExecuteTime": {
     "end_time": "2018-06-05T03:46:57.990987Z",
     "start_time": "2018-06-05T03:46:57.952439Z"
    },
    "hidden": true
   },
   "outputs": [
    {
     "name": "stdout",
     "output_type": "stream",
     "text": [
      "'Masses' section was written\n",
      "'Atoms' section was written\n"
     ]
    }
   ],
   "source": [
    "writer.write_lammps_data(\"data.Cu\", mass=True)"
   ]
  },
  {
   "cell_type": "markdown",
   "metadata": {
    "heading_collapsed": true
   },
   "source": [
    "## N2"
   ]
  },
  {
   "cell_type": "code",
   "execution_count": 8,
   "metadata": {
    "ExecuteTime": {
     "end_time": "2018-06-05T03:46:58.303563Z",
     "start_time": "2018-06-05T03:46:58.296594Z"
    },
    "hidden": true
   },
   "outputs": [],
   "source": [
    "molecule = BondedAtoms('2N', positions=[(0., 0., 0.), (0., 0., 1.10)])"
   ]
  },
  {
   "cell_type": "code",
   "execution_count": 9,
   "metadata": {
    "ExecuteTime": {
     "end_time": "2018-06-05T03:47:00.042276Z",
     "start_time": "2018-06-05T03:47:00.030168Z"
    },
    "hidden": true
   },
   "outputs": [],
   "source": [
    "molecule.set_cell([[5., 0., 0.], [0., 5., 0.], [0., 0., 5.]])\n",
    "molecule.center()"
   ]
  },
  {
   "cell_type": "code",
   "execution_count": 10,
   "metadata": {
    "ExecuteTime": {
     "end_time": "2018-06-05T03:47:00.273238Z",
     "start_time": "2018-06-05T03:47:00.265857Z"
    },
    "hidden": true
   },
   "outputs": [],
   "source": [
    "molecule.add_bond(0, 1)"
   ]
  },
  {
   "cell_type": "code",
   "execution_count": 11,
   "metadata": {
    "ExecuteTime": {
     "end_time": "2018-06-05T03:47:00.473919Z",
     "start_time": "2018-06-05T03:47:00.464051Z"
    },
    "hidden": true
   },
   "outputs": [
    {
     "name": "stdout",
     "output_type": "stream",
     "text": [
      "LammpsAtoms: 'id' have been set\n",
      "LammpsAtoms: 'x' have been set\n",
      "LammpsAtoms: 'y' have been set\n",
      "LammpsAtoms: 'z' have been set\n",
      "LammpsAtoms: 'type' have been set\n",
      "LammpsBonds: 'id' have been set\n",
      "LammpsBonds: 'atom1' have been set\n",
      "LammpsBonds: 'atom2' have been set\n"
     ]
    }
   ],
   "source": [
    "writer2 = LammpsWriter(molecule, atom_style=\"molecular\", special_bonds=True)"
   ]
  },
  {
   "cell_type": "code",
   "execution_count": 12,
   "metadata": {
    "ExecuteTime": {
     "end_time": "2018-06-05T03:47:00.678819Z",
     "start_time": "2018-06-05T03:47:00.667069Z"
    },
    "hidden": true
   },
   "outputs": [
    {
     "data": {
      "text/plain": [
       "{(0, 0)}"
      ]
     },
     "execution_count": 12,
     "metadata": {},
     "output_type": "execute_result"
    }
   ],
   "source": [
    "writer2.get_bond_patterns()"
   ]
  },
  {
   "cell_type": "code",
   "execution_count": 13,
   "metadata": {
    "ExecuteTime": {
     "end_time": "2018-06-05T03:47:00.932958Z",
     "start_time": "2018-06-05T03:47:00.924831Z"
    },
    "hidden": true
   },
   "outputs": [
    {
     "name": "stdout",
     "output_type": "stream",
     "text": [
      "LammpsBonds: 'type' have been set\n"
     ]
    }
   ],
   "source": [
    "writer2.set_bond_types({(0, 0): 1})"
   ]
  },
  {
   "cell_type": "code",
   "execution_count": 14,
   "metadata": {
    "ExecuteTime": {
     "end_time": "2018-06-05T03:47:01.367390Z",
     "start_time": "2018-06-05T03:47:01.353634Z"
    },
    "hidden": true
   },
   "outputs": [
    {
     "data": {
      "text/plain": [
       "set()"
      ]
     },
     "execution_count": 14,
     "metadata": {},
     "output_type": "execute_result"
    }
   ],
   "source": [
    "writer2.get_required_datanames_for_molecule()"
   ]
  },
  {
   "cell_type": "code",
   "execution_count": 15,
   "metadata": {
    "ExecuteTime": {
     "end_time": "2018-06-05T03:47:01.826519Z",
     "start_time": "2018-06-05T03:47:01.804039Z"
    },
    "hidden": true
   },
   "outputs": [
    {
     "name": "stdout",
     "output_type": "stream",
     "text": [
      "'Coords' section was written\n",
      "'Types' section was written\n",
      "'Bonds' section was written\n",
      "'Special Bond Counts' and 'Special Bonds' section was written\n"
     ]
    }
   ],
   "source": [
    "writer2.write_lammps_molecule(\"molecule.N2\")"
   ]
  },
  {
   "cell_type": "code",
   "execution_count": 16,
   "metadata": {
    "ExecuteTime": {
     "end_time": "2018-06-05T03:47:05.170558Z",
     "start_time": "2018-06-05T03:47:05.164209Z"
    },
    "hidden": true
   },
   "outputs": [
    {
     "name": "stdout",
     "output_type": "stream",
     "text": [
      "You might need to set 'extra/bond/per/atom' to: 1\n"
     ]
    }
   ],
   "source": [
    "writer2.get_max_bonds_per_atom()"
   ]
  },
  {
   "cell_type": "markdown",
   "metadata": {
    "heading_collapsed": true
   },
   "source": [
    "## Methanol"
   ]
  },
  {
   "cell_type": "code",
   "execution_count": 2,
   "metadata": {
    "ExecuteTime": {
     "end_time": "2018-06-05T04:09:27.155201Z",
     "start_time": "2018-06-05T04:09:27.145829Z"
    },
    "hidden": true
   },
   "outputs": [],
   "source": [
    "from ase.build import molecule"
   ]
  },
  {
   "cell_type": "code",
   "execution_count": 3,
   "metadata": {
    "ExecuteTime": {
     "end_time": "2018-06-05T04:09:27.751153Z",
     "start_time": "2018-06-05T04:09:27.725770Z"
    },
    "hidden": true
   },
   "outputs": [],
   "source": [
    "methanol = BondedAtoms.inherit(molecule(\"CH3OH\"))"
   ]
  },
  {
   "cell_type": "code",
   "execution_count": 4,
   "metadata": {
    "ExecuteTime": {
     "end_time": "2018-06-05T04:09:27.933433Z",
     "start_time": "2018-06-05T04:09:27.918976Z"
    },
    "hidden": true
   },
   "outputs": [],
   "source": [
    "bond_list = [(0, 1), (0, 2), (0, 4), (0, 5), (1, 3)]\n",
    "for t in bond_list:\n",
    "    methanol.add_bond(*t)"
   ]
  },
  {
   "cell_type": "code",
   "execution_count": 5,
   "metadata": {
    "ExecuteTime": {
     "end_time": "2018-06-05T04:09:28.095419Z",
     "start_time": "2018-06-05T04:09:28.083953Z"
    },
    "hidden": true
   },
   "outputs": [],
   "source": [
    "methanol.set_tags([1, 2, 4, 3, 4, 4])"
   ]
  },
  {
   "cell_type": "code",
   "execution_count": 6,
   "metadata": {
    "ExecuteTime": {
     "end_time": "2018-06-05T04:09:28.271766Z",
     "start_time": "2018-06-05T04:09:28.253927Z"
    },
    "hidden": true
   },
   "outputs": [],
   "source": [
    "methanol.set_cell([[10., 0., 0.], [0., 10., 0.], [0., 0., 10.]])\n",
    "methanol.center()"
   ]
  },
  {
   "cell_type": "code",
   "execution_count": 7,
   "metadata": {
    "ExecuteTime": {
     "end_time": "2018-06-05T04:09:28.744693Z",
     "start_time": "2018-06-05T04:09:28.719849Z"
    },
    "hidden": true
   },
   "outputs": [
    {
     "name": "stdout",
     "output_type": "stream",
     "text": [
      "LammpsAtoms: 'id' have been set\n",
      "LammpsAtoms: 'x' have been set\n",
      "LammpsAtoms: 'y' have been set\n",
      "LammpsAtoms: 'z' have been set\n",
      "LammpsAtoms: 'type' have been set\n",
      "LammpsBonds: 'id' have been set\n",
      "LammpsBonds: 'atom1' have been set\n",
      "LammpsBonds: 'atom2' have been set\n",
      "LammpsAngles: 'id' have been set\n",
      "LammpsAngles: 'atom1' have been set\n",
      "LammpsAngles: 'atom2' have been set\n",
      "LammpsAngles: 'atom3' have been set\n",
      "LammpsDihedrals: 'id' have been set\n",
      "LammpsDihedrals: 'atom1' have been set\n",
      "LammpsDihedrals: 'atom2' have been set\n",
      "LammpsDihedrals: 'atom3' have been set\n",
      "LammpsDihedrals: 'atom4' have been set\n",
      "LammpsImpropers: 'id' have been set\n",
      "LammpsImpropers: 'atom1' have been set\n",
      "LammpsImpropers: 'atom2' have been set\n",
      "LammpsImpropers: 'atom3' have been set\n",
      "LammpsImpropers: 'atom4' have been set\n"
     ]
    }
   ],
   "source": [
    "writer3 = LammpsWriter(methanol, atom_style=\"molecular\", special_bonds=True)"
   ]
  },
  {
   "cell_type": "code",
   "execution_count": 8,
   "metadata": {
    "ExecuteTime": {
     "end_time": "2018-06-05T04:09:32.347398Z",
     "start_time": "2018-06-05T04:09:32.325182Z"
    },
    "hidden": true
   },
   "outputs": [
    {
     "data": {
      "text/plain": [
       "set()"
      ]
     },
     "execution_count": 8,
     "metadata": {},
     "output_type": "execute_result"
    }
   ],
   "source": [
    "writer3.get_required_datanames_for_molecule()"
   ]
  },
  {
   "cell_type": "code",
   "execution_count": 9,
   "metadata": {
    "ExecuteTime": {
     "end_time": "2018-06-05T04:09:32.908906Z",
     "start_time": "2018-06-05T04:09:32.897759Z"
    },
    "hidden": true
   },
   "outputs": [
    {
     "data": {
      "text/plain": [
       "{(1, 2), (1, 4), (2, 3)}"
      ]
     },
     "execution_count": 9,
     "metadata": {},
     "output_type": "execute_result"
    }
   ],
   "source": [
    "writer3.get_bond_patterns()"
   ]
  },
  {
   "cell_type": "code",
   "execution_count": 10,
   "metadata": {
    "ExecuteTime": {
     "end_time": "2018-06-05T04:09:33.397679Z",
     "start_time": "2018-06-05T04:09:33.387579Z"
    },
    "hidden": true
   },
   "outputs": [
    {
     "name": "stdout",
     "output_type": "stream",
     "text": [
      "LammpsBonds: 'type' have been set\n"
     ]
    }
   ],
   "source": [
    "writer3.set_bond_types({(1, 2): 1, (1, 4): 2, (2, 3): 3})"
   ]
  },
  {
   "cell_type": "code",
   "execution_count": 11,
   "metadata": {
    "ExecuteTime": {
     "end_time": "2018-06-05T04:09:33.747130Z",
     "start_time": "2018-06-05T04:09:33.740548Z"
    },
    "hidden": true
   },
   "outputs": [
    {
     "data": {
      "text/plain": [
       "{(1, 2, 3), (2, 1, 4), (4, 1, 4)}"
      ]
     },
     "execution_count": 11,
     "metadata": {},
     "output_type": "execute_result"
    }
   ],
   "source": [
    "writer3.get_angle_patterns()"
   ]
  },
  {
   "cell_type": "code",
   "execution_count": 12,
   "metadata": {
    "ExecuteTime": {
     "end_time": "2018-06-05T04:09:33.945531Z",
     "start_time": "2018-06-05T04:09:33.934524Z"
    },
    "hidden": true
   },
   "outputs": [
    {
     "name": "stdout",
     "output_type": "stream",
     "text": [
      "LammpsAngles: 'type' have been set\n"
     ]
    }
   ],
   "source": [
    "writer3.set_angle_types({(1, 2, 3): 1, (2, 1, 4): 2, (4, 1, 4): 3})"
   ]
  },
  {
   "cell_type": "code",
   "execution_count": 13,
   "metadata": {
    "ExecuteTime": {
     "end_time": "2018-06-05T04:09:35.517885Z",
     "start_time": "2018-06-05T04:09:35.506988Z"
    },
    "hidden": true
   },
   "outputs": [
    {
     "data": {
      "text/plain": [
       "{(4, 1, 2, 3)}"
      ]
     },
     "execution_count": 13,
     "metadata": {},
     "output_type": "execute_result"
    }
   ],
   "source": [
    "writer3.get_dihedral_patterns()"
   ]
  },
  {
   "cell_type": "code",
   "execution_count": 14,
   "metadata": {
    "ExecuteTime": {
     "end_time": "2018-06-05T04:09:36.000853Z",
     "start_time": "2018-06-05T04:09:35.989562Z"
    },
    "hidden": true
   },
   "outputs": [
    {
     "name": "stdout",
     "output_type": "stream",
     "text": [
      "LammpsDihedrals: 'type' have been set\n"
     ]
    }
   ],
   "source": [
    "writer3.set_dihedral_types({(4, 1, 2, 3): 1})"
   ]
  },
  {
   "cell_type": "code",
   "execution_count": 15,
   "metadata": {
    "ExecuteTime": {
     "end_time": "2018-06-05T04:09:36.702206Z",
     "start_time": "2018-06-05T04:09:36.687974Z"
    },
    "hidden": true
   },
   "outputs": [
    {
     "data": {
      "text/plain": [
       "{(1, 2, 4, 4), (1, 4, 4, 4)}"
      ]
     },
     "execution_count": 15,
     "metadata": {},
     "output_type": "execute_result"
    }
   ],
   "source": [
    "writer3.get_improper_patterns()"
   ]
  },
  {
   "cell_type": "code",
   "execution_count": 16,
   "metadata": {
    "ExecuteTime": {
     "end_time": "2018-06-05T04:09:38.327300Z",
     "start_time": "2018-06-05T04:09:38.317086Z"
    },
    "hidden": true
   },
   "outputs": [
    {
     "name": "stdout",
     "output_type": "stream",
     "text": [
      "LammpsImpropers: 'type' have been set\n"
     ]
    }
   ],
   "source": [
    "writer3.set_improper_types({(1, 2, 4, 4): 1, (1, 4, 4, 4): 2})"
   ]
  },
  {
   "cell_type": "code",
   "execution_count": 17,
   "metadata": {
    "ExecuteTime": {
     "end_time": "2018-06-05T04:09:39.908305Z",
     "start_time": "2018-06-05T04:09:39.864054Z"
    },
    "hidden": true
   },
   "outputs": [
    {
     "name": "stdout",
     "output_type": "stream",
     "text": [
      "'Coords' section was written\n",
      "'Types' section was written\n",
      "'Bonds' section was written\n",
      "'Angles' section was written\n",
      "'Dihedrals' section was written\n",
      "'Impropers' section was written\n",
      "'Special Bond Counts' and 'Special Bonds' section was written\n"
     ]
    }
   ],
   "source": [
    "writer3.write_lammps_molecule(\"molecule.CH3OH\")"
   ]
  },
  {
   "cell_type": "markdown",
   "metadata": {},
   "source": [
    "## *"
   ]
  },
  {
   "cell_type": "code",
   "execution_count": null,
   "metadata": {},
   "outputs": [],
   "source": []
  }
 ],
 "metadata": {
  "kernelspec": {
   "display_name": "Python 3",
   "language": "python",
   "name": "python3"
  },
  "language_info": {
   "codemirror_mode": {
    "name": "ipython",
    "version": 3
   },
   "file_extension": ".py",
   "mimetype": "text/x-python",
   "name": "python",
   "nbconvert_exporter": "python",
   "pygments_lexer": "ipython3",
   "version": "3.6.5"
  },
  "toc": {
   "base_numbering": 1,
   "nav_menu": {},
   "number_sections": true,
   "sideBar": true,
   "skip_h1_title": true,
   "title_cell": "Table of Contents",
   "title_sidebar": "Contents",
   "toc_cell": false,
   "toc_position": {},
   "toc_section_display": true,
   "toc_window_display": false
  }
 },
 "nbformat": 4,
 "nbformat_minor": 2
}
