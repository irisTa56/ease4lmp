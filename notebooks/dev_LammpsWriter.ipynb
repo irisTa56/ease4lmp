{
 "cells": [
  {
   "cell_type": "code",
   "execution_count": 1,
   "metadata": {
    "ExecuteTime": {
     "end_time": "2018-06-05T02:51:34.401114Z",
     "start_time": "2018-06-05T02:51:34.197427Z"
    }
   },
   "outputs": [],
   "source": [
    "from ase.build import fcc111\n",
    "from ease4lmp import BondedAtoms, LammpsWriter"
   ]
  },
  {
   "cell_type": "code",
   "execution_count": 2,
   "metadata": {
    "ExecuteTime": {
     "end_time": "2018-06-05T02:51:36.721685Z",
     "start_time": "2018-06-05T02:51:36.706264Z"
    }
   },
   "outputs": [],
   "source": [
    "slab = fcc111('Cu', size=(4, 4, 2), vacuum=10.0)"
   ]
  },
  {
   "cell_type": "code",
   "execution_count": 3,
   "metadata": {
    "ExecuteTime": {
     "end_time": "2018-06-05T02:51:37.369784Z",
     "start_time": "2018-06-05T02:51:37.348029Z"
    }
   },
   "outputs": [
    {
     "data": {
      "text/plain": [
       "ase.atoms.Atoms"
      ]
     },
     "execution_count": 3,
     "metadata": {},
     "output_type": "execute_result"
    }
   ],
   "source": [
    "type(slab)"
   ]
  },
  {
   "cell_type": "code",
   "execution_count": 4,
   "metadata": {
    "ExecuteTime": {
     "end_time": "2018-06-05T02:51:39.091934Z",
     "start_time": "2018-06-05T02:51:39.083892Z"
    }
   },
   "outputs": [],
   "source": [
    "slab = BondedAtoms.inherit(slab)"
   ]
  },
  {
   "cell_type": "code",
   "execution_count": 5,
   "metadata": {
    "ExecuteTime": {
     "end_time": "2018-06-05T02:51:40.045265Z",
     "start_time": "2018-06-05T02:51:40.035038Z"
    }
   },
   "outputs": [
    {
     "name": "stdout",
     "output_type": "stream",
     "text": [
      "LammpsAtoms: 'id' have been set\n",
      "LammpsAtoms: 'x' have been set\n",
      "LammpsAtoms: 'y' have been set\n",
      "LammpsAtoms: 'z' have been set\n",
      "LammpsAtoms: 'type' have been set\n"
     ]
    }
   ],
   "source": [
    "writer = LammpsWriter(slab, atom_style=\"atomic\")"
   ]
  },
  {
   "cell_type": "code",
   "execution_count": 6,
   "metadata": {
    "ExecuteTime": {
     "end_time": "2018-06-05T02:52:02.426300Z",
     "start_time": "2018-06-05T02:52:02.418296Z"
    }
   },
   "outputs": [
    {
     "data": {
      "text/plain": [
       "set()"
      ]
     },
     "execution_count": 6,
     "metadata": {},
     "output_type": "execute_result"
    }
   ],
   "source": [
    "writer.get_required_datanames()"
   ]
  },
  {
   "cell_type": "code",
   "execution_count": 7,
   "metadata": {
    "ExecuteTime": {
     "end_time": "2018-06-05T02:52:06.188612Z",
     "start_time": "2018-06-05T02:52:06.164485Z"
    }
   },
   "outputs": [
    {
     "name": "stdout",
     "output_type": "stream",
     "text": [
      "'Masses' section was written\n",
      "'Atoms' section was written\n"
     ]
    }
   ],
   "source": [
    "writer.write_lammps_data(\"data.Cu\", mass=True)"
   ]
  },
  {
   "cell_type": "code",
   "execution_count": 8,
   "metadata": {
    "ExecuteTime": {
     "end_time": "2018-06-05T02:53:14.024888Z",
     "start_time": "2018-06-05T02:53:14.020105Z"
    }
   },
   "outputs": [],
   "source": [
    "molecule = BondedAtoms('2N', positions=[(0., 0., 0.), (0., 0., 1.10)])"
   ]
  },
  {
   "cell_type": "code",
   "execution_count": 9,
   "metadata": {
    "ExecuteTime": {
     "end_time": "2018-06-05T02:53:14.961606Z",
     "start_time": "2018-06-05T02:53:14.956832Z"
    }
   },
   "outputs": [],
   "source": [
    "molecule.set_cell([\n",
    "    [5., 0., 0.], [0., 5., 0.], [0., 0., 5.]])\n",
    "molecule.center()"
   ]
  },
  {
   "cell_type": "code",
   "execution_count": 10,
   "metadata": {
    "ExecuteTime": {
     "end_time": "2018-06-05T02:53:17.306658Z",
     "start_time": "2018-06-05T02:53:17.301483Z"
    }
   },
   "outputs": [],
   "source": [
    "molecule.add_bond(0, 1)"
   ]
  },
  {
   "cell_type": "code",
   "execution_count": 11,
   "metadata": {
    "ExecuteTime": {
     "end_time": "2018-06-05T02:53:18.922332Z",
     "start_time": "2018-06-05T02:53:18.908109Z"
    }
   },
   "outputs": [
    {
     "name": "stdout",
     "output_type": "stream",
     "text": [
      "LammpsAtoms: 'id' have been set\n",
      "LammpsAtoms: 'x' have been set\n",
      "LammpsAtoms: 'y' have been set\n",
      "LammpsAtoms: 'z' have been set\n",
      "LammpsAtoms: 'type' have been set\n",
      "LammpsBonds: 'id' have been set\n",
      "LammpsBonds: 'atom1' have been set\n",
      "LammpsBonds: 'atom2' have been set\n"
     ]
    }
   ],
   "source": [
    "writer2 = LammpsWriter(molecule, atom_style=\"molecular\", special_bonds=True)"
   ]
  },
  {
   "cell_type": "code",
   "execution_count": 12,
   "metadata": {
    "ExecuteTime": {
     "end_time": "2018-06-05T02:53:23.179584Z",
     "start_time": "2018-06-05T02:53:23.172675Z"
    }
   },
   "outputs": [
    {
     "data": {
      "text/plain": [
       "{(0, 0)}"
      ]
     },
     "execution_count": 12,
     "metadata": {},
     "output_type": "execute_result"
    }
   ],
   "source": [
    "writer2.get_bond_patterns()"
   ]
  },
  {
   "cell_type": "code",
   "execution_count": 13,
   "metadata": {
    "ExecuteTime": {
     "end_time": "2018-06-05T02:53:32.351085Z",
     "start_time": "2018-06-05T02:53:32.344265Z"
    }
   },
   "outputs": [
    {
     "name": "stdout",
     "output_type": "stream",
     "text": [
      "LammpsBonds: 'type' have been set\n"
     ]
    }
   ],
   "source": [
    "writer2.set_bond_types({(0, 0): 1})"
   ]
  },
  {
   "cell_type": "code",
   "execution_count": 14,
   "metadata": {
    "ExecuteTime": {
     "end_time": "2018-06-05T02:53:35.101246Z",
     "start_time": "2018-06-05T02:53:35.094763Z"
    }
   },
   "outputs": [
    {
     "data": {
      "text/plain": [
       "set()"
      ]
     },
     "execution_count": 14,
     "metadata": {},
     "output_type": "execute_result"
    }
   ],
   "source": [
    "writer2.get_required_datanames_for_molecule()"
   ]
  },
  {
   "cell_type": "code",
   "execution_count": 15,
   "metadata": {
    "ExecuteTime": {
     "end_time": "2018-06-05T02:53:42.231247Z",
     "start_time": "2018-06-05T02:53:42.201124Z"
    }
   },
   "outputs": [
    {
     "name": "stdout",
     "output_type": "stream",
     "text": [
      "'Coords' section was written\n",
      "'Types' section was written\n",
      "'Bonds' section was written\n",
      "'Special Bond Counts' and 'Special Bonds' section was written\n"
     ]
    }
   ],
   "source": [
    "writer2.write_lammps_molecule(\"molecule.N2\")"
   ]
  },
  {
   "cell_type": "code",
   "execution_count": 16,
   "metadata": {
    "ExecuteTime": {
     "end_time": "2018-06-05T02:54:57.427449Z",
     "start_time": "2018-06-05T02:54:57.420426Z"
    }
   },
   "outputs": [
    {
     "name": "stdout",
     "output_type": "stream",
     "text": [
      "You might need to set 'extra/{}/per/atom' to:\n",
      "1\n"
     ]
    }
   ],
   "source": [
    "writer2.get_max_bonds_per_atom()"
   ]
  },
  {
   "cell_type": "code",
   "execution_count": null,
   "metadata": {},
   "outputs": [],
   "source": []
  }
 ],
 "metadata": {
  "kernelspec": {
   "display_name": "Python 3",
   "language": "python",
   "name": "python3"
  },
  "language_info": {
   "codemirror_mode": {
    "name": "ipython",
    "version": 3
   },
   "file_extension": ".py",
   "mimetype": "text/x-python",
   "name": "python",
   "nbconvert_exporter": "python",
   "pygments_lexer": "ipython3",
   "version": "3.6.5"
  },
  "toc": {
   "base_numbering": 1,
   "nav_menu": {},
   "number_sections": true,
   "sideBar": true,
   "skip_h1_title": true,
   "title_cell": "Table of Contents",
   "title_sidebar": "Contents",
   "toc_cell": false,
   "toc_position": {},
   "toc_section_display": true,
   "toc_window_display": false
  }
 },
 "nbformat": 4,
 "nbformat_minor": 2
}
