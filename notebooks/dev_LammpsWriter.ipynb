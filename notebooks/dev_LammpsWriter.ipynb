{
 "cells": [
  {
   "cell_type": "code",
   "execution_count": 1,
   "metadata": {
    "ExecuteTime": {
     "end_time": "2018-06-02T10:16:07.387134Z",
     "start_time": "2018-06-02T10:16:07.114532Z"
    }
   },
   "outputs": [],
   "source": [
    "from ase import Atoms\n",
    "from ease4lmp import BondedAtoms, LammpsWriter"
   ]
  },
  {
   "cell_type": "code",
   "execution_count": 2,
   "metadata": {
    "ExecuteTime": {
     "end_time": "2018-06-02T10:16:07.537708Z",
     "start_time": "2018-06-02T10:16:07.527963Z"
    }
   },
   "outputs": [],
   "source": [
    "d = 1.10\n",
    "molecule = Atoms('2N', positions=[(0., 0., 0.), (0., 0., d)])"
   ]
  },
  {
   "cell_type": "code",
   "execution_count": 3,
   "metadata": {
    "ExecuteTime": {
     "end_time": "2018-06-02T10:16:08.136380Z",
     "start_time": "2018-06-02T10:16:08.117910Z"
    }
   },
   "outputs": [
    {
     "data": {
      "text/plain": [
       "ase.atoms.Atoms"
      ]
     },
     "execution_count": 3,
     "metadata": {},
     "output_type": "execute_result"
    }
   ],
   "source": [
    "type(molecule)"
   ]
  },
  {
   "cell_type": "code",
   "execution_count": 4,
   "metadata": {
    "ExecuteTime": {
     "end_time": "2018-06-02T10:16:08.818856Z",
     "start_time": "2018-06-02T10:16:08.814260Z"
    }
   },
   "outputs": [],
   "source": [
    "molecule = BondedAtoms.inherit(molecule)"
   ]
  },
  {
   "cell_type": "code",
   "execution_count": 5,
   "metadata": {
    "ExecuteTime": {
     "end_time": "2018-06-02T10:16:09.518903Z",
     "start_time": "2018-06-02T10:16:09.514560Z"
    }
   },
   "outputs": [],
   "source": [
    "molecule.set_cell([(d, 0, 0), (0, d, 0), (0, 0, 2*d)])"
   ]
  },
  {
   "cell_type": "code",
   "execution_count": 6,
   "metadata": {
    "ExecuteTime": {
     "end_time": "2018-06-02T10:16:10.278531Z",
     "start_time": "2018-06-02T10:16:10.263078Z"
    }
   },
   "outputs": [],
   "source": [
    "writer = LammpsWriter(molecule, atom_style=\"angle\")"
   ]
  },
  {
   "cell_type": "code",
   "execution_count": 8,
   "metadata": {
    "ExecuteTime": {
     "end_time": "2018-06-02T10:16:24.486934Z",
     "start_time": "2018-06-02T10:16:24.467649Z"
    }
   },
   "outputs": [
    {
     "data": {
      "text/plain": [
       "{'mol'}"
      ]
     },
     "execution_count": 8,
     "metadata": {},
     "output_type": "execute_result"
    }
   ],
   "source": [
    "writer.get_required_atom_datanames()"
   ]
  },
  {
   "cell_type": "code",
   "execution_count": 9,
   "metadata": {
    "ExecuteTime": {
     "end_time": "2018-06-02T10:16:26.731517Z",
     "start_time": "2018-06-02T10:16:26.725219Z"
    }
   },
   "outputs": [],
   "source": [
    "writer.set_atom_data(mol=[1, 1])"
   ]
  },
  {
   "cell_type": "code",
   "execution_count": 10,
   "metadata": {
    "ExecuteTime": {
     "end_time": "2018-06-02T10:16:47.380458Z",
     "start_time": "2018-06-02T10:16:47.361054Z"
    }
   },
   "outputs": [
    {
     "name": "stdout",
     "output_type": "stream",
     "text": [
      "'Atoms' section was written\n"
     ]
    }
   ],
   "source": [
    "writer.write_lammps_data(\"data.n2\")"
   ]
  },
  {
   "cell_type": "code",
   "execution_count": 99,
   "metadata": {
    "ExecuteTime": {
     "end_time": "2018-06-02T05:42:21.852454Z",
     "start_time": "2018-06-02T05:42:21.838499Z"
    }
   },
   "outputs": [
    {
     "data": {
      "text/plain": [
       "array([63.546, 63.546, 63.546, 63.546, 63.546, 63.546, 63.546, 63.546,\n",
       "       63.546, 63.546, 63.546, 63.546, 63.546, 63.546, 63.546, 63.546,\n",
       "       63.546, 63.546, 63.546, 63.546, 63.546, 63.546, 63.546, 63.546,\n",
       "       63.546, 63.546, 63.546, 63.546, 63.546, 63.546, 63.546, 63.546])"
      ]
     },
     "execution_count": 99,
     "metadata": {},
     "output_type": "execute_result"
    }
   ],
   "source": [
    "slab.get_masses()"
   ]
  },
  {
   "cell_type": "code",
   "execution_count": 127,
   "metadata": {
    "ExecuteTime": {
     "end_time": "2018-06-02T09:25:37.296615Z",
     "start_time": "2018-06-02T09:25:37.290211Z"
    }
   },
   "outputs": [
    {
     "data": {
      "text/plain": [
       "0"
      ]
     },
     "execution_count": 127,
     "metadata": {},
     "output_type": "execute_result"
    }
   ],
   "source": [
    "a = [\"a\", \"b\", \"c\"]\n",
    "a.index(\"a\")"
   ]
  },
  {
   "cell_type": "code",
   "execution_count": 124,
   "metadata": {
    "ExecuteTime": {
     "end_time": "2018-06-02T09:14:25.711708Z",
     "start_time": "2018-06-02T09:14:25.700406Z"
    }
   },
   "outputs": [
    {
     "data": {
      "text/plain": [
       "False"
      ]
     },
     "execution_count": 124,
     "metadata": {},
     "output_type": "execute_result"
    }
   ],
   "source": [
    "isinstance(None, int)"
   ]
  },
  {
   "cell_type": "code",
   "execution_count": null,
   "metadata": {},
   "outputs": [],
   "source": []
  }
 ],
 "metadata": {
  "kernelspec": {
   "display_name": "Python 3",
   "language": "python",
   "name": "python3"
  },
  "language_info": {
   "codemirror_mode": {
    "name": "ipython",
    "version": 3
   },
   "file_extension": ".py",
   "mimetype": "text/x-python",
   "name": "python",
   "nbconvert_exporter": "python",
   "pygments_lexer": "ipython3",
   "version": "3.6.5"
  },
  "toc": {
   "base_numbering": 1,
   "nav_menu": {},
   "number_sections": true,
   "sideBar": true,
   "skip_h1_title": true,
   "title_cell": "Table of Contents",
   "title_sidebar": "Contents",
   "toc_cell": false,
   "toc_position": {},
   "toc_section_display": true,
   "toc_window_display": false
  }
 },
 "nbformat": 4,
 "nbformat_minor": 2
}
