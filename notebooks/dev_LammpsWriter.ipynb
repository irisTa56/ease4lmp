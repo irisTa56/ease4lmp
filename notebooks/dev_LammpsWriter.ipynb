{
 "cells": [
  {
   "cell_type": "code",
   "execution_count": 1,
   "metadata": {
    "ExecuteTime": {
     "end_time": "2018-06-03T06:06:10.609227Z",
     "start_time": "2018-06-03T06:06:10.426607Z"
    }
   },
   "outputs": [],
   "source": [
    "from ase.build import fcc111\n",
    "from ease4lmp import BondedAtoms, LammpsWriter"
   ]
  },
  {
   "cell_type": "code",
   "execution_count": 2,
   "metadata": {
    "ExecuteTime": {
     "end_time": "2018-06-03T06:06:11.090536Z",
     "start_time": "2018-06-03T06:06:11.073409Z"
    }
   },
   "outputs": [],
   "source": [
    "slab = fcc111('Cu', size=(4, 4, 2), vacuum=10.0)"
   ]
  },
  {
   "cell_type": "code",
   "execution_count": 3,
   "metadata": {
    "ExecuteTime": {
     "end_time": "2018-06-03T06:06:11.555908Z",
     "start_time": "2018-06-03T06:06:11.536222Z"
    }
   },
   "outputs": [
    {
     "data": {
      "text/plain": [
       "ase.atoms.Atoms"
      ]
     },
     "execution_count": 3,
     "metadata": {},
     "output_type": "execute_result"
    }
   ],
   "source": [
    "type(slab)"
   ]
  },
  {
   "cell_type": "code",
   "execution_count": 4,
   "metadata": {
    "ExecuteTime": {
     "end_time": "2018-06-03T06:06:12.327277Z",
     "start_time": "2018-06-03T06:06:12.320611Z"
    }
   },
   "outputs": [],
   "source": [
    "slab = BondedAtoms.inherit(slab)"
   ]
  },
  {
   "cell_type": "code",
   "execution_count": null,
   "metadata": {
    "ExecuteTime": {
     "start_time": "2018-06-03T06:06:09.318Z"
    }
   },
   "outputs": [],
   "source": [
    "writer = LammpsWriter(slab, atom_style=\"atomic\")"
   ]
  },
  {
   "cell_type": "code",
   "execution_count": 6,
   "metadata": {
    "ExecuteTime": {
     "end_time": "2018-06-03T06:00:17.396180Z",
     "start_time": "2018-06-03T06:00:17.388608Z"
    }
   },
   "outputs": [
    {
     "data": {
      "text/plain": [
       "set()"
      ]
     },
     "execution_count": 6,
     "metadata": {},
     "output_type": "execute_result"
    }
   ],
   "source": [
    "writer.get_required_atom_datanames()"
   ]
  },
  {
   "cell_type": "code",
   "execution_count": 7,
   "metadata": {
    "ExecuteTime": {
     "end_time": "2018-06-03T03:54:58.644187Z",
     "start_time": "2018-06-03T03:54:58.616033Z"
    }
   },
   "outputs": [
    {
     "name": "stdout",
     "output_type": "stream",
     "text": [
      "'Masses' section was written\n",
      "'Atoms' section was written\n"
     ]
    }
   ],
   "source": [
    "writer.write_lammps_data(\"data.Cu\", mass=True)"
   ]
  },
  {
   "cell_type": "code",
   "execution_count": 12,
   "metadata": {
    "ExecuteTime": {
     "end_time": "2018-06-03T06:02:47.632396Z",
     "start_time": "2018-06-03T06:02:47.626691Z"
    }
   },
   "outputs": [],
   "source": [
    "import numpy as np"
   ]
  },
  {
   "cell_type": "code",
   "execution_count": 15,
   "metadata": {
    "ExecuteTime": {
     "end_time": "2018-06-03T06:03:05.244604Z",
     "start_time": "2018-06-03T06:03:05.236308Z"
    }
   },
   "outputs": [
    {
     "data": {
      "text/plain": [
       "array([], dtype=int64)"
      ]
     },
     "execution_count": 15,
     "metadata": {},
     "output_type": "execute_result"
    }
   ],
   "source": [
    "np.array(writer._topo[\"bond\"]._topology, int).T"
   ]
  },
  {
   "cell_type": "code",
   "execution_count": 17,
   "metadata": {
    "ExecuteTime": {
     "end_time": "2018-06-03T06:05:17.007338Z",
     "start_time": "2018-06-03T06:05:16.999151Z"
    }
   },
   "outputs": [
    {
     "data": {
      "text/plain": [
       "{}"
      ]
     },
     "execution_count": 17,
     "metadata": {},
     "output_type": "execute_result"
    }
   ],
   "source": [
    "dict(zip(\n",
    "      writer._topo[\"bond\"]._datanames[2:], np.array(writer._topo[\"bond\"]._topology, int).T))"
   ]
  },
  {
   "cell_type": "code",
   "execution_count": 40,
   "metadata": {
    "ExecuteTime": {
     "end_time": "2018-06-03T05:05:56.753190Z",
     "start_time": "2018-06-03T05:05:56.741863Z"
    }
   },
   "outputs": [
    {
     "data": {
      "text/plain": [
       "{(1, 2, 3, 4): 100,\n",
       " (1, 2, 4, 3): 100,\n",
       " (3, 2, 1, 4): 100,\n",
       " (3, 2, 4, 1): 100,\n",
       " (4, 2, 1, 3): 100,\n",
       " (4, 2, 3, 1): 100}"
      ]
     },
     "execution_count": 40,
     "metadata": {},
     "output_type": "execute_result"
    }
   ],
   "source": [
    "c = 1\n",
    "k = (1,2,3,4)\n",
    "v = 100\n",
    "\n",
    "others = k[:c] + k[c+1:]\n",
    "{tuple(l): v for l in [\n",
    "    [t[i] if i < c else t[i-1] if c < i else k[c] for i in range(4)]\n",
    "    for t in it.permutations(others)]}"
   ]
  },
  {
   "cell_type": "code",
   "execution_count": 50,
   "metadata": {
    "ExecuteTime": {
     "end_time": "2018-06-03T05:10:53.600181Z",
     "start_time": "2018-06-03T05:10:53.585946Z"
    }
   },
   "outputs": [
    {
     "data": {
      "text/plain": [
       "{(1, 2, 3, 4): 100,\n",
       " (1, 2, 4, 3): 100,\n",
       " (3, 2, 1, 4): 100,\n",
       " (3, 2, 4, 1): 100,\n",
       " (4, 2, 1, 3): 100,\n",
       " (4, 2, 3, 1): 100}"
      ]
     },
     "execution_count": 50,
     "metadata": {},
     "output_type": "execute_result"
    }
   ],
   "source": [
    "c = 1\n",
    "k = (1,2,3,4)\n",
    "v = 100\n",
    "\n",
    "others = k[:c] + k[c+1:]\n",
    "{l: v for l in [\n",
    "    t[:c] + (k[c],) + t[c:]\n",
    "    for t in it.permutations(others)]}"
   ]
  },
  {
   "cell_type": "code",
   "execution_count": 47,
   "metadata": {
    "ExecuteTime": {
     "end_time": "2018-06-03T05:10:15.793189Z",
     "start_time": "2018-06-03T05:10:15.782359Z"
    }
   },
   "outputs": [
    {
     "name": "stdout",
     "output_type": "stream",
     "text": [
      "(1, 3, 4)\n",
      "(1, 4, 3)\n",
      "(3, 1, 4)\n",
      "(3, 4, 1)\n",
      "(4, 1, 3)\n",
      "(4, 3, 1)\n"
     ]
    }
   ],
   "source": [
    "for i in it.permutations(others):\n",
    "    print(i)"
   ]
  },
  {
   "cell_type": "code",
   "execution_count": null,
   "metadata": {},
   "outputs": [],
   "source": []
  }
 ],
 "metadata": {
  "kernelspec": {
   "display_name": "Python 3",
   "language": "python",
   "name": "python3"
  },
  "language_info": {
   "codemirror_mode": {
    "name": "ipython",
    "version": 3
   },
   "file_extension": ".py",
   "mimetype": "text/x-python",
   "name": "python",
   "nbconvert_exporter": "python",
   "pygments_lexer": "ipython3",
   "version": "3.6.5"
  },
  "toc": {
   "base_numbering": 1,
   "nav_menu": {},
   "number_sections": true,
   "sideBar": true,
   "skip_h1_title": true,
   "title_cell": "Table of Contents",
   "title_sidebar": "Contents",
   "toc_cell": false,
   "toc_position": {},
   "toc_section_display": true,
   "toc_window_display": false
  }
 },
 "nbformat": 4,
 "nbformat_minor": 2
}
