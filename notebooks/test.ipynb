{
 "cells": [
  {
   "cell_type": "code",
   "execution_count": 1,
   "metadata": {
    "ExecuteTime": {
     "end_time": "2018-05-29T08:04:05.943659Z",
     "start_time": "2018-05-29T08:04:05.767040Z"
    }
   },
   "outputs": [],
   "source": [
    "from ease4lmp.bonded_atoms import BondedAtoms"
   ]
  },
  {
   "cell_type": "code",
   "execution_count": 2,
   "metadata": {
    "ExecuteTime": {
     "end_time": "2018-05-29T08:04:06.191176Z",
     "start_time": "2018-05-29T08:04:06.178753Z"
    }
   },
   "outputs": [],
   "source": [
    "a = 4.05  # Gold lattice constant\n",
    "b = a / 2\n",
    "fcc = BondedAtoms(\n",
    "    'Au',\n",
    "    cell=[(0, b, b), (b, 0, b), (b, b, 0)],\n",
    "    pbc=True\n",
    ")"
   ]
  },
  {
   "cell_type": "code",
   "execution_count": 3,
   "metadata": {
    "ExecuteTime": {
     "end_time": "2018-05-29T08:04:06.402435Z",
     "start_time": "2018-05-29T08:04:06.386349Z"
    }
   },
   "outputs": [
    {
     "data": {
      "text/plain": [
       "array([[0., 0., 0.]])"
      ]
     },
     "execution_count": 3,
     "metadata": {},
     "output_type": "execute_result"
    }
   ],
   "source": [
    "fcc.get_positions()"
   ]
  },
  {
   "cell_type": "code",
   "execution_count": 4,
   "metadata": {
    "ExecuteTime": {
     "end_time": "2018-05-29T08:04:07.550173Z",
     "start_time": "2018-05-29T08:04:07.546037Z"
    }
   },
   "outputs": [],
   "source": [
    "fcc.add_bond(0, 0, img2=(1,0,0))"
   ]
  },
  {
   "cell_type": "code",
   "execution_count": 5,
   "metadata": {
    "ExecuteTime": {
     "end_time": "2018-05-29T08:04:07.559400Z",
     "start_time": "2018-05-29T08:04:07.553038Z"
    }
   },
   "outputs": [
    {
     "data": {
      "text/plain": [
       "array([[[ 0,  1,  0,  0],\n",
       "        [ 0, -1,  0,  0],\n",
       "        [ 0,  0,  0,  0],\n",
       "        [ 0,  0,  0,  0]]])"
      ]
     },
     "execution_count": 5,
     "metadata": {},
     "output_type": "execute_result"
    }
   ],
   "source": [
    "fcc.get_bonds()"
   ]
  },
  {
   "cell_type": "code",
   "execution_count": 6,
   "metadata": {
    "ExecuteTime": {
     "end_time": "2018-05-29T08:04:07.581362Z",
     "start_time": "2018-05-29T08:04:07.568804Z"
    }
   },
   "outputs": [],
   "source": [
    "#fcc8 = fcc.repeat((2, 2, 2))\n",
    "fcc8 = fcc * (2, 2, 2)"
   ]
  },
  {
   "cell_type": "code",
   "execution_count": 7,
   "metadata": {
    "ExecuteTime": {
     "end_time": "2018-05-29T08:04:07.602886Z",
     "start_time": "2018-05-29T08:04:07.591757Z"
    }
   },
   "outputs": [
    {
     "data": {
      "text/plain": [
       "array([[[ 4,  0,  0,  0],\n",
       "        [ 4, -1,  0,  0],\n",
       "        [ 0,  0,  0,  0],\n",
       "        [ 0,  0,  0,  0]],\n",
       "\n",
       "       [[ 4,  0,  0,  0],\n",
       "        [ 4, -1,  0,  0],\n",
       "        [ 0,  0,  0,  0],\n",
       "        [ 0,  0,  0,  0]],\n",
       "\n",
       "       [[ 4,  0,  0,  0],\n",
       "        [ 4, -1,  0,  0],\n",
       "        [ 0,  0,  0,  0],\n",
       "        [ 0,  0,  0,  0]],\n",
       "\n",
       "       [[ 4,  0,  0,  0],\n",
       "        [ 4, -1,  0,  0],\n",
       "        [ 0,  0,  0,  0],\n",
       "        [ 0,  0,  0,  0]],\n",
       "\n",
       "       [[-4,  1,  0,  0],\n",
       "        [-4,  0,  0,  0],\n",
       "        [ 0,  0,  0,  0],\n",
       "        [ 0,  0,  0,  0]],\n",
       "\n",
       "       [[-4,  1,  0,  0],\n",
       "        [-4,  0,  0,  0],\n",
       "        [ 0,  0,  0,  0],\n",
       "        [ 0,  0,  0,  0]],\n",
       "\n",
       "       [[-4,  1,  0,  0],\n",
       "        [-4,  0,  0,  0],\n",
       "        [ 0,  0,  0,  0],\n",
       "        [ 0,  0,  0,  0]],\n",
       "\n",
       "       [[-4,  1,  0,  0],\n",
       "        [-4,  0,  0,  0],\n",
       "        [ 0,  0,  0,  0],\n",
       "        [ 0,  0,  0,  0]]])"
      ]
     },
     "execution_count": 7,
     "metadata": {},
     "output_type": "execute_result"
    }
   ],
   "source": [
    "fcc8.get_bonds()"
   ]
  },
  {
   "cell_type": "code",
   "execution_count": 8,
   "metadata": {
    "ExecuteTime": {
     "end_time": "2018-05-29T08:04:07.614739Z",
     "start_time": "2018-05-29T08:04:07.607827Z"
    }
   },
   "outputs": [],
   "source": [
    "fcc8.change_max_bonds(2)"
   ]
  },
  {
   "cell_type": "code",
   "execution_count": 9,
   "metadata": {
    "ExecuteTime": {
     "end_time": "2018-05-29T08:04:07.629270Z",
     "start_time": "2018-05-29T08:04:07.622591Z"
    }
   },
   "outputs": [
    {
     "data": {
      "text/plain": [
       "array([[[ 4,  0,  0,  0],\n",
       "        [ 4, -1,  0,  0]],\n",
       "\n",
       "       [[ 4,  0,  0,  0],\n",
       "        [ 4, -1,  0,  0]],\n",
       "\n",
       "       [[ 4,  0,  0,  0],\n",
       "        [ 4, -1,  0,  0]],\n",
       "\n",
       "       [[ 4,  0,  0,  0],\n",
       "        [ 4, -1,  0,  0]],\n",
       "\n",
       "       [[-4,  1,  0,  0],\n",
       "        [-4,  0,  0,  0]],\n",
       "\n",
       "       [[-4,  1,  0,  0],\n",
       "        [-4,  0,  0,  0]],\n",
       "\n",
       "       [[-4,  1,  0,  0],\n",
       "        [-4,  0,  0,  0]],\n",
       "\n",
       "       [[-4,  1,  0,  0],\n",
       "        [-4,  0,  0,  0]]])"
      ]
     },
     "execution_count": 9,
     "metadata": {},
     "output_type": "execute_result"
    }
   ],
   "source": [
    "fcc8.get_bonds()"
   ]
  },
  {
   "cell_type": "code",
   "execution_count": 10,
   "metadata": {
    "ExecuteTime": {
     "end_time": "2018-05-29T08:04:07.637747Z",
     "start_time": "2018-05-29T08:04:07.633232Z"
    }
   },
   "outputs": [],
   "source": [
    "fcc8.change_max_bonds(8)"
   ]
  },
  {
   "cell_type": "code",
   "execution_count": 11,
   "metadata": {
    "ExecuteTime": {
     "end_time": "2018-05-29T08:04:07.778004Z",
     "start_time": "2018-05-29T08:04:07.763395Z"
    }
   },
   "outputs": [
    {
     "data": {
      "text/plain": [
       "array([[[ 4,  0,  0,  0],\n",
       "        [ 4, -1,  0,  0],\n",
       "        [ 0,  0,  0,  0],\n",
       "        [ 0,  0,  0,  0],\n",
       "        [ 0,  0,  0,  0],\n",
       "        [ 0,  0,  0,  0],\n",
       "        [ 0,  0,  0,  0],\n",
       "        [ 0,  0,  0,  0]],\n",
       "\n",
       "       [[ 4,  0,  0,  0],\n",
       "        [ 4, -1,  0,  0],\n",
       "        [ 0,  0,  0,  0],\n",
       "        [ 0,  0,  0,  0],\n",
       "        [ 0,  0,  0,  0],\n",
       "        [ 0,  0,  0,  0],\n",
       "        [ 0,  0,  0,  0],\n",
       "        [ 0,  0,  0,  0]],\n",
       "\n",
       "       [[ 4,  0,  0,  0],\n",
       "        [ 4, -1,  0,  0],\n",
       "        [ 0,  0,  0,  0],\n",
       "        [ 0,  0,  0,  0],\n",
       "        [ 0,  0,  0,  0],\n",
       "        [ 0,  0,  0,  0],\n",
       "        [ 0,  0,  0,  0],\n",
       "        [ 0,  0,  0,  0]],\n",
       "\n",
       "       [[ 4,  0,  0,  0],\n",
       "        [ 4, -1,  0,  0],\n",
       "        [ 0,  0,  0,  0],\n",
       "        [ 0,  0,  0,  0],\n",
       "        [ 0,  0,  0,  0],\n",
       "        [ 0,  0,  0,  0],\n",
       "        [ 0,  0,  0,  0],\n",
       "        [ 0,  0,  0,  0]],\n",
       "\n",
       "       [[-4,  1,  0,  0],\n",
       "        [-4,  0,  0,  0],\n",
       "        [ 0,  0,  0,  0],\n",
       "        [ 0,  0,  0,  0],\n",
       "        [ 0,  0,  0,  0],\n",
       "        [ 0,  0,  0,  0],\n",
       "        [ 0,  0,  0,  0],\n",
       "        [ 0,  0,  0,  0]],\n",
       "\n",
       "       [[-4,  1,  0,  0],\n",
       "        [-4,  0,  0,  0],\n",
       "        [ 0,  0,  0,  0],\n",
       "        [ 0,  0,  0,  0],\n",
       "        [ 0,  0,  0,  0],\n",
       "        [ 0,  0,  0,  0],\n",
       "        [ 0,  0,  0,  0],\n",
       "        [ 0,  0,  0,  0]],\n",
       "\n",
       "       [[-4,  1,  0,  0],\n",
       "        [-4,  0,  0,  0],\n",
       "        [ 0,  0,  0,  0],\n",
       "        [ 0,  0,  0,  0],\n",
       "        [ 0,  0,  0,  0],\n",
       "        [ 0,  0,  0,  0],\n",
       "        [ 0,  0,  0,  0],\n",
       "        [ 0,  0,  0,  0]],\n",
       "\n",
       "       [[-4,  1,  0,  0],\n",
       "        [-4,  0,  0,  0],\n",
       "        [ 0,  0,  0,  0],\n",
       "        [ 0,  0,  0,  0],\n",
       "        [ 0,  0,  0,  0],\n",
       "        [ 0,  0,  0,  0],\n",
       "        [ 0,  0,  0,  0],\n",
       "        [ 0,  0,  0,  0]]])"
      ]
     },
     "execution_count": 11,
     "metadata": {},
     "output_type": "execute_result"
    }
   ],
   "source": [
    "fcc8.get_bonds()"
   ]
  },
  {
   "cell_type": "code",
   "execution_count": 12,
   "metadata": {
    "ExecuteTime": {
     "end_time": "2018-05-29T08:04:07.923588Z",
     "start_time": "2018-05-29T08:04:07.917434Z"
    }
   },
   "outputs": [],
   "source": [
    "import ase"
   ]
  },
  {
   "cell_type": "code",
   "execution_count": 13,
   "metadata": {
    "ExecuteTime": {
     "end_time": "2018-05-29T08:04:08.047396Z",
     "start_time": "2018-05-29T08:04:08.040367Z"
    }
   },
   "outputs": [],
   "source": [
    "a1 = ase.Atom('Si', (0, 0, 0))"
   ]
  },
  {
   "cell_type": "code",
   "execution_count": 14,
   "metadata": {
    "ExecuteTime": {
     "end_time": "2018-05-29T08:04:08.269445Z",
     "start_time": "2018-05-29T08:04:08.263348Z"
    }
   },
   "outputs": [],
   "source": [
    "fcc_a1 = fcc + a1"
   ]
  },
  {
   "cell_type": "code",
   "execution_count": 15,
   "metadata": {
    "ExecuteTime": {
     "end_time": "2018-05-29T08:04:08.775141Z",
     "start_time": "2018-05-29T08:04:08.767988Z"
    }
   },
   "outputs": [
    {
     "data": {
      "text/plain": [
       "ease4lmp.bonded_atoms.BondedAtoms"
      ]
     },
     "execution_count": 15,
     "metadata": {},
     "output_type": "execute_result"
    }
   ],
   "source": [
    "type(fcc_a1)"
   ]
  },
  {
   "cell_type": "code",
   "execution_count": 16,
   "metadata": {
    "ExecuteTime": {
     "end_time": "2018-05-29T08:04:09.161201Z",
     "start_time": "2018-05-29T08:04:09.146136Z"
    },
    "scrolled": false
   },
   "outputs": [
    {
     "data": {
      "text/plain": [
       "array([[[ 0,  1,  0,  0],\n",
       "        [ 0, -1,  0,  0],\n",
       "        [ 0,  0,  0,  0],\n",
       "        [ 0,  0,  0,  0]],\n",
       "\n",
       "       [[ 0,  0,  0,  0],\n",
       "        [ 0,  0,  0,  0],\n",
       "        [ 0,  0,  0,  0],\n",
       "        [ 0,  0,  0,  0]]])"
      ]
     },
     "execution_count": 16,
     "metadata": {},
     "output_type": "execute_result"
    }
   ],
   "source": [
    "fcc_a1.get_bonds()"
   ]
  },
  {
   "cell_type": "code",
   "execution_count": 17,
   "metadata": {
    "ExecuteTime": {
     "end_time": "2018-05-29T08:04:09.503782Z",
     "start_time": "2018-05-29T08:04:09.499492Z"
    }
   },
   "outputs": [],
   "source": [
    "a2 = ase.Atom('Fe', (0, 0, 0))"
   ]
  },
  {
   "cell_type": "code",
   "execution_count": 18,
   "metadata": {
    "ExecuteTime": {
     "end_time": "2018-05-29T08:04:09.784048Z",
     "start_time": "2018-05-29T08:04:09.777740Z"
    }
   },
   "outputs": [],
   "source": [
    "fcc_a1.append(a2)"
   ]
  },
  {
   "cell_type": "code",
   "execution_count": 19,
   "metadata": {
    "ExecuteTime": {
     "end_time": "2018-05-29T08:04:10.267024Z",
     "start_time": "2018-05-29T08:04:10.246189Z"
    },
    "scrolled": false
   },
   "outputs": [
    {
     "data": {
      "text/plain": [
       "array([[[ 0,  1,  0,  0],\n",
       "        [ 0, -1,  0,  0],\n",
       "        [ 0,  0,  0,  0],\n",
       "        [ 0,  0,  0,  0]],\n",
       "\n",
       "       [[ 0,  0,  0,  0],\n",
       "        [ 0,  0,  0,  0],\n",
       "        [ 0,  0,  0,  0],\n",
       "        [ 0,  0,  0,  0]],\n",
       "\n",
       "       [[ 0,  0,  0,  0],\n",
       "        [ 0,  0,  0,  0],\n",
       "        [ 0,  0,  0,  0],\n",
       "        [ 0,  0,  0,  0]]])"
      ]
     },
     "execution_count": 19,
     "metadata": {},
     "output_type": "execute_result"
    }
   ],
   "source": [
    "fcc_a1.get_bonds()"
   ]
  },
  {
   "cell_type": "code",
   "execution_count": 20,
   "metadata": {
    "ExecuteTime": {
     "end_time": "2018-05-29T08:04:10.903175Z",
     "start_time": "2018-05-29T08:04:10.899199Z"
    }
   },
   "outputs": [],
   "source": [
    "a = ase.Atoms('N2', [(0, 0, 0), (0, 0, 1.104)])"
   ]
  },
  {
   "cell_type": "code",
   "execution_count": 21,
   "metadata": {
    "ExecuteTime": {
     "end_time": "2018-05-29T08:04:11.623638Z",
     "start_time": "2018-05-29T08:04:11.612223Z"
    }
   },
   "outputs": [],
   "source": [
    "fcc_a = fcc + a"
   ]
  },
  {
   "cell_type": "code",
   "execution_count": 22,
   "metadata": {
    "ExecuteTime": {
     "end_time": "2018-05-29T08:04:12.185873Z",
     "start_time": "2018-05-29T08:04:12.179679Z"
    }
   },
   "outputs": [
    {
     "data": {
      "text/plain": [
       "array([[[ 0,  1,  0,  0],\n",
       "        [ 0, -1,  0,  0],\n",
       "        [ 0,  0,  0,  0],\n",
       "        [ 0,  0,  0,  0]],\n",
       "\n",
       "       [[ 0,  0,  0,  0],\n",
       "        [ 0,  0,  0,  0],\n",
       "        [ 0,  0,  0,  0],\n",
       "        [ 0,  0,  0,  0]],\n",
       "\n",
       "       [[ 0,  0,  0,  0],\n",
       "        [ 0,  0,  0,  0],\n",
       "        [ 0,  0,  0,  0],\n",
       "        [ 0,  0,  0,  0]]])"
      ]
     },
     "execution_count": 22,
     "metadata": {},
     "output_type": "execute_result"
    }
   ],
   "source": [
    "fcc_a.get_bonds()"
   ]
  },
  {
   "cell_type": "code",
   "execution_count": 25,
   "metadata": {
    "ExecuteTime": {
     "end_time": "2018-05-29T08:05:28.681569Z",
     "start_time": "2018-05-29T08:05:28.676211Z"
    }
   },
   "outputs": [],
   "source": [
    "fcc5 = fcc.repeat((5, 1, 1))"
   ]
  },
  {
   "cell_type": "code",
   "execution_count": 26,
   "metadata": {
    "ExecuteTime": {
     "end_time": "2018-05-29T08:05:33.795646Z",
     "start_time": "2018-05-29T08:05:33.788268Z"
    }
   },
   "outputs": [
    {
     "data": {
      "text/plain": [
       "array([[[ 1,  0,  0,  0],\n",
       "        [ 4, -1,  0,  0],\n",
       "        [ 0,  0,  0,  0],\n",
       "        [ 0,  0,  0,  0]],\n",
       "\n",
       "       [[ 1,  0,  0,  0],\n",
       "        [-1,  0,  0,  0],\n",
       "        [ 0,  0,  0,  0],\n",
       "        [ 0,  0,  0,  0]],\n",
       "\n",
       "       [[ 1,  0,  0,  0],\n",
       "        [-1,  0,  0,  0],\n",
       "        [ 0,  0,  0,  0],\n",
       "        [ 0,  0,  0,  0]],\n",
       "\n",
       "       [[ 1,  0,  0,  0],\n",
       "        [-1,  0,  0,  0],\n",
       "        [ 0,  0,  0,  0],\n",
       "        [ 0,  0,  0,  0]],\n",
       "\n",
       "       [[-4,  1,  0,  0],\n",
       "        [-1,  0,  0,  0],\n",
       "        [ 0,  0,  0,  0],\n",
       "        [ 0,  0,  0,  0]]])"
      ]
     },
     "execution_count": 26,
     "metadata": {},
     "output_type": "execute_result"
    }
   ],
   "source": [
    "fcc5.get_bonds()"
   ]
  },
  {
   "cell_type": "code",
   "execution_count": 20,
   "metadata": {
    "ExecuteTime": {
     "end_time": "2018-05-29T05:44:08.311675Z",
     "start_time": "2018-05-29T05:44:08.301801Z"
    }
   },
   "outputs": [
    {
     "data": {
      "text/plain": [
       "array([[[ 1,  0,  0,  0],\n",
       "        [ 4, -1,  0,  0]],\n",
       "\n",
       "       [[ 0,  0,  0,  0],\n",
       "        [ 0,  0,  0,  0]],\n",
       "\n",
       "       [[ 1,  0,  0,  0],\n",
       "        [-1,  0,  0,  0]],\n",
       "\n",
       "       [[ 0,  0,  0,  0],\n",
       "        [ 0,  0,  0,  0]],\n",
       "\n",
       "       [[ 1,  0,  0,  0],\n",
       "        [-1,  0,  0,  0]]])"
      ]
     },
     "execution_count": 20,
     "metadata": {},
     "output_type": "execute_result"
    }
   ],
   "source": [
    "fcc5.pop(2)"
   ]
  },
  {
   "cell_type": "code",
   "execution_count": 12,
   "metadata": {
    "ExecuteTime": {
     "end_time": "2018-05-29T07:04:21.165245Z",
     "start_time": "2018-05-29T07:04:21.157157Z"
    }
   },
   "outputs": [],
   "source": [
    "import numpy as np"
   ]
  },
  {
   "cell_type": "code",
   "execution_count": 25,
   "metadata": {
    "ExecuteTime": {
     "end_time": "2018-05-29T07:20:41.614001Z",
     "start_time": "2018-05-29T07:20:41.606945Z"
    }
   },
   "outputs": [],
   "source": [
    "a = np.arange(10)"
   ]
  },
  {
   "cell_type": "code",
   "execution_count": 30,
   "metadata": {
    "ExecuteTime": {
     "end_time": "2018-05-29T07:21:54.325175Z",
     "start_time": "2018-05-29T07:21:54.321551Z"
    }
   },
   "outputs": [],
   "source": [
    "a[9:-1] = a[9:]"
   ]
  },
  {
   "cell_type": "code",
   "execution_count": 33,
   "metadata": {
    "ExecuteTime": {
     "end_time": "2018-05-29T07:25:40.147299Z",
     "start_time": "2018-05-29T07:25:40.137303Z"
    }
   },
   "outputs": [],
   "source": [
    "a[-1] = 10"
   ]
  },
  {
   "cell_type": "code",
   "execution_count": 41,
   "metadata": {
    "ExecuteTime": {
     "end_time": "2018-05-29T07:35:57.793495Z",
     "start_time": "2018-05-29T07:35:57.751857Z"
    }
   },
   "outputs": [
    {
     "data": {
      "text/plain": [
       "array([ 0,  1,  2,  3,  4,  5,  6,  7,  8, 10])"
      ]
     },
     "execution_count": 41,
     "metadata": {},
     "output_type": "execute_result"
    }
   ],
   "source": [
    "a"
   ]
  },
  {
   "cell_type": "code",
   "execution_count": 35,
   "metadata": {
    "ExecuteTime": {
     "end_time": "2018-05-29T07:33:13.931744Z",
     "start_time": "2018-05-29T07:33:13.926872Z"
    }
   },
   "outputs": [],
   "source": [
    "mask = np.ones(10, bool)"
   ]
  },
  {
   "cell_type": "code",
   "execution_count": 45,
   "metadata": {
    "ExecuteTime": {
     "end_time": "2018-05-29T07:44:55.193133Z",
     "start_time": "2018-05-29T07:44:55.188169Z"
    }
   },
   "outputs": [],
   "source": [
    "mask[np.array([2, 3, 4, 5])] = False"
   ]
  },
  {
   "cell_type": "code",
   "execution_count": 51,
   "metadata": {
    "ExecuteTime": {
     "end_time": "2018-05-29T07:45:36.866174Z",
     "start_time": "2018-05-29T07:45:36.848450Z"
    }
   },
   "outputs": [
    {
     "data": {
      "text/plain": [
       "4"
      ]
     },
     "execution_count": 51,
     "metadata": {},
     "output_type": "execute_result"
    }
   ],
   "source": [
    "np.sum(mask != True)"
   ]
  },
  {
   "cell_type": "code",
   "execution_count": null,
   "metadata": {},
   "outputs": [],
   "source": []
  }
 ],
 "metadata": {
  "kernelspec": {
   "display_name": "Python 3",
   "language": "python",
   "name": "python3"
  },
  "language_info": {
   "codemirror_mode": {
    "name": "ipython",
    "version": 3
   },
   "file_extension": ".py",
   "mimetype": "text/x-python",
   "name": "python",
   "nbconvert_exporter": "python",
   "pygments_lexer": "ipython3",
   "version": "3.6.5"
  },
  "toc": {
   "base_numbering": 1,
   "nav_menu": {},
   "number_sections": true,
   "sideBar": true,
   "skip_h1_title": true,
   "title_cell": "Table of Contents",
   "title_sidebar": "Contents",
   "toc_cell": false,
   "toc_position": {},
   "toc_section_display": true,
   "toc_window_display": false
  }
 },
 "nbformat": 4,
 "nbformat_minor": 2
}
