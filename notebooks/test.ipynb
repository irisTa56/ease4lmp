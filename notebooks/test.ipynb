{
 "cells": [
  {
   "cell_type": "code",
   "execution_count": 1,
   "metadata": {
    "ExecuteTime": {
     "end_time": "2018-05-29T11:04:35.070931Z",
     "start_time": "2018-05-29T11:04:34.884991Z"
    }
   },
   "outputs": [],
   "source": [
    "from ease4lmp.bonded_atoms import BondedAtoms"
   ]
  },
  {
   "cell_type": "code",
   "execution_count": 2,
   "metadata": {
    "ExecuteTime": {
     "end_time": "2018-05-29T11:04:35.587119Z",
     "start_time": "2018-05-29T11:04:35.575893Z"
    }
   },
   "outputs": [],
   "source": [
    "a = 4.05  # Gold lattice constant\n",
    "b = a / 2\n",
    "fcc = BondedAtoms(\n",
    "    'Au',\n",
    "    cell=[(0, b, b), (b, 0, b), (b, b, 0)],\n",
    "    pbc=True\n",
    ")"
   ]
  },
  {
   "cell_type": "code",
   "execution_count": 3,
   "metadata": {
    "ExecuteTime": {
     "end_time": "2018-05-29T11:04:36.110783Z",
     "start_time": "2018-05-29T11:04:36.091880Z"
    }
   },
   "outputs": [
    {
     "data": {
      "text/plain": [
       "array([[0., 0., 0.]])"
      ]
     },
     "execution_count": 3,
     "metadata": {},
     "output_type": "execute_result"
    }
   ],
   "source": [
    "fcc.get_positions()"
   ]
  },
  {
   "cell_type": "code",
   "execution_count": 4,
   "metadata": {
    "ExecuteTime": {
     "end_time": "2018-05-29T11:04:36.823631Z",
     "start_time": "2018-05-29T11:04:36.817635Z"
    }
   },
   "outputs": [],
   "source": [
    "fcc.add_bond(0, 0, img2=(1,0,0))"
   ]
  },
  {
   "cell_type": "code",
   "execution_count": 5,
   "metadata": {
    "ExecuteTime": {
     "end_time": "2018-05-29T11:04:37.437060Z",
     "start_time": "2018-05-29T11:04:37.423701Z"
    }
   },
   "outputs": [
    {
     "data": {
      "text/plain": [
       "array([[[ 0,  1,  0,  0],\n",
       "        [ 0, -1,  0,  0],\n",
       "        [ 0,  0,  0,  0],\n",
       "        [ 0,  0,  0,  0]]])"
      ]
     },
     "execution_count": 5,
     "metadata": {},
     "output_type": "execute_result"
    }
   ],
   "source": [
    "fcc.get_bonds()"
   ]
  },
  {
   "cell_type": "code",
   "execution_count": 6,
   "metadata": {
    "ExecuteTime": {
     "end_time": "2018-05-29T11:04:38.540807Z",
     "start_time": "2018-05-29T11:04:38.527713Z"
    }
   },
   "outputs": [],
   "source": [
    "#fcc8 = fcc.repeat((2, 2, 2))\n",
    "fcc8 = fcc * (2, 2, 2)"
   ]
  },
  {
   "cell_type": "code",
   "execution_count": 7,
   "metadata": {
    "ExecuteTime": {
     "end_time": "2018-05-29T11:04:39.047548Z",
     "start_time": "2018-05-29T11:04:39.039871Z"
    }
   },
   "outputs": [
    {
     "data": {
      "text/plain": [
       "array([[[ 4,  0,  0,  0],\n",
       "        [ 4, -1,  0,  0],\n",
       "        [ 0,  0,  0,  0],\n",
       "        [ 0,  0,  0,  0]],\n",
       "\n",
       "       [[ 4,  0,  0,  0],\n",
       "        [ 4, -1,  0,  0],\n",
       "        [ 0,  0,  0,  0],\n",
       "        [ 0,  0,  0,  0]],\n",
       "\n",
       "       [[ 4,  0,  0,  0],\n",
       "        [ 4, -1,  0,  0],\n",
       "        [ 0,  0,  0,  0],\n",
       "        [ 0,  0,  0,  0]],\n",
       "\n",
       "       [[ 4,  0,  0,  0],\n",
       "        [ 4, -1,  0,  0],\n",
       "        [ 0,  0,  0,  0],\n",
       "        [ 0,  0,  0,  0]],\n",
       "\n",
       "       [[-4,  1,  0,  0],\n",
       "        [-4,  0,  0,  0],\n",
       "        [ 0,  0,  0,  0],\n",
       "        [ 0,  0,  0,  0]],\n",
       "\n",
       "       [[-4,  1,  0,  0],\n",
       "        [-4,  0,  0,  0],\n",
       "        [ 0,  0,  0,  0],\n",
       "        [ 0,  0,  0,  0]],\n",
       "\n",
       "       [[-4,  1,  0,  0],\n",
       "        [-4,  0,  0,  0],\n",
       "        [ 0,  0,  0,  0],\n",
       "        [ 0,  0,  0,  0]],\n",
       "\n",
       "       [[-4,  1,  0,  0],\n",
       "        [-4,  0,  0,  0],\n",
       "        [ 0,  0,  0,  0],\n",
       "        [ 0,  0,  0,  0]]])"
      ]
     },
     "execution_count": 7,
     "metadata": {},
     "output_type": "execute_result"
    }
   ],
   "source": [
    "fcc8.get_bonds()"
   ]
  },
  {
   "cell_type": "code",
   "execution_count": 8,
   "metadata": {
    "ExecuteTime": {
     "end_time": "2018-05-29T11:04:49.673870Z",
     "start_time": "2018-05-29T11:04:49.669902Z"
    }
   },
   "outputs": [],
   "source": [
    "fcc8.change_max_bonds(2)"
   ]
  },
  {
   "cell_type": "code",
   "execution_count": 9,
   "metadata": {
    "ExecuteTime": {
     "end_time": "2018-05-29T11:04:51.700542Z",
     "start_time": "2018-05-29T11:04:51.694721Z"
    }
   },
   "outputs": [
    {
     "data": {
      "text/plain": [
       "array([[[ 4,  0,  0,  0],\n",
       "        [ 4, -1,  0,  0]],\n",
       "\n",
       "       [[ 4,  0,  0,  0],\n",
       "        [ 4, -1,  0,  0]],\n",
       "\n",
       "       [[ 4,  0,  0,  0],\n",
       "        [ 4, -1,  0,  0]],\n",
       "\n",
       "       [[ 4,  0,  0,  0],\n",
       "        [ 4, -1,  0,  0]],\n",
       "\n",
       "       [[-4,  1,  0,  0],\n",
       "        [-4,  0,  0,  0]],\n",
       "\n",
       "       [[-4,  1,  0,  0],\n",
       "        [-4,  0,  0,  0]],\n",
       "\n",
       "       [[-4,  1,  0,  0],\n",
       "        [-4,  0,  0,  0]],\n",
       "\n",
       "       [[-4,  1,  0,  0],\n",
       "        [-4,  0,  0,  0]]])"
      ]
     },
     "execution_count": 9,
     "metadata": {},
     "output_type": "execute_result"
    }
   ],
   "source": [
    "fcc8.get_bonds()"
   ]
  },
  {
   "cell_type": "code",
   "execution_count": 10,
   "metadata": {
    "ExecuteTime": {
     "end_time": "2018-05-29T11:04:53.682431Z",
     "start_time": "2018-05-29T11:04:53.677976Z"
    }
   },
   "outputs": [],
   "source": [
    "fcc8.change_max_bonds(8)"
   ]
  },
  {
   "cell_type": "code",
   "execution_count": 11,
   "metadata": {
    "ExecuteTime": {
     "end_time": "2018-05-29T11:04:56.192341Z",
     "start_time": "2018-05-29T11:04:56.185489Z"
    }
   },
   "outputs": [
    {
     "data": {
      "text/plain": [
       "array([[[ 4,  0,  0,  0],\n",
       "        [ 4, -1,  0,  0],\n",
       "        [ 0,  0,  0,  0],\n",
       "        [ 0,  0,  0,  0],\n",
       "        [ 0,  0,  0,  0],\n",
       "        [ 0,  0,  0,  0],\n",
       "        [ 0,  0,  0,  0],\n",
       "        [ 0,  0,  0,  0]],\n",
       "\n",
       "       [[ 4,  0,  0,  0],\n",
       "        [ 4, -1,  0,  0],\n",
       "        [ 0,  0,  0,  0],\n",
       "        [ 0,  0,  0,  0],\n",
       "        [ 0,  0,  0,  0],\n",
       "        [ 0,  0,  0,  0],\n",
       "        [ 0,  0,  0,  0],\n",
       "        [ 0,  0,  0,  0]],\n",
       "\n",
       "       [[ 4,  0,  0,  0],\n",
       "        [ 4, -1,  0,  0],\n",
       "        [ 0,  0,  0,  0],\n",
       "        [ 0,  0,  0,  0],\n",
       "        [ 0,  0,  0,  0],\n",
       "        [ 0,  0,  0,  0],\n",
       "        [ 0,  0,  0,  0],\n",
       "        [ 0,  0,  0,  0]],\n",
       "\n",
       "       [[ 4,  0,  0,  0],\n",
       "        [ 4, -1,  0,  0],\n",
       "        [ 0,  0,  0,  0],\n",
       "        [ 0,  0,  0,  0],\n",
       "        [ 0,  0,  0,  0],\n",
       "        [ 0,  0,  0,  0],\n",
       "        [ 0,  0,  0,  0],\n",
       "        [ 0,  0,  0,  0]],\n",
       "\n",
       "       [[-4,  1,  0,  0],\n",
       "        [-4,  0,  0,  0],\n",
       "        [ 0,  0,  0,  0],\n",
       "        [ 0,  0,  0,  0],\n",
       "        [ 0,  0,  0,  0],\n",
       "        [ 0,  0,  0,  0],\n",
       "        [ 0,  0,  0,  0],\n",
       "        [ 0,  0,  0,  0]],\n",
       "\n",
       "       [[-4,  1,  0,  0],\n",
       "        [-4,  0,  0,  0],\n",
       "        [ 0,  0,  0,  0],\n",
       "        [ 0,  0,  0,  0],\n",
       "        [ 0,  0,  0,  0],\n",
       "        [ 0,  0,  0,  0],\n",
       "        [ 0,  0,  0,  0],\n",
       "        [ 0,  0,  0,  0]],\n",
       "\n",
       "       [[-4,  1,  0,  0],\n",
       "        [-4,  0,  0,  0],\n",
       "        [ 0,  0,  0,  0],\n",
       "        [ 0,  0,  0,  0],\n",
       "        [ 0,  0,  0,  0],\n",
       "        [ 0,  0,  0,  0],\n",
       "        [ 0,  0,  0,  0],\n",
       "        [ 0,  0,  0,  0]],\n",
       "\n",
       "       [[-4,  1,  0,  0],\n",
       "        [-4,  0,  0,  0],\n",
       "        [ 0,  0,  0,  0],\n",
       "        [ 0,  0,  0,  0],\n",
       "        [ 0,  0,  0,  0],\n",
       "        [ 0,  0,  0,  0],\n",
       "        [ 0,  0,  0,  0],\n",
       "        [ 0,  0,  0,  0]]])"
      ]
     },
     "execution_count": 11,
     "metadata": {},
     "output_type": "execute_result"
    }
   ],
   "source": [
    "fcc8.get_bonds()"
   ]
  },
  {
   "cell_type": "code",
   "execution_count": 12,
   "metadata": {
    "ExecuteTime": {
     "end_time": "2018-05-29T11:04:59.531277Z",
     "start_time": "2018-05-29T11:04:59.527311Z"
    }
   },
   "outputs": [],
   "source": [
    "import ase"
   ]
  },
  {
   "cell_type": "code",
   "execution_count": 13,
   "metadata": {
    "ExecuteTime": {
     "end_time": "2018-05-29T11:05:00.294066Z",
     "start_time": "2018-05-29T11:05:00.288994Z"
    }
   },
   "outputs": [],
   "source": [
    "a1 = ase.Atom('Si', (0, 0, 0))"
   ]
  },
  {
   "cell_type": "code",
   "execution_count": 14,
   "metadata": {
    "ExecuteTime": {
     "end_time": "2018-05-29T11:05:00.707125Z",
     "start_time": "2018-05-29T11:05:00.700036Z"
    }
   },
   "outputs": [],
   "source": [
    "fcc_a1 = fcc + a1"
   ]
  },
  {
   "cell_type": "code",
   "execution_count": 15,
   "metadata": {
    "ExecuteTime": {
     "end_time": "2018-05-29T11:05:01.099831Z",
     "start_time": "2018-05-29T11:05:01.088751Z"
    }
   },
   "outputs": [
    {
     "data": {
      "text/plain": [
       "ease4lmp.bonded_atoms.BondedAtoms"
      ]
     },
     "execution_count": 15,
     "metadata": {},
     "output_type": "execute_result"
    }
   ],
   "source": [
    "type(fcc_a1)"
   ]
  },
  {
   "cell_type": "code",
   "execution_count": 16,
   "metadata": {
    "ExecuteTime": {
     "end_time": "2018-05-29T11:05:02.906736Z",
     "start_time": "2018-05-29T11:05:02.899752Z"
    },
    "scrolled": false
   },
   "outputs": [
    {
     "data": {
      "text/plain": [
       "array([[[ 0,  1,  0,  0],\n",
       "        [ 0, -1,  0,  0],\n",
       "        [ 0,  0,  0,  0],\n",
       "        [ 0,  0,  0,  0]],\n",
       "\n",
       "       [[ 0,  0,  0,  0],\n",
       "        [ 0,  0,  0,  0],\n",
       "        [ 0,  0,  0,  0],\n",
       "        [ 0,  0,  0,  0]]])"
      ]
     },
     "execution_count": 16,
     "metadata": {},
     "output_type": "execute_result"
    }
   ],
   "source": [
    "fcc_a1.get_bonds()"
   ]
  },
  {
   "cell_type": "code",
   "execution_count": 17,
   "metadata": {
    "ExecuteTime": {
     "end_time": "2018-05-29T11:05:04.678320Z",
     "start_time": "2018-05-29T11:05:04.674314Z"
    }
   },
   "outputs": [],
   "source": [
    "a2 = ase.Atom('Fe', (0, 0, 0))"
   ]
  },
  {
   "cell_type": "code",
   "execution_count": 18,
   "metadata": {
    "ExecuteTime": {
     "end_time": "2018-05-29T11:05:04.965927Z",
     "start_time": "2018-05-29T11:05:04.956591Z"
    }
   },
   "outputs": [],
   "source": [
    "fcc_a1.append(a2)"
   ]
  },
  {
   "cell_type": "code",
   "execution_count": 19,
   "metadata": {
    "ExecuteTime": {
     "end_time": "2018-05-29T11:05:05.731735Z",
     "start_time": "2018-05-29T11:05:05.722351Z"
    },
    "scrolled": false
   },
   "outputs": [
    {
     "data": {
      "text/plain": [
       "array([[[ 0,  1,  0,  0],\n",
       "        [ 0, -1,  0,  0],\n",
       "        [ 0,  0,  0,  0],\n",
       "        [ 0,  0,  0,  0]],\n",
       "\n",
       "       [[ 0,  0,  0,  0],\n",
       "        [ 0,  0,  0,  0],\n",
       "        [ 0,  0,  0,  0],\n",
       "        [ 0,  0,  0,  0]],\n",
       "\n",
       "       [[ 0,  0,  0,  0],\n",
       "        [ 0,  0,  0,  0],\n",
       "        [ 0,  0,  0,  0],\n",
       "        [ 0,  0,  0,  0]]])"
      ]
     },
     "execution_count": 19,
     "metadata": {},
     "output_type": "execute_result"
    }
   ],
   "source": [
    "fcc_a1.get_bonds()"
   ]
  },
  {
   "cell_type": "code",
   "execution_count": 20,
   "metadata": {
    "ExecuteTime": {
     "end_time": "2018-05-29T11:05:07.216395Z",
     "start_time": "2018-05-29T11:05:07.210850Z"
    }
   },
   "outputs": [],
   "source": [
    "a = ase.Atoms('N2', [(0, 0, 0), (0, 0, 1.104)])"
   ]
  },
  {
   "cell_type": "code",
   "execution_count": 21,
   "metadata": {
    "ExecuteTime": {
     "end_time": "2018-05-29T11:05:07.623205Z",
     "start_time": "2018-05-29T11:05:07.615976Z"
    }
   },
   "outputs": [],
   "source": [
    "fcc_a = fcc + a"
   ]
  },
  {
   "cell_type": "code",
   "execution_count": 22,
   "metadata": {
    "ExecuteTime": {
     "end_time": "2018-05-29T11:05:09.176045Z",
     "start_time": "2018-05-29T11:05:09.166564Z"
    }
   },
   "outputs": [
    {
     "data": {
      "text/plain": [
       "array([[[ 0,  1,  0,  0],\n",
       "        [ 0, -1,  0,  0],\n",
       "        [ 0,  0,  0,  0],\n",
       "        [ 0,  0,  0,  0]],\n",
       "\n",
       "       [[ 0,  0,  0,  0],\n",
       "        [ 0,  0,  0,  0],\n",
       "        [ 0,  0,  0,  0],\n",
       "        [ 0,  0,  0,  0]],\n",
       "\n",
       "       [[ 0,  0,  0,  0],\n",
       "        [ 0,  0,  0,  0],\n",
       "        [ 0,  0,  0,  0],\n",
       "        [ 0,  0,  0,  0]]])"
      ]
     },
     "execution_count": 22,
     "metadata": {},
     "output_type": "execute_result"
    }
   ],
   "source": [
    "fcc_a.get_bonds()"
   ]
  },
  {
   "cell_type": "code",
   "execution_count": 23,
   "metadata": {
    "ExecuteTime": {
     "end_time": "2018-05-29T11:05:10.826494Z",
     "start_time": "2018-05-29T11:05:10.821610Z"
    }
   },
   "outputs": [],
   "source": [
    "fcc5 = fcc.repeat((5, 1, 1))"
   ]
  },
  {
   "cell_type": "code",
   "execution_count": 24,
   "metadata": {
    "ExecuteTime": {
     "end_time": "2018-05-29T11:05:11.881337Z",
     "start_time": "2018-05-29T11:05:11.875260Z"
    }
   },
   "outputs": [
    {
     "data": {
      "text/plain": [
       "array([[[ 1,  0,  0,  0],\n",
       "        [ 4, -1,  0,  0],\n",
       "        [ 0,  0,  0,  0],\n",
       "        [ 0,  0,  0,  0]],\n",
       "\n",
       "       [[ 1,  0,  0,  0],\n",
       "        [-1,  0,  0,  0],\n",
       "        [ 0,  0,  0,  0],\n",
       "        [ 0,  0,  0,  0]],\n",
       "\n",
       "       [[ 1,  0,  0,  0],\n",
       "        [-1,  0,  0,  0],\n",
       "        [ 0,  0,  0,  0],\n",
       "        [ 0,  0,  0,  0]],\n",
       "\n",
       "       [[ 1,  0,  0,  0],\n",
       "        [-1,  0,  0,  0],\n",
       "        [ 0,  0,  0,  0],\n",
       "        [ 0,  0,  0,  0]],\n",
       "\n",
       "       [[-4,  1,  0,  0],\n",
       "        [-1,  0,  0,  0],\n",
       "        [ 0,  0,  0,  0],\n",
       "        [ 0,  0,  0,  0]]])"
      ]
     },
     "execution_count": 24,
     "metadata": {},
     "output_type": "execute_result"
    }
   ],
   "source": [
    "fcc5.get_bonds()"
   ]
  },
  {
   "cell_type": "code",
   "execution_count": 25,
   "metadata": {
    "ExecuteTime": {
     "end_time": "2018-05-29T11:05:17.370895Z",
     "start_time": "2018-05-29T11:05:17.360721Z"
    }
   },
   "outputs": [
    {
     "data": {
      "text/plain": [
       "Atom('Au', [0.0, 4.05, 4.05])"
      ]
     },
     "execution_count": 25,
     "metadata": {},
     "output_type": "execute_result"
    }
   ],
   "source": [
    "fcc5.pop(2)"
   ]
  },
  {
   "cell_type": "code",
   "execution_count": 26,
   "metadata": {
    "ExecuteTime": {
     "end_time": "2018-05-29T11:05:19.099401Z",
     "start_time": "2018-05-29T11:05:19.090394Z"
    }
   },
   "outputs": [
    {
     "data": {
      "text/plain": [
       "array([[[ 1,  0,  0,  0],\n",
       "        [ 3, -1,  0,  0],\n",
       "        [ 0,  0,  0,  0],\n",
       "        [ 0,  0,  0,  0]],\n",
       "\n",
       "       [[-1,  0,  0,  0],\n",
       "        [ 0,  0,  0,  0],\n",
       "        [ 0,  0,  0,  0],\n",
       "        [ 0,  0,  0,  0]],\n",
       "\n",
       "       [[ 1,  0,  0,  0],\n",
       "        [ 0,  0,  0,  0],\n",
       "        [ 0,  0,  0,  0],\n",
       "        [ 0,  0,  0,  0]],\n",
       "\n",
       "       [[-3,  1,  0,  0],\n",
       "        [-1,  0,  0,  0],\n",
       "        [ 0,  0,  0,  0],\n",
       "        [ 0,  0,  0,  0]]])"
      ]
     },
     "execution_count": 26,
     "metadata": {},
     "output_type": "execute_result"
    }
   ],
   "source": [
    "fcc5.get_bonds()"
   ]
  },
  {
   "cell_type": "code",
   "execution_count": null,
   "metadata": {},
   "outputs": [],
   "source": []
  }
 ],
 "metadata": {
  "kernelspec": {
   "display_name": "Python 3",
   "language": "python",
   "name": "python3"
  },
  "language_info": {
   "codemirror_mode": {
    "name": "ipython",
    "version": 3
   },
   "file_extension": ".py",
   "mimetype": "text/x-python",
   "name": "python",
   "nbconvert_exporter": "python",
   "pygments_lexer": "ipython3",
   "version": "3.6.5"
  },
  "toc": {
   "base_numbering": 1,
   "nav_menu": {},
   "number_sections": true,
   "sideBar": true,
   "skip_h1_title": true,
   "title_cell": "Table of Contents",
   "title_sidebar": "Contents",
   "toc_cell": false,
   "toc_position": {},
   "toc_section_display": true,
   "toc_window_display": false
  }
 },
 "nbformat": 4,
 "nbformat_minor": 2
}
