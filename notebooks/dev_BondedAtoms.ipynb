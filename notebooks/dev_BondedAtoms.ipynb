{
 "cells": [
  {
   "cell_type": "code",
   "execution_count": 1,
   "metadata": {
    "ExecuteTime": {
     "end_time": "2018-06-05T00:03:28.217124Z",
     "start_time": "2018-06-05T00:03:28.059464Z"
    }
   },
   "outputs": [],
   "source": [
    "from ease4lmp import BondedAtoms"
   ]
  },
  {
   "cell_type": "markdown",
   "metadata": {},
   "source": [
    "## Check Operators"
   ]
  },
  {
   "cell_type": "code",
   "execution_count": 2,
   "metadata": {
    "ExecuteTime": {
     "end_time": "2018-06-05T00:03:29.120815Z",
     "start_time": "2018-06-05T00:03:29.113295Z"
    }
   },
   "outputs": [],
   "source": [
    "a = 4.05  # Gold lattice constant\n",
    "b = a / 2\n",
    "fcc = BondedAtoms(\n",
    "    'Au',\n",
    "    cell=[(0, b, b), (b, 0, b), (b, b, 0)],\n",
    "    pbc=True\n",
    ")"
   ]
  },
  {
   "cell_type": "code",
   "execution_count": 3,
   "metadata": {
    "ExecuteTime": {
     "end_time": "2018-06-05T00:03:29.265108Z",
     "start_time": "2018-06-05T00:03:29.255170Z"
    }
   },
   "outputs": [],
   "source": [
    "fcc.add_bond(0, 0, img2=(1,0,0))"
   ]
  },
  {
   "cell_type": "code",
   "execution_count": 4,
   "metadata": {
    "ExecuteTime": {
     "end_time": "2018-06-05T00:03:29.418285Z",
     "start_time": "2018-06-05T00:03:29.389747Z"
    }
   },
   "outputs": [
    {
     "data": {
      "text/plain": [
       "array([[[ 0,  1,  0,  0],\n",
       "        [ 0, -1,  0,  0],\n",
       "        [ 0,  0,  0,  0],\n",
       "        [ 0,  0,  0,  0]]])"
      ]
     },
     "execution_count": 4,
     "metadata": {},
     "output_type": "execute_result"
    }
   ],
   "source": [
    "fcc.get_bonds()"
   ]
  },
  {
   "cell_type": "code",
   "execution_count": 5,
   "metadata": {
    "ExecuteTime": {
     "end_time": "2018-06-05T00:03:29.736513Z",
     "start_time": "2018-06-05T00:03:29.722736Z"
    }
   },
   "outputs": [],
   "source": [
    "#fcc8 = fcc.repeat((2, 2, 2))\n",
    "fcc8 = fcc * (2, 2, 2)"
   ]
  },
  {
   "cell_type": "code",
   "execution_count": 6,
   "metadata": {
    "ExecuteTime": {
     "end_time": "2018-06-05T00:03:29.936072Z",
     "start_time": "2018-06-05T00:03:29.921382Z"
    }
   },
   "outputs": [
    {
     "data": {
      "text/plain": [
       "array([[[ 4,  0,  0,  0],\n",
       "        [ 4, -1,  0,  0],\n",
       "        [ 0,  0,  0,  0],\n",
       "        [ 0,  0,  0,  0]],\n",
       "\n",
       "       [[ 4,  0,  0,  0],\n",
       "        [ 4, -1,  0,  0],\n",
       "        [ 0,  0,  0,  0],\n",
       "        [ 0,  0,  0,  0]],\n",
       "\n",
       "       [[ 4,  0,  0,  0],\n",
       "        [ 4, -1,  0,  0],\n",
       "        [ 0,  0,  0,  0],\n",
       "        [ 0,  0,  0,  0]],\n",
       "\n",
       "       [[ 4,  0,  0,  0],\n",
       "        [ 4, -1,  0,  0],\n",
       "        [ 0,  0,  0,  0],\n",
       "        [ 0,  0,  0,  0]],\n",
       "\n",
       "       [[-4,  1,  0,  0],\n",
       "        [-4,  0,  0,  0],\n",
       "        [ 0,  0,  0,  0],\n",
       "        [ 0,  0,  0,  0]],\n",
       "\n",
       "       [[-4,  1,  0,  0],\n",
       "        [-4,  0,  0,  0],\n",
       "        [ 0,  0,  0,  0],\n",
       "        [ 0,  0,  0,  0]],\n",
       "\n",
       "       [[-4,  1,  0,  0],\n",
       "        [-4,  0,  0,  0],\n",
       "        [ 0,  0,  0,  0],\n",
       "        [ 0,  0,  0,  0]],\n",
       "\n",
       "       [[-4,  1,  0,  0],\n",
       "        [-4,  0,  0,  0],\n",
       "        [ 0,  0,  0,  0],\n",
       "        [ 0,  0,  0,  0]]])"
      ]
     },
     "execution_count": 6,
     "metadata": {},
     "output_type": "execute_result"
    }
   ],
   "source": [
    "fcc8.get_bonds()"
   ]
  },
  {
   "cell_type": "code",
   "execution_count": 7,
   "metadata": {
    "ExecuteTime": {
     "end_time": "2018-06-05T00:03:30.145389Z",
     "start_time": "2018-06-05T00:03:30.137399Z"
    }
   },
   "outputs": [],
   "source": [
    "fcc8.change_max_bonds(2)"
   ]
  },
  {
   "cell_type": "code",
   "execution_count": 8,
   "metadata": {
    "ExecuteTime": {
     "end_time": "2018-06-05T00:03:30.333249Z",
     "start_time": "2018-06-05T00:03:30.319916Z"
    }
   },
   "outputs": [
    {
     "data": {
      "text/plain": [
       "array([[[ 4,  0,  0,  0],\n",
       "        [ 4, -1,  0,  0]],\n",
       "\n",
       "       [[ 4,  0,  0,  0],\n",
       "        [ 4, -1,  0,  0]],\n",
       "\n",
       "       [[ 4,  0,  0,  0],\n",
       "        [ 4, -1,  0,  0]],\n",
       "\n",
       "       [[ 4,  0,  0,  0],\n",
       "        [ 4, -1,  0,  0]],\n",
       "\n",
       "       [[-4,  1,  0,  0],\n",
       "        [-4,  0,  0,  0]],\n",
       "\n",
       "       [[-4,  1,  0,  0],\n",
       "        [-4,  0,  0,  0]],\n",
       "\n",
       "       [[-4,  1,  0,  0],\n",
       "        [-4,  0,  0,  0]],\n",
       "\n",
       "       [[-4,  1,  0,  0],\n",
       "        [-4,  0,  0,  0]]])"
      ]
     },
     "execution_count": 8,
     "metadata": {},
     "output_type": "execute_result"
    }
   ],
   "source": [
    "fcc8.get_bonds()"
   ]
  },
  {
   "cell_type": "code",
   "execution_count": 9,
   "metadata": {
    "ExecuteTime": {
     "end_time": "2018-06-05T00:03:30.525006Z",
     "start_time": "2018-06-05T00:03:30.521202Z"
    }
   },
   "outputs": [],
   "source": [
    "import ase"
   ]
  },
  {
   "cell_type": "code",
   "execution_count": 10,
   "metadata": {
    "ExecuteTime": {
     "end_time": "2018-06-05T00:03:30.738028Z",
     "start_time": "2018-06-05T00:03:30.724518Z"
    }
   },
   "outputs": [],
   "source": [
    "atom = ase.Atom('Fe', (0, 0, 0))"
   ]
  },
  {
   "cell_type": "code",
   "execution_count": 11,
   "metadata": {
    "ExecuteTime": {
     "end_time": "2018-06-05T00:03:30.919994Z",
     "start_time": "2018-06-05T00:03:30.910707Z"
    }
   },
   "outputs": [],
   "source": [
    "fcc_atom = fcc.copy()\n",
    "fcc_atom.append(atom)"
   ]
  },
  {
   "cell_type": "code",
   "execution_count": 12,
   "metadata": {
    "ExecuteTime": {
     "end_time": "2018-06-05T00:03:31.074876Z",
     "start_time": "2018-06-05T00:03:31.063885Z"
    },
    "scrolled": false
   },
   "outputs": [
    {
     "data": {
      "text/plain": [
       "array([[[ 0,  1,  0,  0],\n",
       "        [ 0, -1,  0,  0],\n",
       "        [ 0,  0,  0,  0],\n",
       "        [ 0,  0,  0,  0]],\n",
       "\n",
       "       [[ 0,  0,  0,  0],\n",
       "        [ 0,  0,  0,  0],\n",
       "        [ 0,  0,  0,  0],\n",
       "        [ 0,  0,  0,  0]]])"
      ]
     },
     "execution_count": 12,
     "metadata": {},
     "output_type": "execute_result"
    }
   ],
   "source": [
    "fcc_atom.get_bonds()"
   ]
  },
  {
   "cell_type": "code",
   "execution_count": 13,
   "metadata": {
    "ExecuteTime": {
     "end_time": "2018-06-05T00:03:35.237811Z",
     "start_time": "2018-06-05T00:03:35.228840Z"
    }
   },
   "outputs": [],
   "source": [
    "mol = ase.Atoms('N2', [(0, 0, 0), (0, 0, 1.104)])"
   ]
  },
  {
   "cell_type": "code",
   "execution_count": 14,
   "metadata": {
    "ExecuteTime": {
     "end_time": "2018-06-05T00:03:35.706542Z",
     "start_time": "2018-06-05T00:03:35.696331Z"
    }
   },
   "outputs": [],
   "source": [
    "fcc_mol = fcc + mol"
   ]
  },
  {
   "cell_type": "code",
   "execution_count": 15,
   "metadata": {
    "ExecuteTime": {
     "end_time": "2018-06-05T00:03:36.079659Z",
     "start_time": "2018-06-05T00:03:36.072685Z"
    }
   },
   "outputs": [
    {
     "data": {
      "text/plain": [
       "array([[[ 0,  1,  0,  0],\n",
       "        [ 0, -1,  0,  0],\n",
       "        [ 0,  0,  0,  0],\n",
       "        [ 0,  0,  0,  0]],\n",
       "\n",
       "       [[ 0,  0,  0,  0],\n",
       "        [ 0,  0,  0,  0],\n",
       "        [ 0,  0,  0,  0],\n",
       "        [ 0,  0,  0,  0]],\n",
       "\n",
       "       [[ 0,  0,  0,  0],\n",
       "        [ 0,  0,  0,  0],\n",
       "        [ 0,  0,  0,  0],\n",
       "        [ 0,  0,  0,  0]]])"
      ]
     },
     "execution_count": 15,
     "metadata": {},
     "output_type": "execute_result"
    }
   ],
   "source": [
    "fcc_mol.get_bonds()"
   ]
  },
  {
   "cell_type": "code",
   "execution_count": 16,
   "metadata": {
    "ExecuteTime": {
     "end_time": "2018-06-05T00:03:36.245969Z",
     "start_time": "2018-06-05T00:03:36.240187Z"
    }
   },
   "outputs": [],
   "source": [
    "fcc5 = fcc.repeat((5, 1, 1))"
   ]
  },
  {
   "cell_type": "code",
   "execution_count": 17,
   "metadata": {
    "ExecuteTime": {
     "end_time": "2018-06-05T00:03:36.386307Z",
     "start_time": "2018-06-05T00:03:36.375742Z"
    }
   },
   "outputs": [
    {
     "data": {
      "text/plain": [
       "array([[[ 1,  0,  0,  0],\n",
       "        [ 4, -1,  0,  0],\n",
       "        [ 0,  0,  0,  0],\n",
       "        [ 0,  0,  0,  0]],\n",
       "\n",
       "       [[ 1,  0,  0,  0],\n",
       "        [-1,  0,  0,  0],\n",
       "        [ 0,  0,  0,  0],\n",
       "        [ 0,  0,  0,  0]],\n",
       "\n",
       "       [[ 1,  0,  0,  0],\n",
       "        [-1,  0,  0,  0],\n",
       "        [ 0,  0,  0,  0],\n",
       "        [ 0,  0,  0,  0]],\n",
       "\n",
       "       [[ 1,  0,  0,  0],\n",
       "        [-1,  0,  0,  0],\n",
       "        [ 0,  0,  0,  0],\n",
       "        [ 0,  0,  0,  0]],\n",
       "\n",
       "       [[-4,  1,  0,  0],\n",
       "        [-1,  0,  0,  0],\n",
       "        [ 0,  0,  0,  0],\n",
       "        [ 0,  0,  0,  0]]])"
      ]
     },
     "execution_count": 17,
     "metadata": {},
     "output_type": "execute_result"
    }
   ],
   "source": [
    "fcc5.get_bonds()"
   ]
  },
  {
   "cell_type": "code",
   "execution_count": 18,
   "metadata": {
    "ExecuteTime": {
     "end_time": "2018-06-05T00:03:36.956678Z",
     "start_time": "2018-06-05T00:03:36.942426Z"
    }
   },
   "outputs": [
    {
     "data": {
      "text/plain": [
       "Atom('Au', [0.0, 4.05, 4.05])"
      ]
     },
     "execution_count": 18,
     "metadata": {},
     "output_type": "execute_result"
    }
   ],
   "source": [
    "fcc5.pop(2)"
   ]
  },
  {
   "cell_type": "code",
   "execution_count": 19,
   "metadata": {
    "ExecuteTime": {
     "end_time": "2018-06-05T00:03:38.547095Z",
     "start_time": "2018-06-05T00:03:38.534004Z"
    }
   },
   "outputs": [
    {
     "data": {
      "text/plain": [
       "array([[[ 1,  0,  0,  0],\n",
       "        [ 3, -1,  0,  0],\n",
       "        [ 0,  0,  0,  0],\n",
       "        [ 0,  0,  0,  0]],\n",
       "\n",
       "       [[-1,  0,  0,  0],\n",
       "        [ 0,  0,  0,  0],\n",
       "        [ 0,  0,  0,  0],\n",
       "        [ 0,  0,  0,  0]],\n",
       "\n",
       "       [[ 1,  0,  0,  0],\n",
       "        [ 0,  0,  0,  0],\n",
       "        [ 0,  0,  0,  0],\n",
       "        [ 0,  0,  0,  0]],\n",
       "\n",
       "       [[-3,  1,  0,  0],\n",
       "        [-1,  0,  0,  0],\n",
       "        [ 0,  0,  0,  0],\n",
       "        [ 0,  0,  0,  0]]])"
      ]
     },
     "execution_count": 19,
     "metadata": {},
     "output_type": "execute_result"
    }
   ],
   "source": [
    "fcc5.get_bonds()"
   ]
  },
  {
   "cell_type": "code",
   "execution_count": 20,
   "metadata": {
    "ExecuteTime": {
     "end_time": "2018-06-05T00:03:38.931104Z",
     "start_time": "2018-06-05T00:03:38.922929Z"
    }
   },
   "outputs": [],
   "source": [
    "fcc5.remove_bond(0, 3, img1=(1,0,0))"
   ]
  },
  {
   "cell_type": "code",
   "execution_count": 21,
   "metadata": {
    "ExecuteTime": {
     "end_time": "2018-06-05T00:03:39.334265Z",
     "start_time": "2018-06-05T00:03:39.320129Z"
    }
   },
   "outputs": [
    {
     "data": {
      "text/plain": [
       "array([[[ 1,  0,  0,  0],\n",
       "        [ 0,  0,  0,  0],\n",
       "        [ 0,  0,  0,  0],\n",
       "        [ 0,  0,  0,  0]],\n",
       "\n",
       "       [[-1,  0,  0,  0],\n",
       "        [ 0,  0,  0,  0],\n",
       "        [ 0,  0,  0,  0],\n",
       "        [ 0,  0,  0,  0]],\n",
       "\n",
       "       [[ 1,  0,  0,  0],\n",
       "        [ 0,  0,  0,  0],\n",
       "        [ 0,  0,  0,  0],\n",
       "        [ 0,  0,  0,  0]],\n",
       "\n",
       "       [[-1,  0,  0,  0],\n",
       "        [ 0,  0,  0,  0],\n",
       "        [ 0,  0,  0,  0],\n",
       "        [ 0,  0,  0,  0]]])"
      ]
     },
     "execution_count": 21,
     "metadata": {},
     "output_type": "execute_result"
    }
   ],
   "source": [
    "fcc5.get_bonds()"
   ]
  },
  {
   "cell_type": "markdown",
   "metadata": {},
   "source": [
    "## Check functions for topology"
   ]
  },
  {
   "cell_type": "code",
   "execution_count": 22,
   "metadata": {
    "ExecuteTime": {
     "end_time": "2018-06-05T00:03:42.437704Z",
     "start_time": "2018-06-05T00:03:42.408160Z"
    }
   },
   "outputs": [],
   "source": [
    "from ase.build import molecule"
   ]
  },
  {
   "cell_type": "code",
   "execution_count": 37,
   "metadata": {
    "ExecuteTime": {
     "end_time": "2018-06-05T00:04:48.847396Z",
     "start_time": "2018-06-05T00:04:48.841801Z"
    }
   },
   "outputs": [],
   "source": [
    "methanol = molecule(\"CH3OH\")"
   ]
  },
  {
   "cell_type": "code",
   "execution_count": 38,
   "metadata": {
    "ExecuteTime": {
     "end_time": "2018-06-05T00:04:49.012892Z",
     "start_time": "2018-06-05T00:04:48.996770Z"
    }
   },
   "outputs": [
    {
     "data": {
      "text/plain": [
       "array([6, 8, 1, 1, 1, 1])"
      ]
     },
     "execution_count": 38,
     "metadata": {},
     "output_type": "execute_result"
    }
   ],
   "source": [
    "methanol.get_atomic_numbers()"
   ]
  },
  {
   "cell_type": "code",
   "execution_count": 39,
   "metadata": {
    "ExecuteTime": {
     "end_time": "2018-06-05T00:04:49.164304Z",
     "start_time": "2018-06-05T00:04:49.146285Z"
    }
   },
   "outputs": [
    {
     "data": {
      "text/plain": [
       "array([[-0.047131,  0.664389,  0.      ],\n",
       "       [-0.047131, -0.758551,  0.      ],\n",
       "       [-1.092995,  0.969785,  0.      ],\n",
       "       [ 0.878534, -1.048458,  0.      ],\n",
       "       [ 0.437145,  1.080376,  0.891772],\n",
       "       [ 0.437145,  1.080376, -0.891772]])"
      ]
     },
     "execution_count": 39,
     "metadata": {},
     "output_type": "execute_result"
    }
   ],
   "source": [
    "methanol.get_positions()"
   ]
  },
  {
   "cell_type": "code",
   "execution_count": 40,
   "metadata": {
    "ExecuteTime": {
     "end_time": "2018-06-05T00:04:49.690118Z",
     "start_time": "2018-06-05T00:04:49.683849Z"
    }
   },
   "outputs": [
    {
     "data": {
      "text/plain": [
       "1.0895403725020931"
      ]
     },
     "execution_count": 40,
     "metadata": {},
     "output_type": "execute_result"
    }
   ],
   "source": [
    "methanol.get_distance(0, 2)"
   ]
  },
  {
   "cell_type": "code",
   "execution_count": 41,
   "metadata": {
    "ExecuteTime": {
     "end_time": "2018-06-05T00:04:51.332259Z",
     "start_time": "2018-06-05T00:04:51.323810Z"
    }
   },
   "outputs": [
    {
     "data": {
      "text/plain": [
       "0.9700009076665858"
      ]
     },
     "execution_count": 41,
     "metadata": {},
     "output_type": "execute_result"
    }
   ],
   "source": [
    "methanol.get_distance(1, 3)"
   ]
  },
  {
   "cell_type": "code",
   "execution_count": 42,
   "metadata": {
    "ExecuteTime": {
     "end_time": "2018-06-05T00:04:52.158507Z",
     "start_time": "2018-06-05T00:04:52.154550Z"
    }
   },
   "outputs": [],
   "source": [
    "methanol = BondedAtoms.inherit(methanol)"
   ]
  },
  {
   "cell_type": "code",
   "execution_count": 43,
   "metadata": {
    "ExecuteTime": {
     "end_time": "2018-06-05T00:04:53.682047Z",
     "start_time": "2018-06-05T00:04:53.674279Z"
    }
   },
   "outputs": [],
   "source": [
    "bond_list = [(0, 1), (0, 2), (0, 4), (0, 5), (1, 3)]\n",
    "for t in bond_list:\n",
    "    methanol.add_bond(*t)"
   ]
  },
  {
   "cell_type": "code",
   "execution_count": 44,
   "metadata": {
    "ExecuteTime": {
     "end_time": "2018-06-05T00:05:02.059566Z",
     "start_time": "2018-06-05T00:05:02.046073Z"
    }
   },
   "outputs": [
    {
     "data": {
      "text/plain": [
       "array([[0, 1],\n",
       "       [1, 3],\n",
       "       [0, 5],\n",
       "       [0, 4],\n",
       "       [0, 2]])"
      ]
     },
     "execution_count": 44,
     "metadata": {},
     "output_type": "execute_result"
    }
   ],
   "source": [
    "methanol.get_bonded_bonds()"
   ]
  },
  {
   "cell_type": "code",
   "execution_count": 45,
   "metadata": {
    "ExecuteTime": {
     "end_time": "2018-06-05T00:05:04.991134Z",
     "start_time": "2018-06-05T00:05:04.984008Z"
    }
   },
   "outputs": [
    {
     "data": {
      "text/plain": [
       "array([[1, 0, 2],\n",
       "       [1, 0, 4],\n",
       "       [1, 0, 5],\n",
       "       [2, 0, 4],\n",
       "       [2, 0, 5],\n",
       "       [4, 0, 5],\n",
       "       [0, 1, 3]])"
      ]
     },
     "execution_count": 45,
     "metadata": {},
     "output_type": "execute_result"
    }
   ],
   "source": [
    "methanol.get_bonded_angles()"
   ]
  },
  {
   "cell_type": "code",
   "execution_count": 46,
   "metadata": {
    "ExecuteTime": {
     "end_time": "2018-06-05T00:05:16.094624Z",
     "start_time": "2018-06-05T00:05:16.087930Z"
    }
   },
   "outputs": [
    {
     "data": {
      "text/plain": [
       "array([[2, 0, 1, 3],\n",
       "       [4, 0, 1, 3],\n",
       "       [5, 0, 1, 3]])"
      ]
     },
     "execution_count": 46,
     "metadata": {},
     "output_type": "execute_result"
    }
   ],
   "source": [
    "methanol.get_bonded_dihedrals()"
   ]
  },
  {
   "cell_type": "code",
   "execution_count": 47,
   "metadata": {
    "ExecuteTime": {
     "end_time": "2018-06-05T00:05:18.493265Z",
     "start_time": "2018-06-05T00:05:18.483282Z"
    }
   },
   "outputs": [
    {
     "data": {
      "text/plain": [
       "array([[0, 1, 2, 4],\n",
       "       [0, 1, 2, 5],\n",
       "       [0, 1, 4, 5],\n",
       "       [0, 2, 4, 5]])"
      ]
     },
     "execution_count": 47,
     "metadata": {},
     "output_type": "execute_result"
    }
   ],
   "source": [
    "methanol.get_bonded_impropers()"
   ]
  },
  {
   "cell_type": "code",
   "execution_count": null,
   "metadata": {},
   "outputs": [],
   "source": []
  }
 ],
 "metadata": {
  "kernelspec": {
   "display_name": "Python 3",
   "language": "python",
   "name": "python3"
  },
  "language_info": {
   "codemirror_mode": {
    "name": "ipython",
    "version": 3
   },
   "file_extension": ".py",
   "mimetype": "text/x-python",
   "name": "python",
   "nbconvert_exporter": "python",
   "pygments_lexer": "ipython3",
   "version": "3.6.5"
  },
  "toc": {
   "base_numbering": 1,
   "nav_menu": {},
   "number_sections": true,
   "sideBar": true,
   "skip_h1_title": true,
   "title_cell": "Table of Contents",
   "title_sidebar": "Contents",
   "toc_cell": false,
   "toc_position": {},
   "toc_section_display": true,
   "toc_window_display": false
  }
 },
 "nbformat": 4,
 "nbformat_minor": 2
}
