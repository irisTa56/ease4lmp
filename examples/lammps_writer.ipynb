{
 "cells": [
  {
   "cell_type": "code",
   "execution_count": 1,
   "metadata": {
    "ExecuteTime": {
     "end_time": "2019-02-15T21:21:41.170070Z",
     "start_time": "2019-02-15T21:21:41.028289Z"
    }
   },
   "outputs": [],
   "source": [
    "from ease4lmp import BondedAtoms, LammpsWriter\n",
    "from ase import Atoms\n",
    "from ase.build import bulk, molecule"
   ]
  },
  {
   "cell_type": "code",
   "execution_count": 2,
   "metadata": {
    "ExecuteTime": {
     "end_time": "2019-02-15T21:21:41.183798Z",
     "start_time": "2019-02-15T21:21:41.173718Z"
    }
   },
   "outputs": [],
   "source": [
    "import itertools\n",
    "import numpy as np"
   ]
  },
  {
   "cell_type": "markdown",
   "metadata": {},
   "source": [
    "## Methanol"
   ]
  },
  {
   "cell_type": "code",
   "execution_count": 3,
   "metadata": {
    "ExecuteTime": {
     "end_time": "2019-02-15T21:21:41.254723Z",
     "start_time": "2019-02-15T21:21:41.227182Z"
    }
   },
   "outputs": [],
   "source": [
    "atoms = BondedAtoms(molecule(\"CH3OH\"))"
   ]
  },
  {
   "cell_type": "code",
   "execution_count": 4,
   "metadata": {
    "ExecuteTime": {
     "end_time": "2019-02-15T21:21:41.272246Z",
     "start_time": "2019-02-15T21:21:41.257835Z"
    }
   },
   "outputs": [
    {
     "data": {
      "text/plain": [
       "array([6, 8, 1, 1, 1, 1])"
      ]
     },
     "execution_count": 4,
     "metadata": {},
     "output_type": "execute_result"
    }
   ],
   "source": [
    "atoms.get_atomic_numbers()"
   ]
  },
  {
   "cell_type": "code",
   "execution_count": 5,
   "metadata": {
    "ExecuteTime": {
     "end_time": "2019-02-15T21:21:41.285118Z",
     "start_time": "2019-02-15T21:21:41.275513Z"
    }
   },
   "outputs": [
    {
     "name": "stdout",
     "output_type": "stream",
     "text": [
      "O-H 0.9700009076665858\n",
      "C-H 1.0895403725020931\n",
      "C-H 1.0967341192508784\n",
      "C-H 1.0967341192508784\n"
     ]
    }
   ],
   "source": [
    "print(\"O-H\", atoms.get_distance(1, 3))\n",
    "print(\"C-H\", atoms.get_distance(0, 2))\n",
    "print(\"C-H\", atoms.get_distance(0, 4))\n",
    "print(\"C-H\", atoms.get_distance(0, 5))"
   ]
  },
  {
   "cell_type": "code",
   "execution_count": 6,
   "metadata": {
    "ExecuteTime": {
     "end_time": "2019-02-15T21:21:41.299556Z",
     "start_time": "2019-02-15T21:21:41.293040Z"
    }
   },
   "outputs": [],
   "source": [
    "atoms.set_types([1, 2, 3, 4, 3, 3])"
   ]
  },
  {
   "cell_type": "markdown",
   "metadata": {},
   "source": [
    "Create bonds connecting two atoms separated by less than 1.5 angstroms."
   ]
  },
  {
   "cell_type": "code",
   "execution_count": 7,
   "metadata": {
    "ExecuteTime": {
     "end_time": "2019-02-15T21:21:41.416998Z",
     "start_time": "2019-02-15T21:21:41.401039Z"
    }
   },
   "outputs": [
    {
     "data": {
      "text/plain": [
       "[(0, 1), (0, 2), (0, 4), (0, 5), (1, 3)]"
      ]
     },
     "execution_count": 7,
     "metadata": {},
     "output_type": "execute_result"
    }
   ],
   "source": [
    "positions = atoms.get_positions()\n",
    "bond_list = [\n",
    "  (i, j)\n",
    "  for i, j in itertools.combinations(range(len(atoms)), 2)\n",
    "  if np.linalg.norm(positions[i] - positions[j]) < 1.5\n",
    "]\n",
    "bond_list"
   ]
  },
  {
   "cell_type": "code",
   "execution_count": 8,
   "metadata": {
    "ExecuteTime": {
     "end_time": "2019-02-15T21:21:41.430127Z",
     "start_time": "2019-02-15T21:21:41.421446Z"
    }
   },
   "outputs": [],
   "source": [
    "for pair in bond_list:\n",
    "  atoms.add_bond(*pair)"
   ]
  },
  {
   "cell_type": "code",
   "execution_count": 9,
   "metadata": {
    "ExecuteTime": {
     "end_time": "2019-02-15T21:21:41.439595Z",
     "start_time": "2019-02-15T21:21:41.433948Z"
    }
   },
   "outputs": [
    {
     "data": {
      "text/plain": [
       "array([1, 2, 3, 4, 3, 3])"
      ]
     },
     "execution_count": 9,
     "metadata": {},
     "output_type": "execute_result"
    }
   ],
   "source": [
    "atoms.get_types()"
   ]
  },
  {
   "cell_type": "code",
   "execution_count": 10,
   "metadata": {
    "ExecuteTime": {
     "end_time": "2019-02-15T21:21:41.452134Z",
     "start_time": "2019-02-15T21:21:41.444554Z"
    }
   },
   "outputs": [
    {
     "data": {
      "text/plain": [
       "array([[[ 1,  0,  0,  0],\n",
       "        [ 2,  0,  0,  0],\n",
       "        [ 4,  0,  0,  0],\n",
       "        [ 5,  0,  0,  0]],\n",
       "\n",
       "       [[-1,  0,  0,  0],\n",
       "        [ 2,  0,  0,  0],\n",
       "        [ 0,  0,  0,  0],\n",
       "        [ 0,  0,  0,  0]],\n",
       "\n",
       "       [[-2,  0,  0,  0],\n",
       "        [ 0,  0,  0,  0],\n",
       "        [ 0,  0,  0,  0],\n",
       "        [ 0,  0,  0,  0]],\n",
       "\n",
       "       [[-2,  0,  0,  0],\n",
       "        [ 0,  0,  0,  0],\n",
       "        [ 0,  0,  0,  0],\n",
       "        [ 0,  0,  0,  0]],\n",
       "\n",
       "       [[-4,  0,  0,  0],\n",
       "        [ 0,  0,  0,  0],\n",
       "        [ 0,  0,  0,  0],\n",
       "        [ 0,  0,  0,  0]],\n",
       "\n",
       "       [[-5,  0,  0,  0],\n",
       "        [ 0,  0,  0,  0],\n",
       "        [ 0,  0,  0,  0],\n",
       "        [ 0,  0,  0,  0]]])"
      ]
     },
     "execution_count": 10,
     "metadata": {},
     "output_type": "execute_result"
    }
   ],
   "source": [
    "atoms.get_bonds()"
   ]
  },
  {
   "cell_type": "code",
   "execution_count": 11,
   "metadata": {
    "ExecuteTime": {
     "end_time": "2019-02-15T21:21:41.462181Z",
     "start_time": "2019-02-15T21:21:41.455169Z"
    }
   },
   "outputs": [
    {
     "data": {
      "text/plain": [
       "array([[-0.047131,  0.664389,  0.      ],\n",
       "       [-0.047131, -0.758551,  0.      ],\n",
       "       [-1.092995,  0.969785,  0.      ],\n",
       "       [ 0.878534, -1.048458,  0.      ],\n",
       "       [ 0.437145,  1.080376,  0.891772],\n",
       "       [ 0.437145,  1.080376, -0.891772]])"
      ]
     },
     "execution_count": 11,
     "metadata": {},
     "output_type": "execute_result"
    }
   ],
   "source": [
    "atoms.get_positions()"
   ]
  },
  {
   "cell_type": "markdown",
   "metadata": {},
   "source": [
    "Unit cell is required to write Lammps' file."
   ]
  },
  {
   "cell_type": "code",
   "execution_count": 12,
   "metadata": {
    "ExecuteTime": {
     "end_time": "2019-02-15T21:21:41.589273Z",
     "start_time": "2019-02-15T21:21:41.581200Z"
    }
   },
   "outputs": [],
   "source": [
    "atoms.set_cell([[5., 0., 0.], [0., 5., 0.], [0., 0., 5.]])\n",
    "atoms.center()"
   ]
  },
  {
   "cell_type": "code",
   "execution_count": 13,
   "metadata": {
    "ExecuteTime": {
     "end_time": "2019-02-15T21:21:41.601383Z",
     "start_time": "2019-02-15T21:21:41.593430Z"
    }
   },
   "outputs": [
    {
     "data": {
      "text/plain": [
       "array([[2.5600995, 3.14843  , 2.5      ],\n",
       "       [2.5600995, 1.72549  , 2.5      ],\n",
       "       [1.5142355, 3.453826 , 2.5      ],\n",
       "       [3.4857645, 1.435583 , 2.5      ],\n",
       "       [3.0443755, 3.564417 , 3.391772 ],\n",
       "       [3.0443755, 3.564417 , 1.608228 ]])"
      ]
     },
     "execution_count": 13,
     "metadata": {},
     "output_type": "execute_result"
    }
   ],
   "source": [
    "atoms.get_positions()"
   ]
  },
  {
   "cell_type": "markdown",
   "metadata": {},
   "source": [
    "Set random velocities to all the atoms."
   ]
  },
  {
   "cell_type": "code",
   "execution_count": 14,
   "metadata": {
    "ExecuteTime": {
     "end_time": "2019-02-15T21:21:41.730166Z",
     "start_time": "2019-02-15T21:21:41.726732Z"
    }
   },
   "outputs": [],
   "source": [
    "atoms.set_velocities(np.random.uniform(-1, 1, (len(atoms), 3)))"
   ]
  },
  {
   "cell_type": "markdown",
   "metadata": {},
   "source": [
    "Create a LammpsWriter instance."
   ]
  },
  {
   "cell_type": "code",
   "execution_count": 15,
   "metadata": {
    "ExecuteTime": {
     "end_time": "2019-02-15T21:21:42.430087Z",
     "start_time": "2019-02-15T21:21:41.873479Z"
    }
   },
   "outputs": [
    {
     "name": "stdout",
     "output_type": "stream",
     "text": [
      "LammpsAtoms: 'id' have been set\n",
      "LammpsAtoms: 'type' have been set\n",
      "LammpsAtoms: 'x' have been set\n",
      "LammpsAtoms: 'y' have been set\n",
      "LammpsAtoms: 'z' have been set\n",
      "LammpsAtoms: 'vx' have been set\n",
      "LammpsAtoms: 'vy' have been set\n",
      "LammpsAtoms: 'vz' have been set\n",
      "LammpsAtoms: 'mass' have been set\n",
      "LammpsBonds: 'id' have been set\n",
      "LammpsBonds: 'atom1' have been set\n",
      "LammpsBonds: 'atom2' have been set\n",
      "LammpsAngles: 'id' have been set\n",
      "LammpsAngles: 'atom1' have been set\n",
      "LammpsAngles: 'atom2' have been set\n",
      "LammpsAngles: 'atom3' have been set\n",
      "LammpsDihedrals: 'id' have been set\n",
      "LammpsDihedrals: 'atom1' have been set\n",
      "LammpsDihedrals: 'atom2' have been set\n",
      "LammpsDihedrals: 'atom3' have been set\n",
      "LammpsDihedrals: 'atom4' have been set\n",
      "LammpsImpropers: 'id' have been set\n",
      "LammpsImpropers: 'atom1' have been set\n",
      "LammpsImpropers: 'atom2' have been set\n",
      "LammpsImpropers: 'atom3' have been set\n",
      "LammpsImpropers: 'atom4' have been set\n"
     ]
    }
   ],
   "source": [
    "writer = LammpsWriter(atoms, atom_style=\"molecular\")"
   ]
  },
  {
   "cell_type": "markdown",
   "metadata": {},
   "source": [
    "Check missing data."
   ]
  },
  {
   "cell_type": "code",
   "execution_count": 16,
   "metadata": {
    "ExecuteTime": {
     "end_time": "2019-02-15T21:21:42.446688Z",
     "start_time": "2019-02-15T21:21:42.432344Z"
    }
   },
   "outputs": [
    {
     "data": {
      "text/plain": [
       "{'mol'}"
      ]
     },
     "execution_count": 16,
     "metadata": {},
     "output_type": "execute_result"
    }
   ],
   "source": [
    "writer.get_required_datanames()"
   ]
  },
  {
   "cell_type": "code",
   "execution_count": 17,
   "metadata": {
    "ExecuteTime": {
     "end_time": "2019-02-15T21:21:42.459208Z",
     "start_time": "2019-02-15T21:21:42.451493Z"
    }
   },
   "outputs": [
    {
     "data": {
      "text/plain": [
       "set()"
      ]
     },
     "execution_count": 17,
     "metadata": {},
     "output_type": "execute_result"
    }
   ],
   "source": [
    "writer.get_required_datanames_for_molecule()"
   ]
  },
  {
   "cell_type": "markdown",
   "metadata": {},
   "source": [
    "All the atoms belong to the same molecule.\n",
    "Consider that the molecule's id is 1."
   ]
  },
  {
   "cell_type": "code",
   "execution_count": 18,
   "metadata": {
    "ExecuteTime": {
     "end_time": "2019-02-15T21:21:42.474470Z",
     "start_time": "2019-02-15T21:21:42.467103Z"
    }
   },
   "outputs": [
    {
     "name": "stdout",
     "output_type": "stream",
     "text": [
      "LammpsAtoms: 'mol' have been set\n"
     ]
    }
   ],
   "source": [
    "writer.set_atom_data(mol=[1]*len(atoms))"
   ]
  },
  {
   "cell_type": "markdown",
   "metadata": {},
   "source": [
    "Set types of bond, angle, dihedral and improper."
   ]
  },
  {
   "cell_type": "code",
   "execution_count": 19,
   "metadata": {
    "ExecuteTime": {
     "end_time": "2019-02-15T21:21:42.490745Z",
     "start_time": "2019-02-15T21:21:42.480377Z"
    }
   },
   "outputs": [
    {
     "data": {
      "text/plain": [
       "{(1, 2): 1, (1, 3): 2, (2, 4): 3}"
      ]
     },
     "execution_count": 19,
     "metadata": {},
     "output_type": "execute_result"
    }
   ],
   "source": [
    "bond_types = {\n",
    "  seq: i+1\n",
    "  for i, seq in enumerate(writer.get_bond_patterns())\n",
    "}\n",
    "bond_types"
   ]
  },
  {
   "cell_type": "code",
   "execution_count": 20,
   "metadata": {
    "ExecuteTime": {
     "end_time": "2019-02-15T21:21:42.499268Z",
     "start_time": "2019-02-15T21:21:42.494296Z"
    }
   },
   "outputs": [
    {
     "name": "stdout",
     "output_type": "stream",
     "text": [
      "LammpsBonds: 'type' have been set\n"
     ]
    }
   ],
   "source": [
    "writer.set_bond_types(bond_types)"
   ]
  },
  {
   "cell_type": "code",
   "execution_count": 21,
   "metadata": {
    "ExecuteTime": {
     "end_time": "2019-02-15T21:21:42.511405Z",
     "start_time": "2019-02-15T21:21:42.503470Z"
    }
   },
   "outputs": [
    {
     "data": {
      "text/plain": [
       "{(3, 1, 3): 1, (2, 1, 3): 2, (1, 2, 4): 3}"
      ]
     },
     "execution_count": 21,
     "metadata": {},
     "output_type": "execute_result"
    }
   ],
   "source": [
    "angle_types = {\n",
    "  seq: i+1\n",
    "  for i, seq in enumerate(writer.get_angle_patterns())\n",
    "}\n",
    "angle_types"
   ]
  },
  {
   "cell_type": "code",
   "execution_count": 22,
   "metadata": {
    "ExecuteTime": {
     "end_time": "2019-02-15T21:21:42.519750Z",
     "start_time": "2019-02-15T21:21:42.514647Z"
    }
   },
   "outputs": [
    {
     "name": "stdout",
     "output_type": "stream",
     "text": [
      "LammpsAngles: 'type' have been set\n"
     ]
    }
   ],
   "source": [
    "writer.set_angle_types(angle_types)"
   ]
  },
  {
   "cell_type": "code",
   "execution_count": 23,
   "metadata": {
    "ExecuteTime": {
     "end_time": "2019-02-15T21:21:42.530253Z",
     "start_time": "2019-02-15T21:21:42.522931Z"
    }
   },
   "outputs": [
    {
     "data": {
      "text/plain": [
       "{(4, 2, 1, 3): 1}"
      ]
     },
     "execution_count": 23,
     "metadata": {},
     "output_type": "execute_result"
    }
   ],
   "source": [
    "dihedral_types = {\n",
    "  seq: i+1\n",
    "  for i, seq in enumerate(writer.get_dihedral_patterns())\n",
    "}\n",
    "dihedral_types"
   ]
  },
  {
   "cell_type": "code",
   "execution_count": 24,
   "metadata": {
    "ExecuteTime": {
     "end_time": "2019-02-15T21:21:42.539210Z",
     "start_time": "2019-02-15T21:21:42.533561Z"
    }
   },
   "outputs": [
    {
     "name": "stdout",
     "output_type": "stream",
     "text": [
      "LammpsDihedrals: 'type' have been set\n"
     ]
    }
   ],
   "source": [
    "writer.set_dihedral_types(dihedral_types)"
   ]
  },
  {
   "cell_type": "code",
   "execution_count": 25,
   "metadata": {
    "ExecuteTime": {
     "end_time": "2019-02-15T21:21:42.549317Z",
     "start_time": "2019-02-15T21:21:42.541690Z"
    }
   },
   "outputs": [
    {
     "data": {
      "text/plain": [
       "{(1, 2, 3, 3): 1, (1, 3, 3, 3): 2}"
      ]
     },
     "execution_count": 25,
     "metadata": {},
     "output_type": "execute_result"
    }
   ],
   "source": [
    "improper_types = {\n",
    "  seq: i+1\n",
    "  for i, seq in enumerate(writer.get_improper_patterns())\n",
    "}\n",
    "improper_types"
   ]
  },
  {
   "cell_type": "code",
   "execution_count": 26,
   "metadata": {
    "ExecuteTime": {
     "end_time": "2019-02-15T21:21:42.557137Z",
     "start_time": "2019-02-15T21:21:42.552506Z"
    }
   },
   "outputs": [
    {
     "name": "stdout",
     "output_type": "stream",
     "text": [
      "LammpsImpropers: 'type' have been set\n"
     ]
    }
   ],
   "source": [
    "writer.set_improper_types(improper_types)"
   ]
  },
  {
   "cell_type": "markdown",
   "metadata": {},
   "source": [
    "The following methods print information about keywords of Lammps' `read_data` command.\n",
    "In the below case, the `read_data` command will be something like:\n",
    "\n",
    "```python\n",
    "from lammps import PyLammps\n",
    "\n",
    "L = PyLammps()\n",
    "L.read_data(\n",
    "    \"path/to/datafile\",\n",
    "    \"extra/bond/per/atom\", 4,\n",
    "    \"extra/angle/per/atom\", 6,\n",
    "    \"extra/dihedral/per/atom\", 2,\n",
    "    \"extra/improper/per/atom\", 3)\n",
    "```"
   ]
  },
  {
   "cell_type": "code",
   "execution_count": 27,
   "metadata": {
    "ExecuteTime": {
     "end_time": "2019-02-15T21:21:42.585597Z",
     "start_time": "2019-02-15T21:21:42.579494Z"
    }
   },
   "outputs": [
    {
     "name": "stdout",
     "output_type": "stream",
     "text": [
      "You might need to set 'extra/bond/per/atom' to: 4\n",
      "You might need to set 'extra/angle/per/atom' to: 6\n",
      "You might need to set 'extra/dihedral/per/atom' to: 2\n",
      "You might need to set 'extra/improper/per/atom' to: 3\n"
     ]
    }
   ],
   "source": [
    "writer.print_max_bonds_per_atom()\n",
    "writer.print_max_angles_per_atom()\n",
    "writer.print_max_dihedrals_per_atom()\n",
    "writer.print_max_impropers_per_atom()"
   ]
  },
  {
   "cell_type": "markdown",
   "metadata": {},
   "source": [
    "Write Lammps' data file with *Masses* section."
   ]
  },
  {
   "cell_type": "code",
   "execution_count": 28,
   "metadata": {
    "ExecuteTime": {
     "end_time": "2019-02-15T21:21:42.762482Z",
     "start_time": "2019-02-15T21:21:42.736362Z"
    }
   },
   "outputs": [
    {
     "name": "stdout",
     "output_type": "stream",
     "text": [
      "'Masses' section was written\n",
      "'Atoms' section was written\n",
      "'Bonds' section was written\n",
      "'Angles' section was written\n",
      "'Dihedrals' section was written\n",
      "'Impropers' section was written\n"
     ]
    }
   ],
   "source": [
    "writer.write_lammps_data(\"./lammps_files/data.methanol\", mass=True)"
   ]
  },
  {
   "cell_type": "markdown",
   "metadata": {},
   "source": [
    "* [link to the file](./lammps_files/data.methanol)"
   ]
  },
  {
   "cell_type": "markdown",
   "metadata": {},
   "source": [
    "Write Lammps' molecule file with *Masses* section."
   ]
  },
  {
   "cell_type": "code",
   "execution_count": 29,
   "metadata": {
    "ExecuteTime": {
     "end_time": "2019-02-15T21:21:43.066620Z",
     "start_time": "2019-02-15T21:21:43.036100Z"
    }
   },
   "outputs": [
    {
     "name": "stdout",
     "output_type": "stream",
     "text": [
      "'Coords' section was written\n",
      "'Types' section was written\n",
      "'Masses' section was written\n",
      "'Bonds' section was written\n",
      "'Angles' section was written\n",
      "'Dihedrals' section was written\n",
      "'Impropers' section was written\n",
      "'Special Bond Counts' and 'Special Bonds' section was written\n"
     ]
    }
   ],
   "source": [
    "writer.write_lammps_molecule(\"./lammps_files/molecule.methanol\", mass=True)"
   ]
  },
  {
   "cell_type": "markdown",
   "metadata": {},
   "source": [
    "* [link to the file](./lammps_files/molecule.methanol)"
   ]
  },
  {
   "cell_type": "markdown",
   "metadata": {},
   "source": [
    "Write Lammps' data file with *Masses* and *velocities* section.\n",
    "In addition, `centering=True` ensures that center of the simulation box is at $(0, 0, 0)$."
   ]
  },
  {
   "cell_type": "code",
   "execution_count": 30,
   "metadata": {
    "ExecuteTime": {
     "end_time": "2019-02-15T21:21:43.365737Z",
     "start_time": "2019-02-15T21:21:43.341834Z"
    }
   },
   "outputs": [
    {
     "name": "stdout",
     "output_type": "stream",
     "text": [
      "'Masses' section was written\n",
      "'Atoms' section was written\n",
      "'Velocities' section was written\n",
      "'Bonds' section was written\n",
      "'Angles' section was written\n",
      "'Dihedrals' section was written\n",
      "'Impropers' section was written\n"
     ]
    }
   ],
   "source": [
    "writer.write_lammps_data(\"./lammps_files/data.methanol2\", centering=True, velocity=True, mass=True)"
   ]
  },
  {
   "cell_type": "markdown",
   "metadata": {},
   "source": [
    "* [link to the file](./lammps_files/data.methanol2)"
   ]
  },
  {
   "cell_type": "markdown",
   "metadata": {},
   "source": [
    "## Acetic acid"
   ]
  },
  {
   "cell_type": "code",
   "execution_count": 31,
   "metadata": {
    "ExecuteTime": {
     "end_time": "2019-02-15T21:21:43.633363Z",
     "start_time": "2019-02-15T21:21:43.628073Z"
    }
   },
   "outputs": [],
   "source": [
    "atoms = BondedAtoms(molecule(\"CH3COOH\"))"
   ]
  },
  {
   "cell_type": "code",
   "execution_count": 32,
   "metadata": {
    "ExecuteTime": {
     "end_time": "2019-02-15T21:21:43.660704Z",
     "start_time": "2019-02-15T21:21:43.636723Z"
    }
   },
   "outputs": [
    {
     "data": {
      "text/plain": [
       "array([6, 8, 8, 1, 6, 1, 1, 1])"
      ]
     },
     "execution_count": 32,
     "metadata": {},
     "output_type": "execute_result"
    }
   ],
   "source": [
    "atoms.get_atomic_numbers()"
   ]
  },
  {
   "cell_type": "code",
   "execution_count": 33,
   "metadata": {
    "ExecuteTime": {
     "end_time": "2019-02-15T21:21:43.683030Z",
     "start_time": "2019-02-15T21:21:43.666172Z"
    }
   },
   "outputs": [
    {
     "name": "stdout",
     "output_type": "stream",
     "text": [
      "O-H 0.9792030242666737\n",
      "C-H 1.0882694768934758\n",
      "C-H 1.0920259389130829\n",
      "C-H 1.0920259389130829\n"
     ]
    }
   ],
   "source": [
    "print(\"O-H\", atoms.get_distance(2, 3))\n",
    "print(\"C-H\", atoms.get_distance(4, 5))\n",
    "print(\"C-H\", atoms.get_distance(4, 6))\n",
    "print(\"C-H\", atoms.get_distance(4, 7))"
   ]
  },
  {
   "cell_type": "code",
   "execution_count": 34,
   "metadata": {
    "ExecuteTime": {
     "end_time": "2019-02-15T21:21:43.701433Z",
     "start_time": "2019-02-15T21:21:43.691044Z"
    }
   },
   "outputs": [],
   "source": [
    "atoms.set_types([1, 2, 3, 4, 5, 6, 6, 6])"
   ]
  },
  {
   "cell_type": "code",
   "execution_count": 35,
   "metadata": {
    "ExecuteTime": {
     "end_time": "2019-02-15T21:21:43.724015Z",
     "start_time": "2019-02-15T21:21:43.706408Z"
    }
   },
   "outputs": [
    {
     "data": {
      "text/plain": [
       "[(0, 1), (0, 2), (0, 4), (2, 3), (4, 5), (4, 6), (4, 7)]"
      ]
     },
     "execution_count": 35,
     "metadata": {},
     "output_type": "execute_result"
    }
   ],
   "source": [
    "positions = atoms.get_positions()\n",
    "bond_list = [\n",
    "  (i, j)\n",
    "  for i, j in itertools.combinations(range(len(atoms)), 2)\n",
    "  if np.linalg.norm(positions[i] - positions[j]) < 1.5\n",
    "]\n",
    "bond_list"
   ]
  },
  {
   "cell_type": "code",
   "execution_count": 36,
   "metadata": {
    "ExecuteTime": {
     "end_time": "2019-02-15T21:21:43.735329Z",
     "start_time": "2019-02-15T21:21:43.727255Z"
    }
   },
   "outputs": [],
   "source": [
    "for pair in bond_list:\n",
    "  atoms.add_bond(*pair)"
   ]
  },
  {
   "cell_type": "code",
   "execution_count": 37,
   "metadata": {
    "ExecuteTime": {
     "end_time": "2019-02-15T21:21:43.754152Z",
     "start_time": "2019-02-15T21:21:43.738484Z"
    }
   },
   "outputs": [
    {
     "data": {
      "text/plain": [
       "array([1, 2, 3, 4, 5, 6, 6, 6])"
      ]
     },
     "execution_count": 37,
     "metadata": {},
     "output_type": "execute_result"
    }
   ],
   "source": [
    "atoms.get_types()"
   ]
  },
  {
   "cell_type": "code",
   "execution_count": 38,
   "metadata": {
    "ExecuteTime": {
     "end_time": "2019-02-15T21:21:43.764615Z",
     "start_time": "2019-02-15T21:21:43.757371Z"
    }
   },
   "outputs": [
    {
     "data": {
      "text/plain": [
       "array([[[ 1,  0,  0,  0],\n",
       "        [ 2,  0,  0,  0],\n",
       "        [ 4,  0,  0,  0],\n",
       "        [ 0,  0,  0,  0]],\n",
       "\n",
       "       [[-1,  0,  0,  0],\n",
       "        [ 0,  0,  0,  0],\n",
       "        [ 0,  0,  0,  0],\n",
       "        [ 0,  0,  0,  0]],\n",
       "\n",
       "       [[-2,  0,  0,  0],\n",
       "        [ 1,  0,  0,  0],\n",
       "        [ 0,  0,  0,  0],\n",
       "        [ 0,  0,  0,  0]],\n",
       "\n",
       "       [[-1,  0,  0,  0],\n",
       "        [ 0,  0,  0,  0],\n",
       "        [ 0,  0,  0,  0],\n",
       "        [ 0,  0,  0,  0]],\n",
       "\n",
       "       [[-4,  0,  0,  0],\n",
       "        [ 1,  0,  0,  0],\n",
       "        [ 2,  0,  0,  0],\n",
       "        [ 3,  0,  0,  0]],\n",
       "\n",
       "       [[-1,  0,  0,  0],\n",
       "        [ 0,  0,  0,  0],\n",
       "        [ 0,  0,  0,  0],\n",
       "        [ 0,  0,  0,  0]],\n",
       "\n",
       "       [[-2,  0,  0,  0],\n",
       "        [ 0,  0,  0,  0],\n",
       "        [ 0,  0,  0,  0],\n",
       "        [ 0,  0,  0,  0]],\n",
       "\n",
       "       [[-3,  0,  0,  0],\n",
       "        [ 0,  0,  0,  0],\n",
       "        [ 0,  0,  0,  0],\n",
       "        [ 0,  0,  0,  0]]])"
      ]
     },
     "execution_count": 38,
     "metadata": {},
     "output_type": "execute_result"
    }
   ],
   "source": [
    "atoms.get_bonds()"
   ]
  },
  {
   "cell_type": "code",
   "execution_count": 39,
   "metadata": {
    "ExecuteTime": {
     "end_time": "2019-02-15T21:21:43.781244Z",
     "start_time": "2019-02-15T21:21:43.771528Z"
    }
   },
   "outputs": [
    {
     "data": {
      "text/plain": [
       "array([[ 0.      ,  0.15456 ,  0.      ],\n",
       "       [ 0.166384,  1.360084,  0.      ],\n",
       "       [-1.236449, -0.415036,  0.      ],\n",
       "       [-1.867646,  0.333582,  0.      ],\n",
       "       [ 1.073776, -0.892748,  0.      ],\n",
       "       [ 2.048189, -0.408135,  0.      ],\n",
       "       [ 0.968661, -1.528353,  0.881747],\n",
       "       [ 0.968661, -1.528353, -0.881747]])"
      ]
     },
     "execution_count": 39,
     "metadata": {},
     "output_type": "execute_result"
    }
   ],
   "source": [
    "atoms.get_positions()"
   ]
  },
  {
   "cell_type": "code",
   "execution_count": 40,
   "metadata": {
    "ExecuteTime": {
     "end_time": "2019-02-15T21:21:43.791233Z",
     "start_time": "2019-02-15T21:21:43.785725Z"
    }
   },
   "outputs": [],
   "source": [
    "atoms.set_cell([[5., 0., 0.], [0., 5., 0.], [0., 0., 5.]])\n",
    "atoms.center()"
   ]
  },
  {
   "cell_type": "code",
   "execution_count": 41,
   "metadata": {
    "ExecuteTime": {
     "end_time": "2019-02-15T21:21:43.800296Z",
     "start_time": "2019-02-15T21:21:43.793712Z"
    }
   },
   "outputs": [
    {
     "data": {
      "text/plain": [
       "array([[2.4097285, 2.7386945, 2.5      ],\n",
       "       [2.5761125, 3.9442185, 2.5      ],\n",
       "       [1.1732795, 2.1690985, 2.5      ],\n",
       "       [0.5420825, 2.9177165, 2.5      ],\n",
       "       [3.4835045, 1.6913865, 2.5      ],\n",
       "       [4.4579175, 2.1759995, 2.5      ],\n",
       "       [3.3783895, 1.0557815, 3.381747 ],\n",
       "       [3.3783895, 1.0557815, 1.618253 ]])"
      ]
     },
     "execution_count": 41,
     "metadata": {},
     "output_type": "execute_result"
    }
   ],
   "source": [
    "atoms.get_positions()"
   ]
  },
  {
   "cell_type": "code",
   "execution_count": 42,
   "metadata": {
    "ExecuteTime": {
     "end_time": "2019-02-15T21:21:43.807089Z",
     "start_time": "2019-02-15T21:21:43.803186Z"
    }
   },
   "outputs": [],
   "source": [
    "atoms.set_velocities(np.random.uniform(-1, 1, (len(atoms), 3)))"
   ]
  },
  {
   "cell_type": "code",
   "execution_count": 43,
   "metadata": {
    "ExecuteTime": {
     "end_time": "2019-02-15T21:21:43.818899Z",
     "start_time": "2019-02-15T21:21:43.809904Z"
    }
   },
   "outputs": [
    {
     "name": "stdout",
     "output_type": "stream",
     "text": [
      "LammpsAtoms: 'id' have been set\n",
      "LammpsAtoms: 'type' have been set\n",
      "LammpsAtoms: 'x' have been set\n",
      "LammpsAtoms: 'y' have been set\n",
      "LammpsAtoms: 'z' have been set\n",
      "LammpsAtoms: 'vx' have been set\n",
      "LammpsAtoms: 'vy' have been set\n",
      "LammpsAtoms: 'vz' have been set\n",
      "LammpsAtoms: 'mass' have been set\n",
      "LammpsBonds: 'id' have been set\n",
      "LammpsBonds: 'atom1' have been set\n",
      "LammpsBonds: 'atom2' have been set\n",
      "LammpsAngles: 'id' have been set\n",
      "LammpsAngles: 'atom1' have been set\n",
      "LammpsAngles: 'atom2' have been set\n",
      "LammpsAngles: 'atom3' have been set\n",
      "LammpsDihedrals: 'id' have been set\n",
      "LammpsDihedrals: 'atom1' have been set\n",
      "LammpsDihedrals: 'atom2' have been set\n",
      "LammpsDihedrals: 'atom3' have been set\n",
      "LammpsDihedrals: 'atom4' have been set\n",
      "LammpsImpropers: 'id' have been set\n",
      "LammpsImpropers: 'atom1' have been set\n",
      "LammpsImpropers: 'atom2' have been set\n",
      "LammpsImpropers: 'atom3' have been set\n",
      "LammpsImpropers: 'atom4' have been set\n"
     ]
    }
   ],
   "source": [
    "writer = LammpsWriter(atoms, atom_style=\"molecular\")"
   ]
  },
  {
   "cell_type": "code",
   "execution_count": 44,
   "metadata": {
    "ExecuteTime": {
     "end_time": "2019-02-15T21:21:43.828787Z",
     "start_time": "2019-02-15T21:21:43.821815Z"
    }
   },
   "outputs": [
    {
     "data": {
      "text/plain": [
       "{'mol'}"
      ]
     },
     "execution_count": 44,
     "metadata": {},
     "output_type": "execute_result"
    }
   ],
   "source": [
    "writer.get_required_datanames()"
   ]
  },
  {
   "cell_type": "code",
   "execution_count": 45,
   "metadata": {
    "ExecuteTime": {
     "end_time": "2019-02-15T21:21:44.379573Z",
     "start_time": "2019-02-15T21:21:43.831846Z"
    }
   },
   "outputs": [
    {
     "data": {
      "text/plain": [
       "set()"
      ]
     },
     "execution_count": 45,
     "metadata": {},
     "output_type": "execute_result"
    }
   ],
   "source": [
    "writer.get_required_datanames_for_molecule()"
   ]
  },
  {
   "cell_type": "code",
   "execution_count": 46,
   "metadata": {
    "ExecuteTime": {
     "end_time": "2019-02-15T21:21:44.392533Z",
     "start_time": "2019-02-15T21:21:44.384237Z"
    }
   },
   "outputs": [
    {
     "name": "stdout",
     "output_type": "stream",
     "text": [
      "LammpsAtoms: 'mol' have been set\n"
     ]
    }
   ],
   "source": [
    "writer.set_atom_data(mol=[1]*len(atoms))"
   ]
  },
  {
   "cell_type": "code",
   "execution_count": 47,
   "metadata": {
    "ExecuteTime": {
     "end_time": "2019-02-15T21:21:44.406296Z",
     "start_time": "2019-02-15T21:21:44.396438Z"
    }
   },
   "outputs": [
    {
     "data": {
      "text/plain": [
       "{(1, 2): 1, (1, 3): 2, (5, 6): 3, (1, 5): 4, (3, 4): 5}"
      ]
     },
     "execution_count": 47,
     "metadata": {},
     "output_type": "execute_result"
    }
   ],
   "source": [
    "bond_types = {\n",
    "  seq: i+1\n",
    "  for i, seq in enumerate(writer.get_bond_patterns())\n",
    "}\n",
    "bond_types"
   ]
  },
  {
   "cell_type": "code",
   "execution_count": 48,
   "metadata": {
    "ExecuteTime": {
     "end_time": "2019-02-15T21:21:44.415649Z",
     "start_time": "2019-02-15T21:21:44.410112Z"
    }
   },
   "outputs": [
    {
     "name": "stdout",
     "output_type": "stream",
     "text": [
      "LammpsBonds: 'type' have been set\n"
     ]
    }
   ],
   "source": [
    "writer.set_bond_types(bond_types)"
   ]
  },
  {
   "cell_type": "code",
   "execution_count": 49,
   "metadata": {
    "ExecuteTime": {
     "end_time": "2019-02-15T21:21:44.430315Z",
     "start_time": "2019-02-15T21:21:44.420531Z"
    }
   },
   "outputs": [
    {
     "data": {
      "text/plain": [
       "{(3, 1, 5): 1,\n",
       " (6, 5, 6): 2,\n",
       " (2, 1, 5): 3,\n",
       " (1, 5, 6): 4,\n",
       " (1, 3, 4): 5,\n",
       " (2, 1, 3): 6}"
      ]
     },
     "execution_count": 49,
     "metadata": {},
     "output_type": "execute_result"
    }
   ],
   "source": [
    "angle_types = {\n",
    "  seq: i+1\n",
    "  for i, seq in enumerate(writer.get_angle_patterns())\n",
    "}\n",
    "angle_types"
   ]
  },
  {
   "cell_type": "code",
   "execution_count": 50,
   "metadata": {
    "ExecuteTime": {
     "end_time": "2019-02-15T21:21:44.439694Z",
     "start_time": "2019-02-15T21:21:44.433874Z"
    }
   },
   "outputs": [
    {
     "name": "stdout",
     "output_type": "stream",
     "text": [
      "LammpsAngles: 'type' have been set\n"
     ]
    }
   ],
   "source": [
    "writer.set_angle_types(angle_types)"
   ]
  },
  {
   "cell_type": "code",
   "execution_count": 51,
   "metadata": {
    "ExecuteTime": {
     "end_time": "2019-02-15T21:21:44.451599Z",
     "start_time": "2019-02-15T21:21:44.442633Z"
    }
   },
   "outputs": [
    {
     "data": {
      "text/plain": [
       "{(4, 3, 1, 2): 1, (6, 5, 1, 3): 2, (5, 1, 3, 4): 3, (6, 5, 1, 2): 4}"
      ]
     },
     "execution_count": 51,
     "metadata": {},
     "output_type": "execute_result"
    }
   ],
   "source": [
    "dihedral_types = {\n",
    "  seq: i+1\n",
    "  for i, seq in enumerate(writer.get_dihedral_patterns())\n",
    "}\n",
    "dihedral_types"
   ]
  },
  {
   "cell_type": "code",
   "execution_count": 52,
   "metadata": {
    "ExecuteTime": {
     "end_time": "2019-02-15T21:21:44.460473Z",
     "start_time": "2019-02-15T21:21:44.455733Z"
    }
   },
   "outputs": [
    {
     "name": "stdout",
     "output_type": "stream",
     "text": [
      "LammpsDihedrals: 'type' have been set\n"
     ]
    }
   ],
   "source": [
    "writer.set_dihedral_types(dihedral_types)"
   ]
  },
  {
   "cell_type": "code",
   "execution_count": 53,
   "metadata": {
    "ExecuteTime": {
     "end_time": "2019-02-15T21:21:45.015331Z",
     "start_time": "2019-02-15T21:21:44.463729Z"
    }
   },
   "outputs": [
    {
     "data": {
      "text/plain": [
       "{(1, 2, 3, 5): 1, (5, 1, 6, 6): 2, (5, 6, 6, 6): 3}"
      ]
     },
     "execution_count": 53,
     "metadata": {},
     "output_type": "execute_result"
    }
   ],
   "source": [
    "improper_types = {\n",
    "  seq: i+1\n",
    "  for i, seq in enumerate(writer.get_improper_patterns())\n",
    "}\n",
    "improper_types"
   ]
  },
  {
   "cell_type": "code",
   "execution_count": 54,
   "metadata": {
    "ExecuteTime": {
     "end_time": "2019-02-15T21:21:45.028542Z",
     "start_time": "2019-02-15T21:21:45.018694Z"
    }
   },
   "outputs": [
    {
     "name": "stdout",
     "output_type": "stream",
     "text": [
      "LammpsImpropers: 'type' have been set\n"
     ]
    }
   ],
   "source": [
    "writer.set_improper_types(improper_types)"
   ]
  },
  {
   "cell_type": "code",
   "execution_count": 55,
   "metadata": {
    "ExecuteTime": {
     "end_time": "2019-02-15T21:21:45.041487Z",
     "start_time": "2019-02-15T21:21:45.031254Z"
    }
   },
   "outputs": [
    {
     "name": "stdout",
     "output_type": "stream",
     "text": [
      "You might need to set 'extra/bond/per/atom' to: 3\n",
      "You might need to set 'extra/angle/per/atom' to: 6\n",
      "You might need to set 'extra/dihedral/per/atom' to: 4\n",
      "You might need to set 'extra/improper/per/atom' to: 3\n"
     ]
    }
   ],
   "source": [
    "writer.print_max_bonds_per_atom()\n",
    "writer.print_max_angles_per_atom()\n",
    "writer.print_max_dihedrals_per_atom()\n",
    "writer.print_max_impropers_per_atom()"
   ]
  },
  {
   "cell_type": "code",
   "execution_count": 56,
   "metadata": {
    "ExecuteTime": {
     "end_time": "2019-02-15T21:21:45.070795Z",
     "start_time": "2019-02-15T21:21:45.045242Z"
    }
   },
   "outputs": [
    {
     "name": "stdout",
     "output_type": "stream",
     "text": [
      "'Masses' section was written\n",
      "'Atoms' section was written\n",
      "'Bonds' section was written\n",
      "'Angles' section was written\n",
      "'Dihedrals' section was written\n",
      "'Impropers' section was written\n"
     ]
    }
   ],
   "source": [
    "writer.write_lammps_data(\"./lammps_files/data.acetic\", mass=True)"
   ]
  },
  {
   "cell_type": "markdown",
   "metadata": {},
   "source": [
    "* [link to the file](./lammps_files/data.acetic)"
   ]
  },
  {
   "cell_type": "code",
   "execution_count": 57,
   "metadata": {
    "ExecuteTime": {
     "end_time": "2019-02-15T21:21:45.111175Z",
     "start_time": "2019-02-15T21:21:45.081218Z"
    }
   },
   "outputs": [
    {
     "name": "stdout",
     "output_type": "stream",
     "text": [
      "'Coords' section was written\n",
      "'Types' section was written\n",
      "'Masses' section was written\n",
      "'Bonds' section was written\n",
      "'Angles' section was written\n",
      "'Dihedrals' section was written\n",
      "'Impropers' section was written\n",
      "'Special Bond Counts' and 'Special Bonds' section was written\n"
     ]
    }
   ],
   "source": [
    "writer.write_lammps_molecule(\"./lammps_files/molecule.acetic\", mass=True)"
   ]
  },
  {
   "cell_type": "markdown",
   "metadata": {},
   "source": [
    "* [link to the file](./lammps_files/molecule.acetic)"
   ]
  },
  {
   "cell_type": "code",
   "execution_count": 58,
   "metadata": {
    "ExecuteTime": {
     "end_time": "2019-02-15T21:21:45.134617Z",
     "start_time": "2019-02-15T21:21:45.114933Z"
    }
   },
   "outputs": [
    {
     "name": "stdout",
     "output_type": "stream",
     "text": [
      "'Masses' section was written\n",
      "'Atoms' section was written\n",
      "'Velocities' section was written\n",
      "'Bonds' section was written\n",
      "'Angles' section was written\n",
      "'Dihedrals' section was written\n",
      "'Impropers' section was written\n"
     ]
    }
   ],
   "source": [
    "writer.write_lammps_data(\"./lammps_files/data.acetic2\", centering=True, velocity=True, mass=True)"
   ]
  },
  {
   "cell_type": "markdown",
   "metadata": {},
   "source": [
    "* [link to the file](./lammps_files/data.acetic2)"
   ]
  },
  {
   "cell_type": "markdown",
   "metadata": {},
   "source": [
    "## NaCl"
   ]
  },
  {
   "cell_type": "code",
   "execution_count": 59,
   "metadata": {
    "ExecuteTime": {
     "end_time": "2019-02-15T21:21:45.142801Z",
     "start_time": "2019-02-15T21:21:45.137058Z"
    }
   },
   "outputs": [],
   "source": [
    "atoms = BondedAtoms(bulk(\"NaCl\", \"rocksalt\", a=5.64, orthorhombic=True))"
   ]
  },
  {
   "cell_type": "code",
   "execution_count": 60,
   "metadata": {
    "ExecuteTime": {
     "end_time": "2019-02-15T21:21:45.154435Z",
     "start_time": "2019-02-15T21:21:45.146557Z"
    }
   },
   "outputs": [
    {
     "data": {
      "text/plain": [
       "array([[3.98808225, 0.        , 0.        ],\n",
       "       [0.        , 3.98808225, 0.        ],\n",
       "       [0.        , 0.        , 5.64      ]])"
      ]
     },
     "execution_count": 60,
     "metadata": {},
     "output_type": "execute_result"
    }
   ],
   "source": [
    "atoms.get_cell()"
   ]
  },
  {
   "cell_type": "code",
   "execution_count": 61,
   "metadata": {
    "ExecuteTime": {
     "end_time": "2019-02-15T21:21:45.164233Z",
     "start_time": "2019-02-15T21:21:45.157565Z"
    }
   },
   "outputs": [
    {
     "data": {
      "text/plain": [
       "array([11, 17, 11, 17])"
      ]
     },
     "execution_count": 61,
     "metadata": {},
     "output_type": "execute_result"
    }
   ],
   "source": [
    "atoms.get_atomic_numbers()"
   ]
  },
  {
   "cell_type": "code",
   "execution_count": 62,
   "metadata": {
    "ExecuteTime": {
     "end_time": "2019-02-15T21:21:45.172189Z",
     "start_time": "2019-02-15T21:21:45.167806Z"
    }
   },
   "outputs": [],
   "source": [
    "atoms.set_types([1, 2, 1, 2])"
   ]
  },
  {
   "cell_type": "code",
   "execution_count": 63,
   "metadata": {
    "ExecuteTime": {
     "end_time": "2019-02-15T21:21:45.735326Z",
     "start_time": "2019-02-15T21:21:45.175366Z"
    }
   },
   "outputs": [
    {
     "data": {
      "text/plain": [
       "array([[0.        , 0.        , 0.        ],\n",
       "       [1.99404112, 1.99404112, 0.        ],\n",
       "       [1.99404112, 1.99404112, 2.82      ],\n",
       "       [0.        , 0.        , 2.82      ]])"
      ]
     },
     "execution_count": 63,
     "metadata": {},
     "output_type": "execute_result"
    }
   ],
   "source": [
    "atoms.get_positions()"
   ]
  },
  {
   "cell_type": "code",
   "execution_count": 64,
   "metadata": {
    "ExecuteTime": {
     "end_time": "2019-02-15T21:21:45.762400Z",
     "start_time": "2019-02-15T21:21:45.739907Z"
    }
   },
   "outputs": [],
   "source": [
    "atoms.change_max_bonds(6)"
   ]
  },
  {
   "cell_type": "code",
   "execution_count": 65,
   "metadata": {
    "ExecuteTime": {
     "end_time": "2019-02-15T21:21:45.798379Z",
     "start_time": "2019-02-15T21:21:45.769880Z"
    }
   },
   "outputs": [],
   "source": [
    "length = 2.82\n",
    "\n",
    "cell = atoms.get_cell()\n",
    "positions = atoms.get_positions()\n",
    "\n",
    "for i, j in itertools.combinations(range(len(atoms)), 2):\n",
    "  r_original = positions[j] - positions[i]\n",
    "  for ix, iy, iz in itertools.product(*[(-1, 0, 1)]*3):\n",
    "    r = r_original + ix * cell[0] + iy * cell[1] + iz * cell[2]\n",
    "    if np.isclose(np.linalg.norm(r), length):\n",
    "      atoms.add_bond(i, j, img2=(ix, iy, iz))"
   ]
  },
  {
   "cell_type": "code",
   "execution_count": 66,
   "metadata": {
    "ExecuteTime": {
     "end_time": "2019-02-15T21:21:45.806262Z",
     "start_time": "2019-02-15T21:21:45.800532Z"
    }
   },
   "outputs": [
    {
     "data": {
      "text/plain": [
       "array([1, 2, 1, 2])"
      ]
     },
     "execution_count": 66,
     "metadata": {},
     "output_type": "execute_result"
    }
   ],
   "source": [
    "atoms.get_types()"
   ]
  },
  {
   "cell_type": "code",
   "execution_count": 67,
   "metadata": {
    "ExecuteTime": {
     "end_time": "2019-02-15T21:21:45.819927Z",
     "start_time": "2019-02-15T21:21:45.809550Z"
    }
   },
   "outputs": [
    {
     "data": {
      "text/plain": [
       "array([[[ 1, -1, -1,  0],\n",
       "        [ 1, -1,  0,  0],\n",
       "        [ 1,  0, -1,  0],\n",
       "        [ 1,  0,  0,  0],\n",
       "        [ 3,  0,  0, -1],\n",
       "        [ 3,  0,  0,  0]],\n",
       "\n",
       "       [[-1,  1,  1,  0],\n",
       "        [-1,  1,  0,  0],\n",
       "        [-1,  0,  1,  0],\n",
       "        [-1,  0,  0,  0],\n",
       "        [ 1,  0,  0, -1],\n",
       "        [ 1,  0,  0,  0]],\n",
       "\n",
       "       [[-1,  0,  0,  1],\n",
       "        [-1,  0,  0,  0],\n",
       "        [ 1,  0,  0,  0],\n",
       "        [ 1,  0,  1,  0],\n",
       "        [ 1,  1,  0,  0],\n",
       "        [ 1,  1,  1,  0]],\n",
       "\n",
       "       [[-3,  0,  0,  1],\n",
       "        [-3,  0,  0,  0],\n",
       "        [-1,  0,  0,  0],\n",
       "        [-1,  0, -1,  0],\n",
       "        [-1, -1,  0,  0],\n",
       "        [-1, -1, -1,  0]]])"
      ]
     },
     "execution_count": 67,
     "metadata": {},
     "output_type": "execute_result"
    }
   ],
   "source": [
    "atoms.get_bonds()"
   ]
  },
  {
   "cell_type": "code",
   "execution_count": 68,
   "metadata": {
    "ExecuteTime": {
     "end_time": "2019-02-15T21:21:45.875557Z",
     "start_time": "2019-02-15T21:21:45.824459Z"
    }
   },
   "outputs": [],
   "source": [
    "atoms *= 5"
   ]
  },
  {
   "cell_type": "code",
   "execution_count": 69,
   "metadata": {
    "ExecuteTime": {
     "end_time": "2019-02-15T21:21:46.064705Z",
     "start_time": "2019-02-15T21:21:45.878918Z"
    }
   },
   "outputs": [
    {
     "name": "stdout",
     "output_type": "stream",
     "text": [
      "LammpsAtoms: 'id' have been set\n",
      "LammpsAtoms: 'type' have been set\n",
      "LammpsAtoms: 'x' have been set\n",
      "LammpsAtoms: 'y' have been set\n",
      "LammpsAtoms: 'z' have been set\n",
      "LammpsAtoms: 'mass' have been set\n",
      "LammpsBonds: 'id' have been set\n",
      "LammpsBonds: 'atom1' have been set\n",
      "LammpsBonds: 'atom2' have been set\n",
      "LammpsAngles: 'id' have been set\n",
      "LammpsAngles: 'atom1' have been set\n",
      "LammpsAngles: 'atom2' have been set\n",
      "LammpsAngles: 'atom3' have been set\n",
      "LammpsDihedrals: 'id' have been set\n",
      "LammpsDihedrals: 'atom1' have been set\n",
      "LammpsDihedrals: 'atom2' have been set\n",
      "LammpsDihedrals: 'atom3' have been set\n",
      "LammpsDihedrals: 'atom4' have been set\n",
      "LammpsImpropers: 'id' have been set\n",
      "LammpsImpropers: 'atom1' have been set\n",
      "LammpsImpropers: 'atom2' have been set\n",
      "LammpsImpropers: 'atom3' have been set\n",
      "LammpsImpropers: 'atom4' have been set\n"
     ]
    }
   ],
   "source": [
    "writer = LammpsWriter(atoms, atom_style=\"molecular\")"
   ]
  },
  {
   "cell_type": "code",
   "execution_count": 70,
   "metadata": {
    "ExecuteTime": {
     "end_time": "2019-02-15T21:21:46.075493Z",
     "start_time": "2019-02-15T21:21:46.067691Z"
    }
   },
   "outputs": [
    {
     "data": {
      "text/plain": [
       "{'mol'}"
      ]
     },
     "execution_count": 70,
     "metadata": {},
     "output_type": "execute_result"
    }
   ],
   "source": [
    "writer.get_required_datanames()"
   ]
  },
  {
   "cell_type": "code",
   "execution_count": 71,
   "metadata": {
    "ExecuteTime": {
     "end_time": "2019-02-15T21:21:46.091330Z",
     "start_time": "2019-02-15T21:21:46.078662Z"
    }
   },
   "outputs": [
    {
     "name": "stdout",
     "output_type": "stream",
     "text": [
      "LammpsAtoms: 'mol' have been set\n"
     ]
    }
   ],
   "source": [
    "writer.set_atom_data(mol=[0]*len(atoms))"
   ]
  },
  {
   "cell_type": "code",
   "execution_count": 72,
   "metadata": {
    "ExecuteTime": {
     "end_time": "2019-02-15T21:21:46.105179Z",
     "start_time": "2019-02-15T21:21:46.093603Z"
    }
   },
   "outputs": [
    {
     "data": {
      "text/plain": [
       "{(1, 2): 1}"
      ]
     },
     "execution_count": 72,
     "metadata": {},
     "output_type": "execute_result"
    }
   ],
   "source": [
    "bond_types = {\n",
    "  seq: i+1\n",
    "  for i, seq in enumerate(writer.get_bond_patterns())\n",
    "}\n",
    "bond_types"
   ]
  },
  {
   "cell_type": "code",
   "execution_count": 73,
   "metadata": {
    "ExecuteTime": {
     "end_time": "2019-02-15T21:21:46.115866Z",
     "start_time": "2019-02-15T21:21:46.107605Z"
    }
   },
   "outputs": [
    {
     "name": "stdout",
     "output_type": "stream",
     "text": [
      "LammpsBonds: 'type' have been set\n"
     ]
    }
   ],
   "source": [
    "writer.set_bond_types(bond_types)"
   ]
  },
  {
   "cell_type": "code",
   "execution_count": 74,
   "metadata": {
    "ExecuteTime": {
     "end_time": "2019-02-15T21:21:46.157166Z",
     "start_time": "2019-02-15T21:21:46.120945Z"
    }
   },
   "outputs": [
    {
     "data": {
      "text/plain": [
       "{(1, 2, 1): 1, (2, 1, 2): 2}"
      ]
     },
     "execution_count": 74,
     "metadata": {},
     "output_type": "execute_result"
    }
   ],
   "source": [
    "angle_types = {\n",
    "  seq: i+1\n",
    "  for i, seq in enumerate(writer.get_angle_patterns())\n",
    "}\n",
    "angle_types"
   ]
  },
  {
   "cell_type": "code",
   "execution_count": 75,
   "metadata": {
    "ExecuteTime": {
     "end_time": "2019-02-15T21:21:46.220994Z",
     "start_time": "2019-02-15T21:21:46.159576Z"
    }
   },
   "outputs": [
    {
     "name": "stdout",
     "output_type": "stream",
     "text": [
      "LammpsAngles: 'type' have been set\n"
     ]
    }
   ],
   "source": [
    "writer.set_angle_types(angle_types)"
   ]
  },
  {
   "cell_type": "code",
   "execution_count": 76,
   "metadata": {
    "ExecuteTime": {
     "end_time": "2019-02-15T21:21:46.249718Z",
     "start_time": "2019-02-15T21:21:46.228494Z"
    }
   },
   "outputs": [
    {
     "name": "stdout",
     "output_type": "stream",
     "text": [
      "You might need to set 'extra/bond/per/atom' to: 6\n",
      "You might need to set 'extra/angle/per/atom' to: 15\n",
      "You might need to set 'extra/dihedral/per/atom' to: 0\n",
      "You might need to set 'extra/improper/per/atom' to: 0\n"
     ]
    }
   ],
   "source": [
    "writer.print_max_bonds_per_atom()\n",
    "writer.print_max_angles_per_atom()\n",
    "writer.print_max_dihedrals_per_atom()\n",
    "writer.print_max_impropers_per_atom()"
   ]
  },
  {
   "cell_type": "code",
   "execution_count": 77,
   "metadata": {
    "ExecuteTime": {
     "end_time": "2019-02-15T21:21:46.391364Z",
     "start_time": "2019-02-15T21:21:46.261102Z"
    }
   },
   "outputs": [
    {
     "name": "stdout",
     "output_type": "stream",
     "text": [
      "'Masses' section was written\n",
      "'Atoms' section was written\n",
      "'Bonds' section was written\n",
      "'Angles' section was written\n"
     ]
    }
   ],
   "source": [
    "writer.write_lammps_data(\"./lammps_files/data.nacl.ba\", mass=True)"
   ]
  },
  {
   "cell_type": "markdown",
   "metadata": {},
   "source": [
    "* [link to the file](./lammps_files/data.nacl.ba)"
   ]
  },
  {
   "cell_type": "code",
   "execution_count": 78,
   "metadata": {
    "ExecuteTime": {
     "end_time": "2019-02-15T21:21:46.629690Z",
     "start_time": "2019-02-15T21:21:46.395237Z"
    }
   },
   "outputs": [
    {
     "data": {
      "text/plain": [
       "{(1, 2, 1, 2): 1}"
      ]
     },
     "execution_count": 78,
     "metadata": {},
     "output_type": "execute_result"
    }
   ],
   "source": [
    "dihedral_types = {\n",
    "  seq: i+1\n",
    "  for i, seq in enumerate(writer.get_dihedral_patterns())\n",
    "}\n",
    "dihedral_types"
   ]
  },
  {
   "cell_type": "code",
   "execution_count": 79,
   "metadata": {
    "ExecuteTime": {
     "end_time": "2019-02-15T21:21:46.794116Z",
     "start_time": "2019-02-15T21:21:46.637305Z"
    }
   },
   "outputs": [
    {
     "name": "stdout",
     "output_type": "stream",
     "text": [
      "LammpsDihedrals: 'type' have been set\n"
     ]
    }
   ],
   "source": [
    "writer.set_dihedral_types(dihedral_types)"
   ]
  },
  {
   "cell_type": "code",
   "execution_count": 80,
   "metadata": {
    "ExecuteTime": {
     "end_time": "2019-02-15T21:21:46.856963Z",
     "start_time": "2019-02-15T21:21:46.796958Z"
    }
   },
   "outputs": [
    {
     "data": {
      "text/plain": [
       "{(2, 1, 1, 1): 1, (1, 2, 2, 2): 2}"
      ]
     },
     "execution_count": 80,
     "metadata": {},
     "output_type": "execute_result"
    }
   ],
   "source": [
    "improper_types = {\n",
    "  seq: i+1\n",
    "  for i, seq in enumerate(writer.get_improper_patterns())\n",
    "}\n",
    "improper_types"
   ]
  },
  {
   "cell_type": "code",
   "execution_count": 81,
   "metadata": {
    "ExecuteTime": {
     "end_time": "2019-02-15T21:21:46.906209Z",
     "start_time": "2019-02-15T21:21:46.860497Z"
    }
   },
   "outputs": [
    {
     "name": "stdout",
     "output_type": "stream",
     "text": [
      "LammpsImpropers: 'type' have been set\n"
     ]
    }
   ],
   "source": [
    "writer.set_improper_types(improper_types)"
   ]
  },
  {
   "cell_type": "code",
   "execution_count": 82,
   "metadata": {
    "ExecuteTime": {
     "end_time": "2019-02-15T21:21:46.922858Z",
     "start_time": "2019-02-15T21:21:46.909175Z"
    }
   },
   "outputs": [
    {
     "name": "stdout",
     "output_type": "stream",
     "text": [
      "You might need to set 'extra/bond/per/atom' to: 6\n",
      "You might need to set 'extra/angle/per/atom' to: 15\n",
      "You might need to set 'extra/dihedral/per/atom' to: 78\n",
      "You might need to set 'extra/improper/per/atom' to: 36\n"
     ]
    }
   ],
   "source": [
    "writer.print_max_bonds_per_atom()\n",
    "writer.print_max_angles_per_atom()\n",
    "writer.print_max_dihedrals_per_atom()\n",
    "writer.print_max_impropers_per_atom()"
   ]
  },
  {
   "cell_type": "code",
   "execution_count": 83,
   "metadata": {
    "ExecuteTime": {
     "end_time": "2019-02-15T21:21:47.315510Z",
     "start_time": "2019-02-15T21:21:46.926769Z"
    }
   },
   "outputs": [
    {
     "name": "stdout",
     "output_type": "stream",
     "text": [
      "'Masses' section was written\n",
      "'Atoms' section was written\n",
      "'Bonds' section was written\n",
      "'Angles' section was written\n",
      "'Dihedrals' section was written\n",
      "'Impropers' section was written\n"
     ]
    }
   ],
   "source": [
    "writer.write_lammps_data(\"./lammps_files/data.nacl.badi\", mass=True)"
   ]
  },
  {
   "cell_type": "markdown",
   "metadata": {},
   "source": [
    "* [link to the file](./lammps_files/data.nacl.badi)"
   ]
  },
  {
   "cell_type": "code",
   "execution_count": null,
   "metadata": {},
   "outputs": [],
   "source": []
  }
 ],
 "metadata": {
  "kernelspec": {
   "display_name": "Python 3",
   "language": "python",
   "name": "python3"
  },
  "language_info": {
   "codemirror_mode": {
    "name": "ipython",
    "version": 3
   },
   "file_extension": ".py",
   "mimetype": "text/x-python",
   "name": "python",
   "nbconvert_exporter": "python",
   "pygments_lexer": "ipython3",
   "version": "3.6.8"
  },
  "toc": {
   "base_numbering": 1,
   "nav_menu": {},
   "number_sections": true,
   "sideBar": true,
   "skip_h1_title": true,
   "title_cell": "Table of Contents",
   "title_sidebar": "Contents",
   "toc_cell": false,
   "toc_position": {},
   "toc_section_display": true,
   "toc_window_display": false
  },
  "widgets": {
   "application/vnd.jupyter.widget-state+json": {
    "state": {},
    "version_major": 2,
    "version_minor": 0
   }
  }
 },
 "nbformat": 4,
 "nbformat_minor": 2
}
