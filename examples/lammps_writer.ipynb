{
 "cells": [
  {
   "cell_type": "code",
   "execution_count": 1,
   "metadata": {
    "ExecuteTime": {
     "end_time": "2019-02-15T07:29:05.748595Z",
     "start_time": "2019-02-15T07:29:05.645774Z"
    }
   },
   "outputs": [],
   "source": [
    "from ease4lmp import BondedAtoms, LammpsWriter\n",
    "from ase import Atoms\n",
    "from ase.build import bulk, molecule"
   ]
  },
  {
   "cell_type": "code",
   "execution_count": 2,
   "metadata": {
    "ExecuteTime": {
     "end_time": "2019-02-15T07:29:05.756360Z",
     "start_time": "2019-02-15T07:29:05.750663Z"
    }
   },
   "outputs": [],
   "source": [
    "import itertools\n",
    "import numpy as np"
   ]
  },
  {
   "cell_type": "markdown",
   "metadata": {},
   "source": [
    "## Methanol"
   ]
  },
  {
   "cell_type": "code",
   "execution_count": 3,
   "metadata": {
    "ExecuteTime": {
     "end_time": "2019-02-15T07:29:05.802210Z",
     "start_time": "2019-02-15T07:29:05.769125Z"
    }
   },
   "outputs": [],
   "source": [
    "atoms = BondedAtoms(molecule(\"CH3OH\"))"
   ]
  },
  {
   "cell_type": "code",
   "execution_count": 4,
   "metadata": {
    "ExecuteTime": {
     "end_time": "2019-02-15T07:29:05.818994Z",
     "start_time": "2019-02-15T07:29:05.805474Z"
    }
   },
   "outputs": [
    {
     "data": {
      "text/plain": [
       "array([6, 8, 1, 1, 1, 1])"
      ]
     },
     "execution_count": 4,
     "metadata": {},
     "output_type": "execute_result"
    }
   ],
   "source": [
    "atoms.get_atomic_numbers()"
   ]
  },
  {
   "cell_type": "code",
   "execution_count": 5,
   "metadata": {
    "ExecuteTime": {
     "end_time": "2019-02-15T07:29:05.832575Z",
     "start_time": "2019-02-15T07:29:05.822783Z"
    }
   },
   "outputs": [
    {
     "name": "stdout",
     "output_type": "stream",
     "text": [
      "O-H 0.9700009076665858\n",
      "C-H 1.0895403725020931\n",
      "C-H 1.0967341192508784\n",
      "C-H 1.0967341192508784\n"
     ]
    }
   ],
   "source": [
    "print(\"O-H\", atoms.get_distance(1, 3))\n",
    "print(\"C-H\", atoms.get_distance(0, 2))\n",
    "print(\"C-H\", atoms.get_distance(0, 4))\n",
    "print(\"C-H\", atoms.get_distance(0, 5))"
   ]
  },
  {
   "cell_type": "code",
   "execution_count": 6,
   "metadata": {
    "ExecuteTime": {
     "end_time": "2019-02-15T07:29:05.846604Z",
     "start_time": "2019-02-15T07:29:05.837838Z"
    }
   },
   "outputs": [],
   "source": [
    "atoms.set_types([1, 2, 3, 4, 3, 3])"
   ]
  },
  {
   "cell_type": "markdown",
   "metadata": {},
   "source": [
    "Create bonds connecting two atoms separated by less than 1.5 angstroms."
   ]
  },
  {
   "cell_type": "code",
   "execution_count": 7,
   "metadata": {
    "ExecuteTime": {
     "end_time": "2019-02-15T07:29:05.917034Z",
     "start_time": "2019-02-15T07:29:05.905396Z"
    }
   },
   "outputs": [
    {
     "data": {
      "text/plain": [
       "[(0, 1), (0, 2), (0, 4), (0, 5), (1, 3)]"
      ]
     },
     "execution_count": 7,
     "metadata": {},
     "output_type": "execute_result"
    }
   ],
   "source": [
    "positions = atoms.get_positions()\n",
    "bond_list = [\n",
    "  (i, j)\n",
    "  for i, j in itertools.combinations(range(len(atoms)), 2)\n",
    "  if np.linalg.norm(positions[i] - positions[j]) < 1.5\n",
    "]\n",
    "bond_list"
   ]
  },
  {
   "cell_type": "code",
   "execution_count": 8,
   "metadata": {
    "ExecuteTime": {
     "end_time": "2019-02-15T07:29:05.929649Z",
     "start_time": "2019-02-15T07:29:05.920732Z"
    }
   },
   "outputs": [],
   "source": [
    "for pair in bond_list:\n",
    "  atoms.add_bond(*pair)"
   ]
  },
  {
   "cell_type": "code",
   "execution_count": 9,
   "metadata": {
    "ExecuteTime": {
     "end_time": "2019-02-15T07:29:05.941175Z",
     "start_time": "2019-02-15T07:29:05.933578Z"
    }
   },
   "outputs": [
    {
     "data": {
      "text/plain": [
       "array([1, 2, 3, 4, 3, 3])"
      ]
     },
     "execution_count": 9,
     "metadata": {},
     "output_type": "execute_result"
    }
   ],
   "source": [
    "atoms.get_types()"
   ]
  },
  {
   "cell_type": "code",
   "execution_count": 10,
   "metadata": {
    "ExecuteTime": {
     "end_time": "2019-02-15T07:29:05.956423Z",
     "start_time": "2019-02-15T07:29:05.945784Z"
    }
   },
   "outputs": [
    {
     "data": {
      "text/plain": [
       "array([[[ 1,  0,  0,  0],\n",
       "        [ 2,  0,  0,  0],\n",
       "        [ 4,  0,  0,  0],\n",
       "        [ 5,  0,  0,  0]],\n",
       "\n",
       "       [[-1,  0,  0,  0],\n",
       "        [ 2,  0,  0,  0],\n",
       "        [ 0,  0,  0,  0],\n",
       "        [ 0,  0,  0,  0]],\n",
       "\n",
       "       [[-2,  0,  0,  0],\n",
       "        [ 0,  0,  0,  0],\n",
       "        [ 0,  0,  0,  0],\n",
       "        [ 0,  0,  0,  0]],\n",
       "\n",
       "       [[-2,  0,  0,  0],\n",
       "        [ 0,  0,  0,  0],\n",
       "        [ 0,  0,  0,  0],\n",
       "        [ 0,  0,  0,  0]],\n",
       "\n",
       "       [[-4,  0,  0,  0],\n",
       "        [ 0,  0,  0,  0],\n",
       "        [ 0,  0,  0,  0],\n",
       "        [ 0,  0,  0,  0]],\n",
       "\n",
       "       [[-5,  0,  0,  0],\n",
       "        [ 0,  0,  0,  0],\n",
       "        [ 0,  0,  0,  0],\n",
       "        [ 0,  0,  0,  0]]])"
      ]
     },
     "execution_count": 10,
     "metadata": {},
     "output_type": "execute_result"
    }
   ],
   "source": [
    "atoms.get_bonds()"
   ]
  },
  {
   "cell_type": "code",
   "execution_count": 11,
   "metadata": {
    "ExecuteTime": {
     "end_time": "2019-02-15T07:29:05.968514Z",
     "start_time": "2019-02-15T07:29:05.960696Z"
    }
   },
   "outputs": [
    {
     "data": {
      "text/plain": [
       "array([[-0.047131,  0.664389,  0.      ],\n",
       "       [-0.047131, -0.758551,  0.      ],\n",
       "       [-1.092995,  0.969785,  0.      ],\n",
       "       [ 0.878534, -1.048458,  0.      ],\n",
       "       [ 0.437145,  1.080376,  0.891772],\n",
       "       [ 0.437145,  1.080376, -0.891772]])"
      ]
     },
     "execution_count": 11,
     "metadata": {},
     "output_type": "execute_result"
    }
   ],
   "source": [
    "atoms.get_positions()"
   ]
  },
  {
   "cell_type": "markdown",
   "metadata": {},
   "source": [
    "Unit cell is required to write Lammps' file."
   ]
  },
  {
   "cell_type": "code",
   "execution_count": 12,
   "metadata": {
    "ExecuteTime": {
     "end_time": "2019-02-15T07:29:06.052701Z",
     "start_time": "2019-02-15T07:29:06.046360Z"
    }
   },
   "outputs": [],
   "source": [
    "atoms.set_cell([[5., 0., 0.], [0., 5., 0.], [0., 0., 5.]])\n",
    "atoms.center()"
   ]
  },
  {
   "cell_type": "code",
   "execution_count": 13,
   "metadata": {
    "ExecuteTime": {
     "end_time": "2019-02-15T07:29:06.063426Z",
     "start_time": "2019-02-15T07:29:06.055571Z"
    }
   },
   "outputs": [
    {
     "data": {
      "text/plain": [
       "array([[2.5600995, 3.14843  , 2.5      ],\n",
       "       [2.5600995, 1.72549  , 2.5      ],\n",
       "       [1.5142355, 3.453826 , 2.5      ],\n",
       "       [3.4857645, 1.435583 , 2.5      ],\n",
       "       [3.0443755, 3.564417 , 3.391772 ],\n",
       "       [3.0443755, 3.564417 , 1.608228 ]])"
      ]
     },
     "execution_count": 13,
     "metadata": {},
     "output_type": "execute_result"
    }
   ],
   "source": [
    "atoms.get_positions()"
   ]
  },
  {
   "cell_type": "markdown",
   "metadata": {},
   "source": [
    "Set random velocities to all the atoms."
   ]
  },
  {
   "cell_type": "code",
   "execution_count": 14,
   "metadata": {
    "ExecuteTime": {
     "end_time": "2019-02-15T07:29:06.162683Z",
     "start_time": "2019-02-15T07:29:06.157194Z"
    }
   },
   "outputs": [],
   "source": [
    "atoms.set_velocities(np.random.uniform(-1, 1, (len(atoms), 3)))"
   ]
  },
  {
   "cell_type": "markdown",
   "metadata": {},
   "source": [
    "Create a LammpsWriter instance."
   ]
  },
  {
   "cell_type": "code",
   "execution_count": 15,
   "metadata": {
    "ExecuteTime": {
     "end_time": "2019-02-15T07:29:06.273139Z",
     "start_time": "2019-02-15T07:29:06.259392Z"
    }
   },
   "outputs": [
    {
     "name": "stdout",
     "output_type": "stream",
     "text": [
      "LammpsAtoms: 'id' have been set\n",
      "LammpsAtoms: 'type' have been set\n",
      "LammpsAtoms: 'x' have been set\n",
      "LammpsAtoms: 'y' have been set\n",
      "LammpsAtoms: 'z' have been set\n",
      "LammpsAtoms: 'vx' have been set\n",
      "LammpsAtoms: 'vy' have been set\n",
      "LammpsAtoms: 'vz' have been set\n",
      "LammpsAtoms: 'mass' have been set\n",
      "LammpsBonds: 'id' have been set\n",
      "LammpsBonds: 'atom1' have been set\n",
      "LammpsBonds: 'atom2' have been set\n",
      "LammpsAngles: 'id' have been set\n",
      "LammpsAngles: 'atom1' have been set\n",
      "LammpsAngles: 'atom2' have been set\n",
      "LammpsAngles: 'atom3' have been set\n",
      "LammpsDihedrals: 'id' have been set\n",
      "LammpsDihedrals: 'atom1' have been set\n",
      "LammpsDihedrals: 'atom2' have been set\n",
      "LammpsDihedrals: 'atom3' have been set\n",
      "LammpsDihedrals: 'atom4' have been set\n",
      "LammpsImpropers: 'id' have been set\n",
      "LammpsImpropers: 'atom1' have been set\n",
      "LammpsImpropers: 'atom2' have been set\n",
      "LammpsImpropers: 'atom3' have been set\n",
      "LammpsImpropers: 'atom4' have been set\n"
     ]
    }
   ],
   "source": [
    "writer = LammpsWriter(atoms, atom_style=\"molecular\")"
   ]
  },
  {
   "cell_type": "markdown",
   "metadata": {},
   "source": [
    "Check missing data."
   ]
  },
  {
   "cell_type": "code",
   "execution_count": 16,
   "metadata": {
    "ExecuteTime": {
     "end_time": "2019-02-15T07:29:06.374723Z",
     "start_time": "2019-02-15T07:29:06.368689Z"
    }
   },
   "outputs": [
    {
     "data": {
      "text/plain": [
       "{'mol'}"
      ]
     },
     "execution_count": 16,
     "metadata": {},
     "output_type": "execute_result"
    }
   ],
   "source": [
    "writer.get_required_datanames()"
   ]
  },
  {
   "cell_type": "code",
   "execution_count": 17,
   "metadata": {
    "ExecuteTime": {
     "end_time": "2019-02-15T07:29:06.384441Z",
     "start_time": "2019-02-15T07:29:06.378576Z"
    }
   },
   "outputs": [
    {
     "data": {
      "text/plain": [
       "set()"
      ]
     },
     "execution_count": 17,
     "metadata": {},
     "output_type": "execute_result"
    }
   ],
   "source": [
    "writer.get_required_datanames_for_molecule()"
   ]
  },
  {
   "cell_type": "markdown",
   "metadata": {},
   "source": [
    "All the atoms belong to the same molecule.\n",
    "Consider that the molecule's id is 1."
   ]
  },
  {
   "cell_type": "code",
   "execution_count": 18,
   "metadata": {
    "ExecuteTime": {
     "end_time": "2019-02-15T07:29:06.487501Z",
     "start_time": "2019-02-15T07:29:06.483047Z"
    }
   },
   "outputs": [
    {
     "name": "stdout",
     "output_type": "stream",
     "text": [
      "LammpsAtoms: 'mol' have been set\n"
     ]
    }
   ],
   "source": [
    "writer.set_atom_data(mol=[1]*len(atoms))"
   ]
  },
  {
   "cell_type": "markdown",
   "metadata": {},
   "source": [
    "Set types of bond, angle, dihedral and improper."
   ]
  },
  {
   "cell_type": "code",
   "execution_count": 19,
   "metadata": {
    "ExecuteTime": {
     "end_time": "2019-02-15T07:29:06.594334Z",
     "start_time": "2019-02-15T07:29:06.584555Z"
    }
   },
   "outputs": [
    {
     "data": {
      "text/plain": [
       "{(1, 2): 1, (1, 3): 2, (2, 4): 3}"
      ]
     },
     "execution_count": 19,
     "metadata": {},
     "output_type": "execute_result"
    }
   ],
   "source": [
    "bond_types = {\n",
    "  seq: i+1\n",
    "  for i, seq in enumerate(writer.get_bond_patterns())\n",
    "}\n",
    "bond_types"
   ]
  },
  {
   "cell_type": "code",
   "execution_count": 20,
   "metadata": {
    "ExecuteTime": {
     "end_time": "2019-02-15T07:29:06.606471Z",
     "start_time": "2019-02-15T07:29:06.599597Z"
    }
   },
   "outputs": [
    {
     "name": "stdout",
     "output_type": "stream",
     "text": [
      "LammpsBonds: 'type' have been set\n"
     ]
    }
   ],
   "source": [
    "writer.set_bond_types(bond_types)"
   ]
  },
  {
   "cell_type": "code",
   "execution_count": 21,
   "metadata": {
    "ExecuteTime": {
     "end_time": "2019-02-15T07:29:06.624080Z",
     "start_time": "2019-02-15T07:29:06.610945Z"
    }
   },
   "outputs": [
    {
     "data": {
      "text/plain": [
       "{(3, 1, 3): 1, (2, 1, 3): 2, (1, 2, 4): 3}"
      ]
     },
     "execution_count": 21,
     "metadata": {},
     "output_type": "execute_result"
    }
   ],
   "source": [
    "angle_types = {\n",
    "  seq: i+1\n",
    "  for i, seq in enumerate(writer.get_angle_patterns())\n",
    "}\n",
    "angle_types"
   ]
  },
  {
   "cell_type": "code",
   "execution_count": 22,
   "metadata": {
    "ExecuteTime": {
     "end_time": "2019-02-15T07:29:06.636109Z",
     "start_time": "2019-02-15T07:29:06.628327Z"
    }
   },
   "outputs": [
    {
     "name": "stdout",
     "output_type": "stream",
     "text": [
      "LammpsAngles: 'type' have been set\n"
     ]
    }
   ],
   "source": [
    "writer.set_angle_types(angle_types)"
   ]
  },
  {
   "cell_type": "code",
   "execution_count": 23,
   "metadata": {
    "ExecuteTime": {
     "end_time": "2019-02-15T07:29:06.649141Z",
     "start_time": "2019-02-15T07:29:06.640180Z"
    }
   },
   "outputs": [
    {
     "data": {
      "text/plain": [
       "{(4, 2, 1, 3): 1}"
      ]
     },
     "execution_count": 23,
     "metadata": {},
     "output_type": "execute_result"
    }
   ],
   "source": [
    "dihedral_types = {\n",
    "  seq: i+1\n",
    "  for i, seq in enumerate(writer.get_dihedral_patterns())\n",
    "}\n",
    "dihedral_types"
   ]
  },
  {
   "cell_type": "code",
   "execution_count": 24,
   "metadata": {
    "ExecuteTime": {
     "end_time": "2019-02-15T07:29:06.657512Z",
     "start_time": "2019-02-15T07:29:06.652423Z"
    }
   },
   "outputs": [
    {
     "name": "stdout",
     "output_type": "stream",
     "text": [
      "LammpsDihedrals: 'type' have been set\n"
     ]
    }
   ],
   "source": [
    "writer.set_dihedral_types(dihedral_types)"
   ]
  },
  {
   "cell_type": "code",
   "execution_count": 25,
   "metadata": {
    "ExecuteTime": {
     "end_time": "2019-02-15T07:29:06.669247Z",
     "start_time": "2019-02-15T07:29:06.660601Z"
    }
   },
   "outputs": [
    {
     "data": {
      "text/plain": [
       "{(1, 2, 3, 3): 1, (1, 3, 3, 3): 2}"
      ]
     },
     "execution_count": 25,
     "metadata": {},
     "output_type": "execute_result"
    }
   ],
   "source": [
    "improper_types = {\n",
    "  seq: i+1\n",
    "  for i, seq in enumerate(writer.get_improper_patterns())\n",
    "}\n",
    "improper_types"
   ]
  },
  {
   "cell_type": "code",
   "execution_count": 26,
   "metadata": {
    "ExecuteTime": {
     "end_time": "2019-02-15T07:29:06.935471Z",
     "start_time": "2019-02-15T07:29:06.672243Z"
    }
   },
   "outputs": [
    {
     "name": "stdout",
     "output_type": "stream",
     "text": [
      "LammpsImpropers: 'type' have been set\n"
     ]
    }
   ],
   "source": [
    "writer.set_improper_types(improper_types)"
   ]
  },
  {
   "cell_type": "markdown",
   "metadata": {},
   "source": [
    "The following methods print information about keywords of Lammps' `read_data` command.\n",
    "In the below case, the `read_data` command will be something like:\n",
    "\n",
    "```python\n",
    "from lammps import PyLammps\n",
    "\n",
    "L = PyLammps()\n",
    "L.read_data(\n",
    "    \"path/to/datafile\",\n",
    "    \"extra/bond/per/atom\", 4,\n",
    "    \"extra/angle/per/atom\", 6,\n",
    "    \"extra/dihedral/per/atom\", 2,\n",
    "    \"extra/improper/per/atom\", 3)\n",
    "```"
   ]
  },
  {
   "cell_type": "code",
   "execution_count": 27,
   "metadata": {
    "ExecuteTime": {
     "end_time": "2019-02-15T07:29:06.948453Z",
     "start_time": "2019-02-15T07:29:06.940096Z"
    }
   },
   "outputs": [
    {
     "name": "stdout",
     "output_type": "stream",
     "text": [
      "You might need to set 'extra/bond/per/atom' to: 4\n",
      "You might need to set 'extra/angle/per/atom' to: 6\n",
      "You might need to set 'extra/dihedral/per/atom' to: 2\n",
      "You might need to set 'extra/improper/per/atom' to: 3\n"
     ]
    }
   ],
   "source": [
    "writer.print_max_bonds_per_atom()\n",
    "writer.print_max_angles_per_atom()\n",
    "writer.print_max_dihedrals_per_atom()\n",
    "writer.print_max_impropers_per_atom()"
   ]
  },
  {
   "cell_type": "markdown",
   "metadata": {},
   "source": [
    "Write Lammps' data file with *Masses* section."
   ]
  },
  {
   "cell_type": "code",
   "execution_count": 28,
   "metadata": {
    "ExecuteTime": {
     "end_time": "2019-02-15T07:29:06.977238Z",
     "start_time": "2019-02-15T07:29:06.954348Z"
    }
   },
   "outputs": [
    {
     "name": "stdout",
     "output_type": "stream",
     "text": [
      "'Masses' section was written\n",
      "'Atoms' section was written\n",
      "'Bonds' section was written\n",
      "'Angles' section was written\n",
      "'Dihedrals' section was written\n",
      "'Impropers' section was written\n"
     ]
    }
   ],
   "source": [
    "writer.write_lammps_data(\"./lammps_files/data.methanol\", mass=True)"
   ]
  },
  {
   "cell_type": "markdown",
   "metadata": {},
   "source": [
    "* [link to the file](./lammps_files/data.methanol)"
   ]
  },
  {
   "cell_type": "markdown",
   "metadata": {},
   "source": [
    "Write Lammps' molecule file with *Masses* section."
   ]
  },
  {
   "cell_type": "code",
   "execution_count": 29,
   "metadata": {
    "ExecuteTime": {
     "end_time": "2019-02-15T07:29:07.096545Z",
     "start_time": "2019-02-15T07:29:07.073248Z"
    }
   },
   "outputs": [
    {
     "name": "stdout",
     "output_type": "stream",
     "text": [
      "'Coords' section was written\n",
      "'Types' section was written\n",
      "'Masses' section was written\n",
      "'Bonds' section was written\n",
      "'Angles' section was written\n",
      "'Dihedrals' section was written\n",
      "'Impropers' section was written\n",
      "'Special Bond Counts' and 'Special Bonds' section was written\n"
     ]
    }
   ],
   "source": [
    "writer.write_lammps_molecule(\"./lammps_files/molecule.methanol\", mass=True)"
   ]
  },
  {
   "cell_type": "markdown",
   "metadata": {},
   "source": [
    "* [link to the file](./lammps_files/molecule.methanol)"
   ]
  },
  {
   "cell_type": "markdown",
   "metadata": {},
   "source": [
    "Write Lammps' data file with *Masses* and *velocities* section.\n",
    "In addition, `centering=True` ensures that center of the simulation box is at $(0, 0, 0)$."
   ]
  },
  {
   "cell_type": "code",
   "execution_count": 30,
   "metadata": {
    "ExecuteTime": {
     "end_time": "2019-02-15T07:29:07.306993Z",
     "start_time": "2019-02-15T07:29:07.284119Z"
    }
   },
   "outputs": [
    {
     "name": "stdout",
     "output_type": "stream",
     "text": [
      "'Masses' section was written\n",
      "'Atoms' section was written\n",
      "'Velocities' section was written\n",
      "'Bonds' section was written\n",
      "'Angles' section was written\n",
      "'Dihedrals' section was written\n",
      "'Impropers' section was written\n"
     ]
    }
   ],
   "source": [
    "writer.write_lammps_data(\"./lammps_files/data.methanol2\", centering=True, velocity=True, mass=True)"
   ]
  },
  {
   "cell_type": "markdown",
   "metadata": {},
   "source": [
    "* [link to the file](./lammps_files/data.methanol2)"
   ]
  },
  {
   "cell_type": "markdown",
   "metadata": {},
   "source": [
    "## Acetic acid"
   ]
  },
  {
   "cell_type": "code",
   "execution_count": 31,
   "metadata": {
    "ExecuteTime": {
     "end_time": "2019-02-15T07:29:07.488297Z",
     "start_time": "2019-02-15T07:29:07.483089Z"
    }
   },
   "outputs": [],
   "source": [
    "atoms = BondedAtoms(molecule(\"CH3COOH\"))"
   ]
  },
  {
   "cell_type": "code",
   "execution_count": 32,
   "metadata": {
    "ExecuteTime": {
     "end_time": "2019-02-15T07:29:07.531187Z",
     "start_time": "2019-02-15T07:29:07.494093Z"
    }
   },
   "outputs": [
    {
     "data": {
      "text/plain": [
       "array([6, 8, 8, 1, 6, 1, 1, 1])"
      ]
     },
     "execution_count": 32,
     "metadata": {},
     "output_type": "execute_result"
    }
   ],
   "source": [
    "atoms.get_atomic_numbers()"
   ]
  },
  {
   "cell_type": "code",
   "execution_count": 33,
   "metadata": {
    "ExecuteTime": {
     "end_time": "2019-02-15T07:29:07.543362Z",
     "start_time": "2019-02-15T07:29:07.536299Z"
    }
   },
   "outputs": [
    {
     "name": "stdout",
     "output_type": "stream",
     "text": [
      "O-H 0.9792030242666737\n",
      "C-H 1.0882694768934758\n",
      "C-H 1.0920259389130829\n",
      "C-H 1.0920259389130829\n"
     ]
    }
   ],
   "source": [
    "print(\"O-H\", atoms.get_distance(2, 3))\n",
    "print(\"C-H\", atoms.get_distance(4, 5))\n",
    "print(\"C-H\", atoms.get_distance(4, 6))\n",
    "print(\"C-H\", atoms.get_distance(4, 7))"
   ]
  },
  {
   "cell_type": "code",
   "execution_count": 34,
   "metadata": {
    "ExecuteTime": {
     "end_time": "2019-02-15T07:29:07.550610Z",
     "start_time": "2019-02-15T07:29:07.546578Z"
    }
   },
   "outputs": [],
   "source": [
    "atoms.set_types([1, 2, 3, 4, 5, 6, 6, 6])"
   ]
  },
  {
   "cell_type": "code",
   "execution_count": 35,
   "metadata": {
    "ExecuteTime": {
     "end_time": "2019-02-15T07:29:07.563333Z",
     "start_time": "2019-02-15T07:29:07.555250Z"
    }
   },
   "outputs": [
    {
     "data": {
      "text/plain": [
       "[(0, 1), (0, 2), (0, 4), (2, 3), (4, 5), (4, 6), (4, 7)]"
      ]
     },
     "execution_count": 35,
     "metadata": {},
     "output_type": "execute_result"
    }
   ],
   "source": [
    "positions = atoms.get_positions()\n",
    "bond_list = [\n",
    "  (i, j)\n",
    "  for i, j in itertools.combinations(range(len(atoms)), 2)\n",
    "  if np.linalg.norm(positions[i] - positions[j]) < 1.5\n",
    "]\n",
    "bond_list"
   ]
  },
  {
   "cell_type": "code",
   "execution_count": 36,
   "metadata": {
    "ExecuteTime": {
     "end_time": "2019-02-15T07:29:07.573703Z",
     "start_time": "2019-02-15T07:29:07.566514Z"
    }
   },
   "outputs": [],
   "source": [
    "for pair in bond_list:\n",
    "  atoms.add_bond(*pair)"
   ]
  },
  {
   "cell_type": "code",
   "execution_count": 37,
   "metadata": {
    "ExecuteTime": {
     "end_time": "2019-02-15T07:29:07.584757Z",
     "start_time": "2019-02-15T07:29:07.577332Z"
    }
   },
   "outputs": [
    {
     "data": {
      "text/plain": [
       "array([1, 2, 3, 4, 5, 6, 6, 6])"
      ]
     },
     "execution_count": 37,
     "metadata": {},
     "output_type": "execute_result"
    }
   ],
   "source": [
    "atoms.get_types()"
   ]
  },
  {
   "cell_type": "code",
   "execution_count": 38,
   "metadata": {
    "ExecuteTime": {
     "end_time": "2019-02-15T07:29:07.593569Z",
     "start_time": "2019-02-15T07:29:07.587647Z"
    }
   },
   "outputs": [
    {
     "data": {
      "text/plain": [
       "array([[[ 1,  0,  0,  0],\n",
       "        [ 2,  0,  0,  0],\n",
       "        [ 4,  0,  0,  0],\n",
       "        [ 0,  0,  0,  0]],\n",
       "\n",
       "       [[-1,  0,  0,  0],\n",
       "        [ 0,  0,  0,  0],\n",
       "        [ 0,  0,  0,  0],\n",
       "        [ 0,  0,  0,  0]],\n",
       "\n",
       "       [[-2,  0,  0,  0],\n",
       "        [ 1,  0,  0,  0],\n",
       "        [ 0,  0,  0,  0],\n",
       "        [ 0,  0,  0,  0]],\n",
       "\n",
       "       [[-1,  0,  0,  0],\n",
       "        [ 0,  0,  0,  0],\n",
       "        [ 0,  0,  0,  0],\n",
       "        [ 0,  0,  0,  0]],\n",
       "\n",
       "       [[-4,  0,  0,  0],\n",
       "        [ 1,  0,  0,  0],\n",
       "        [ 2,  0,  0,  0],\n",
       "        [ 3,  0,  0,  0]],\n",
       "\n",
       "       [[-1,  0,  0,  0],\n",
       "        [ 0,  0,  0,  0],\n",
       "        [ 0,  0,  0,  0],\n",
       "        [ 0,  0,  0,  0]],\n",
       "\n",
       "       [[-2,  0,  0,  0],\n",
       "        [ 0,  0,  0,  0],\n",
       "        [ 0,  0,  0,  0],\n",
       "        [ 0,  0,  0,  0]],\n",
       "\n",
       "       [[-3,  0,  0,  0],\n",
       "        [ 0,  0,  0,  0],\n",
       "        [ 0,  0,  0,  0],\n",
       "        [ 0,  0,  0,  0]]])"
      ]
     },
     "execution_count": 38,
     "metadata": {},
     "output_type": "execute_result"
    }
   ],
   "source": [
    "atoms.get_bonds()"
   ]
  },
  {
   "cell_type": "code",
   "execution_count": 39,
   "metadata": {
    "ExecuteTime": {
     "end_time": "2019-02-15T07:29:07.602211Z",
     "start_time": "2019-02-15T07:29:07.596694Z"
    }
   },
   "outputs": [
    {
     "data": {
      "text/plain": [
       "array([[ 0.      ,  0.15456 ,  0.      ],\n",
       "       [ 0.166384,  1.360084,  0.      ],\n",
       "       [-1.236449, -0.415036,  0.      ],\n",
       "       [-1.867646,  0.333582,  0.      ],\n",
       "       [ 1.073776, -0.892748,  0.      ],\n",
       "       [ 2.048189, -0.408135,  0.      ],\n",
       "       [ 0.968661, -1.528353,  0.881747],\n",
       "       [ 0.968661, -1.528353, -0.881747]])"
      ]
     },
     "execution_count": 39,
     "metadata": {},
     "output_type": "execute_result"
    }
   ],
   "source": [
    "atoms.get_positions()"
   ]
  },
  {
   "cell_type": "code",
   "execution_count": 40,
   "metadata": {
    "ExecuteTime": {
     "end_time": "2019-02-15T07:29:07.610254Z",
     "start_time": "2019-02-15T07:29:07.604773Z"
    }
   },
   "outputs": [],
   "source": [
    "atoms.set_cell([[5., 0., 0.], [0., 5., 0.], [0., 0., 5.]])\n",
    "atoms.center()"
   ]
  },
  {
   "cell_type": "code",
   "execution_count": 41,
   "metadata": {
    "ExecuteTime": {
     "end_time": "2019-02-15T07:29:07.619278Z",
     "start_time": "2019-02-15T07:29:07.612875Z"
    }
   },
   "outputs": [
    {
     "data": {
      "text/plain": [
       "array([[2.4097285, 2.7386945, 2.5      ],\n",
       "       [2.5761125, 3.9442185, 2.5      ],\n",
       "       [1.1732795, 2.1690985, 2.5      ],\n",
       "       [0.5420825, 2.9177165, 2.5      ],\n",
       "       [3.4835045, 1.6913865, 2.5      ],\n",
       "       [4.4579175, 2.1759995, 2.5      ],\n",
       "       [3.3783895, 1.0557815, 3.381747 ],\n",
       "       [3.3783895, 1.0557815, 1.618253 ]])"
      ]
     },
     "execution_count": 41,
     "metadata": {},
     "output_type": "execute_result"
    }
   ],
   "source": [
    "atoms.get_positions()"
   ]
  },
  {
   "cell_type": "code",
   "execution_count": 42,
   "metadata": {
    "ExecuteTime": {
     "end_time": "2019-02-15T07:29:08.098727Z",
     "start_time": "2019-02-15T07:29:08.094435Z"
    }
   },
   "outputs": [],
   "source": [
    "atoms.set_velocities(np.random.uniform(-1, 1, (len(atoms), 3)))"
   ]
  },
  {
   "cell_type": "code",
   "execution_count": 43,
   "metadata": {
    "ExecuteTime": {
     "end_time": "2019-02-15T07:29:08.127232Z",
     "start_time": "2019-02-15T07:29:08.116207Z"
    }
   },
   "outputs": [
    {
     "name": "stdout",
     "output_type": "stream",
     "text": [
      "LammpsAtoms: 'id' have been set\n",
      "LammpsAtoms: 'type' have been set\n",
      "LammpsAtoms: 'x' have been set\n",
      "LammpsAtoms: 'y' have been set\n",
      "LammpsAtoms: 'z' have been set\n",
      "LammpsAtoms: 'vx' have been set\n",
      "LammpsAtoms: 'vy' have been set\n",
      "LammpsAtoms: 'vz' have been set\n",
      "LammpsAtoms: 'mass' have been set\n",
      "LammpsBonds: 'id' have been set\n",
      "LammpsBonds: 'atom1' have been set\n",
      "LammpsBonds: 'atom2' have been set\n",
      "LammpsAngles: 'id' have been set\n",
      "LammpsAngles: 'atom1' have been set\n",
      "LammpsAngles: 'atom2' have been set\n",
      "LammpsAngles: 'atom3' have been set\n",
      "LammpsDihedrals: 'id' have been set\n",
      "LammpsDihedrals: 'atom1' have been set\n",
      "LammpsDihedrals: 'atom2' have been set\n",
      "LammpsDihedrals: 'atom3' have been set\n",
      "LammpsDihedrals: 'atom4' have been set\n",
      "LammpsImpropers: 'id' have been set\n",
      "LammpsImpropers: 'atom1' have been set\n",
      "LammpsImpropers: 'atom2' have been set\n",
      "LammpsImpropers: 'atom3' have been set\n",
      "LammpsImpropers: 'atom4' have been set\n"
     ]
    }
   ],
   "source": [
    "writer = LammpsWriter(atoms, atom_style=\"molecular\")"
   ]
  },
  {
   "cell_type": "code",
   "execution_count": 44,
   "metadata": {
    "ExecuteTime": {
     "end_time": "2019-02-15T07:29:08.139775Z",
     "start_time": "2019-02-15T07:29:08.132213Z"
    }
   },
   "outputs": [
    {
     "data": {
      "text/plain": [
       "{'mol'}"
      ]
     },
     "execution_count": 44,
     "metadata": {},
     "output_type": "execute_result"
    }
   ],
   "source": [
    "writer.get_required_datanames()"
   ]
  },
  {
   "cell_type": "code",
   "execution_count": 45,
   "metadata": {
    "ExecuteTime": {
     "end_time": "2019-02-15T07:29:08.152073Z",
     "start_time": "2019-02-15T07:29:08.144165Z"
    }
   },
   "outputs": [
    {
     "data": {
      "text/plain": [
       "set()"
      ]
     },
     "execution_count": 45,
     "metadata": {},
     "output_type": "execute_result"
    }
   ],
   "source": [
    "writer.get_required_datanames_for_molecule()"
   ]
  },
  {
   "cell_type": "code",
   "execution_count": 46,
   "metadata": {
    "ExecuteTime": {
     "end_time": "2019-02-15T07:29:08.164522Z",
     "start_time": "2019-02-15T07:29:08.158270Z"
    }
   },
   "outputs": [
    {
     "name": "stdout",
     "output_type": "stream",
     "text": [
      "LammpsAtoms: 'mol' have been set\n"
     ]
    }
   ],
   "source": [
    "writer.set_atom_data(mol=[1]*len(atoms))"
   ]
  },
  {
   "cell_type": "code",
   "execution_count": 47,
   "metadata": {
    "ExecuteTime": {
     "end_time": "2019-02-15T07:29:08.180015Z",
     "start_time": "2019-02-15T07:29:08.171091Z"
    }
   },
   "outputs": [
    {
     "data": {
      "text/plain": [
       "{(1, 2): 1, (1, 3): 2, (5, 6): 3, (1, 5): 4, (3, 4): 5}"
      ]
     },
     "execution_count": 47,
     "metadata": {},
     "output_type": "execute_result"
    }
   ],
   "source": [
    "bond_types = {\n",
    "  seq: i+1\n",
    "  for i, seq in enumerate(writer.get_bond_patterns())\n",
    "}\n",
    "bond_types"
   ]
  },
  {
   "cell_type": "code",
   "execution_count": 48,
   "metadata": {
    "ExecuteTime": {
     "end_time": "2019-02-15T07:29:08.191160Z",
     "start_time": "2019-02-15T07:29:08.184036Z"
    }
   },
   "outputs": [
    {
     "name": "stdout",
     "output_type": "stream",
     "text": [
      "LammpsBonds: 'type' have been set\n"
     ]
    }
   ],
   "source": [
    "writer.set_bond_types(bond_types)"
   ]
  },
  {
   "cell_type": "code",
   "execution_count": 49,
   "metadata": {
    "ExecuteTime": {
     "end_time": "2019-02-15T07:29:08.218881Z",
     "start_time": "2019-02-15T07:29:08.197138Z"
    }
   },
   "outputs": [
    {
     "data": {
      "text/plain": [
       "{(3, 1, 5): 1,\n",
       " (6, 5, 6): 2,\n",
       " (2, 1, 5): 3,\n",
       " (1, 5, 6): 4,\n",
       " (1, 3, 4): 5,\n",
       " (2, 1, 3): 6}"
      ]
     },
     "execution_count": 49,
     "metadata": {},
     "output_type": "execute_result"
    }
   ],
   "source": [
    "angle_types = {\n",
    "  seq: i+1\n",
    "  for i, seq in enumerate(writer.get_angle_patterns())\n",
    "}\n",
    "angle_types"
   ]
  },
  {
   "cell_type": "code",
   "execution_count": 50,
   "metadata": {
    "ExecuteTime": {
     "end_time": "2019-02-15T07:29:08.233650Z",
     "start_time": "2019-02-15T07:29:08.225477Z"
    }
   },
   "outputs": [
    {
     "name": "stdout",
     "output_type": "stream",
     "text": [
      "LammpsAngles: 'type' have been set\n"
     ]
    }
   ],
   "source": [
    "writer.set_angle_types(angle_types)"
   ]
  },
  {
   "cell_type": "code",
   "execution_count": 51,
   "metadata": {
    "ExecuteTime": {
     "end_time": "2019-02-15T07:29:08.254719Z",
     "start_time": "2019-02-15T07:29:08.237998Z"
    }
   },
   "outputs": [
    {
     "data": {
      "text/plain": [
       "{(4, 3, 1, 2): 1, (6, 5, 1, 3): 2, (5, 1, 3, 4): 3, (6, 5, 1, 2): 4}"
      ]
     },
     "execution_count": 51,
     "metadata": {},
     "output_type": "execute_result"
    }
   ],
   "source": [
    "dihedral_types = {\n",
    "  seq: i+1\n",
    "  for i, seq in enumerate(writer.get_dihedral_patterns())\n",
    "}\n",
    "dihedral_types"
   ]
  },
  {
   "cell_type": "code",
   "execution_count": 52,
   "metadata": {
    "ExecuteTime": {
     "end_time": "2019-02-15T07:29:08.269607Z",
     "start_time": "2019-02-15T07:29:08.258692Z"
    }
   },
   "outputs": [
    {
     "name": "stdout",
     "output_type": "stream",
     "text": [
      "LammpsDihedrals: 'type' have been set\n"
     ]
    }
   ],
   "source": [
    "writer.set_dihedral_types(dihedral_types)"
   ]
  },
  {
   "cell_type": "code",
   "execution_count": 53,
   "metadata": {
    "ExecuteTime": {
     "end_time": "2019-02-15T07:29:08.297427Z",
     "start_time": "2019-02-15T07:29:08.274127Z"
    }
   },
   "outputs": [
    {
     "data": {
      "text/plain": [
       "{(1, 2, 3, 5): 1, (5, 1, 6, 6): 2, (5, 6, 6, 6): 3}"
      ]
     },
     "execution_count": 53,
     "metadata": {},
     "output_type": "execute_result"
    }
   ],
   "source": [
    "improper_types = {\n",
    "  seq: i+1\n",
    "  for i, seq in enumerate(writer.get_improper_patterns())\n",
    "}\n",
    "improper_types"
   ]
  },
  {
   "cell_type": "code",
   "execution_count": 54,
   "metadata": {
    "ExecuteTime": {
     "end_time": "2019-02-15T07:29:08.306491Z",
     "start_time": "2019-02-15T07:29:08.301595Z"
    }
   },
   "outputs": [
    {
     "name": "stdout",
     "output_type": "stream",
     "text": [
      "LammpsImpropers: 'type' have been set\n"
     ]
    }
   ],
   "source": [
    "writer.set_improper_types(improper_types)"
   ]
  },
  {
   "cell_type": "code",
   "execution_count": 55,
   "metadata": {
    "ExecuteTime": {
     "end_time": "2019-02-15T07:29:08.318276Z",
     "start_time": "2019-02-15T07:29:08.310783Z"
    }
   },
   "outputs": [
    {
     "name": "stdout",
     "output_type": "stream",
     "text": [
      "You might need to set 'extra/bond/per/atom' to: 3\n",
      "You might need to set 'extra/angle/per/atom' to: 6\n",
      "You might need to set 'extra/dihedral/per/atom' to: 4\n",
      "You might need to set 'extra/improper/per/atom' to: 3\n"
     ]
    }
   ],
   "source": [
    "writer.print_max_bonds_per_atom()\n",
    "writer.print_max_angles_per_atom()\n",
    "writer.print_max_dihedrals_per_atom()\n",
    "writer.print_max_impropers_per_atom()"
   ]
  },
  {
   "cell_type": "code",
   "execution_count": 56,
   "metadata": {
    "ExecuteTime": {
     "end_time": "2019-02-15T07:29:08.346076Z",
     "start_time": "2019-02-15T07:29:08.321643Z"
    }
   },
   "outputs": [
    {
     "name": "stdout",
     "output_type": "stream",
     "text": [
      "'Masses' section was written\n",
      "'Atoms' section was written\n",
      "'Bonds' section was written\n",
      "'Angles' section was written\n",
      "'Dihedrals' section was written\n",
      "'Impropers' section was written\n"
     ]
    }
   ],
   "source": [
    "writer.write_lammps_data(\"./lammps_files/data.acetic\", mass=True)"
   ]
  },
  {
   "cell_type": "markdown",
   "metadata": {},
   "source": [
    "* [link to the file](./lammps_files/data.acetic)"
   ]
  },
  {
   "cell_type": "code",
   "execution_count": 57,
   "metadata": {
    "ExecuteTime": {
     "end_time": "2019-02-15T07:29:08.375332Z",
     "start_time": "2019-02-15T07:29:08.349397Z"
    }
   },
   "outputs": [
    {
     "name": "stdout",
     "output_type": "stream",
     "text": [
      "'Coords' section was written\n",
      "'Types' section was written\n",
      "'Masses' section was written\n",
      "'Bonds' section was written\n",
      "'Angles' section was written\n",
      "'Dihedrals' section was written\n",
      "'Impropers' section was written\n",
      "'Special Bond Counts' and 'Special Bonds' section was written\n"
     ]
    }
   ],
   "source": [
    "writer.write_lammps_molecule(\"./lammps_files/molecule.acetic\", mass=True)"
   ]
  },
  {
   "cell_type": "markdown",
   "metadata": {},
   "source": [
    "* [link to the file](./lammps_files/molecule.acetic)"
   ]
  },
  {
   "cell_type": "code",
   "execution_count": 58,
   "metadata": {
    "ExecuteTime": {
     "end_time": "2019-02-15T07:29:08.404310Z",
     "start_time": "2019-02-15T07:29:08.378578Z"
    }
   },
   "outputs": [
    {
     "name": "stdout",
     "output_type": "stream",
     "text": [
      "'Masses' section was written\n",
      "'Atoms' section was written\n",
      "'Velocities' section was written\n",
      "'Bonds' section was written\n",
      "'Angles' section was written\n",
      "'Dihedrals' section was written\n",
      "'Impropers' section was written\n"
     ]
    }
   ],
   "source": [
    "writer.write_lammps_data(\"./lammps_files/data.acetic2\", centering=True, velocity=True, mass=True)"
   ]
  },
  {
   "cell_type": "markdown",
   "metadata": {},
   "source": [
    "* [link to the file](./lammps_files/data.acetic2)"
   ]
  },
  {
   "cell_type": "markdown",
   "metadata": {},
   "source": [
    "## NaCl"
   ]
  },
  {
   "cell_type": "code",
   "execution_count": 59,
   "metadata": {
    "ExecuteTime": {
     "end_time": "2019-02-15T07:29:08.410347Z",
     "start_time": "2019-02-15T07:29:08.406520Z"
    }
   },
   "outputs": [],
   "source": [
    "atoms = BondedAtoms(bulk(\"NaCl\", \"rocksalt\", a=5.64, orthorhombic=True))"
   ]
  },
  {
   "cell_type": "code",
   "execution_count": 60,
   "metadata": {
    "ExecuteTime": {
     "end_time": "2019-02-15T07:29:08.427640Z",
     "start_time": "2019-02-15T07:29:08.418395Z"
    }
   },
   "outputs": [
    {
     "data": {
      "text/plain": [
       "array([[3.98808225, 0.        , 0.        ],\n",
       "       [0.        , 3.98808225, 0.        ],\n",
       "       [0.        , 0.        , 5.64      ]])"
      ]
     },
     "execution_count": 60,
     "metadata": {},
     "output_type": "execute_result"
    }
   ],
   "source": [
    "atoms.get_cell()"
   ]
  },
  {
   "cell_type": "code",
   "execution_count": 61,
   "metadata": {
    "ExecuteTime": {
     "end_time": "2019-02-15T07:29:08.442539Z",
     "start_time": "2019-02-15T07:29:08.432069Z"
    }
   },
   "outputs": [
    {
     "data": {
      "text/plain": [
       "array([11, 17, 11, 17])"
      ]
     },
     "execution_count": 61,
     "metadata": {},
     "output_type": "execute_result"
    }
   ],
   "source": [
    "atoms.get_atomic_numbers()"
   ]
  },
  {
   "cell_type": "code",
   "execution_count": 62,
   "metadata": {
    "ExecuteTime": {
     "end_time": "2019-02-15T07:29:08.448401Z",
     "start_time": "2019-02-15T07:29:08.444518Z"
    }
   },
   "outputs": [],
   "source": [
    "atoms.set_types([1, 2, 1, 2])"
   ]
  },
  {
   "cell_type": "code",
   "execution_count": 63,
   "metadata": {
    "ExecuteTime": {
     "end_time": "2019-02-15T07:29:08.462329Z",
     "start_time": "2019-02-15T07:29:08.452774Z"
    }
   },
   "outputs": [
    {
     "data": {
      "text/plain": [
       "array([[0.        , 0.        , 0.        ],\n",
       "       [1.99404112, 1.99404112, 0.        ],\n",
       "       [1.99404112, 1.99404112, 2.82      ],\n",
       "       [0.        , 0.        , 2.82      ]])"
      ]
     },
     "execution_count": 63,
     "metadata": {},
     "output_type": "execute_result"
    }
   ],
   "source": [
    "atoms.get_positions()"
   ]
  },
  {
   "cell_type": "code",
   "execution_count": 64,
   "metadata": {
    "ExecuteTime": {
     "end_time": "2019-02-15T07:29:08.468619Z",
     "start_time": "2019-02-15T07:29:08.465763Z"
    }
   },
   "outputs": [],
   "source": [
    "atoms.change_max_bonds(6)"
   ]
  },
  {
   "cell_type": "code",
   "execution_count": 65,
   "metadata": {
    "ExecuteTime": {
     "end_time": "2019-02-15T07:29:08.495809Z",
     "start_time": "2019-02-15T07:29:08.471411Z"
    }
   },
   "outputs": [],
   "source": [
    "length = 2.82\n",
    "\n",
    "cell = atoms.get_cell()\n",
    "positions = atoms.get_positions()\n",
    "\n",
    "for i, j in itertools.combinations(range(len(atoms)), 2):\n",
    "  r_original = positions[j] - positions[i]\n",
    "  for ix, iy, iz in itertools.product(*[(-1, 0, 1)]*3):\n",
    "    r = r_original + ix * cell[0] + iy * cell[1] + iz * cell[2]\n",
    "    if np.isclose(np.linalg.norm(r), length):\n",
    "      atoms.add_bond(i, j, img2=(ix, iy, iz))"
   ]
  },
  {
   "cell_type": "code",
   "execution_count": 66,
   "metadata": {
    "ExecuteTime": {
     "end_time": "2019-02-15T07:29:08.505184Z",
     "start_time": "2019-02-15T07:29:08.499022Z"
    }
   },
   "outputs": [
    {
     "data": {
      "text/plain": [
       "array([1, 2, 1, 2])"
      ]
     },
     "execution_count": 66,
     "metadata": {},
     "output_type": "execute_result"
    }
   ],
   "source": [
    "atoms.get_types()"
   ]
  },
  {
   "cell_type": "code",
   "execution_count": 67,
   "metadata": {
    "ExecuteTime": {
     "end_time": "2019-02-15T07:29:08.514915Z",
     "start_time": "2019-02-15T07:29:08.508819Z"
    }
   },
   "outputs": [
    {
     "data": {
      "text/plain": [
       "array([[[ 1, -1, -1,  0],\n",
       "        [ 1, -1,  0,  0],\n",
       "        [ 1,  0, -1,  0],\n",
       "        [ 1,  0,  0,  0],\n",
       "        [ 3,  0,  0, -1],\n",
       "        [ 3,  0,  0,  0]],\n",
       "\n",
       "       [[-1,  1,  1,  0],\n",
       "        [-1,  1,  0,  0],\n",
       "        [-1,  0,  1,  0],\n",
       "        [-1,  0,  0,  0],\n",
       "        [ 1,  0,  0, -1],\n",
       "        [ 1,  0,  0,  0]],\n",
       "\n",
       "       [[-1,  0,  0,  1],\n",
       "        [-1,  0,  0,  0],\n",
       "        [ 1,  0,  0,  0],\n",
       "        [ 1,  0,  1,  0],\n",
       "        [ 1,  1,  0,  0],\n",
       "        [ 1,  1,  1,  0]],\n",
       "\n",
       "       [[-3,  0,  0,  1],\n",
       "        [-3,  0,  0,  0],\n",
       "        [-1,  0,  0,  0],\n",
       "        [-1,  0, -1,  0],\n",
       "        [-1, -1,  0,  0],\n",
       "        [-1, -1, -1,  0]]])"
      ]
     },
     "execution_count": 67,
     "metadata": {},
     "output_type": "execute_result"
    }
   ],
   "source": [
    "atoms.get_bonds()"
   ]
  },
  {
   "cell_type": "code",
   "execution_count": 68,
   "metadata": {
    "ExecuteTime": {
     "end_time": "2019-02-15T07:29:08.563790Z",
     "start_time": "2019-02-15T07:29:08.518067Z"
    }
   },
   "outputs": [],
   "source": [
    "atoms *= 5"
   ]
  },
  {
   "cell_type": "code",
   "execution_count": 69,
   "metadata": {
    "ExecuteTime": {
     "end_time": "2019-02-15T07:29:08.773203Z",
     "start_time": "2019-02-15T07:29:08.567089Z"
    }
   },
   "outputs": [
    {
     "name": "stdout",
     "output_type": "stream",
     "text": [
      "LammpsAtoms: 'id' have been set\n",
      "LammpsAtoms: 'type' have been set\n",
      "LammpsAtoms: 'x' have been set\n",
      "LammpsAtoms: 'y' have been set\n",
      "LammpsAtoms: 'z' have been set\n",
      "LammpsAtoms: 'mass' have been set\n",
      "LammpsBonds: 'id' have been set\n",
      "LammpsBonds: 'atom1' have been set\n",
      "LammpsBonds: 'atom2' have been set\n",
      "LammpsAngles: 'id' have been set\n",
      "LammpsAngles: 'atom1' have been set\n",
      "LammpsAngles: 'atom2' have been set\n",
      "LammpsAngles: 'atom3' have been set\n",
      "LammpsDihedrals: 'id' have been set\n",
      "LammpsDihedrals: 'atom1' have been set\n",
      "LammpsDihedrals: 'atom2' have been set\n",
      "LammpsDihedrals: 'atom3' have been set\n",
      "LammpsDihedrals: 'atom4' have been set\n",
      "LammpsImpropers: 'id' have been set\n",
      "LammpsImpropers: 'atom1' have been set\n",
      "LammpsImpropers: 'atom2' have been set\n",
      "LammpsImpropers: 'atom3' have been set\n",
      "LammpsImpropers: 'atom4' have been set\n"
     ]
    }
   ],
   "source": [
    "writer = LammpsWriter(atoms, atom_style=\"molecular\")"
   ]
  },
  {
   "cell_type": "code",
   "execution_count": 70,
   "metadata": {
    "ExecuteTime": {
     "end_time": "2019-02-15T07:29:08.786981Z",
     "start_time": "2019-02-15T07:29:08.776926Z"
    }
   },
   "outputs": [
    {
     "data": {
      "text/plain": [
       "{'mol'}"
      ]
     },
     "execution_count": 70,
     "metadata": {},
     "output_type": "execute_result"
    }
   ],
   "source": [
    "writer.get_required_datanames()"
   ]
  },
  {
   "cell_type": "code",
   "execution_count": 71,
   "metadata": {
    "ExecuteTime": {
     "end_time": "2019-02-15T07:29:08.796766Z",
     "start_time": "2019-02-15T07:29:08.789463Z"
    }
   },
   "outputs": [
    {
     "name": "stdout",
     "output_type": "stream",
     "text": [
      "LammpsAtoms: 'mol' have been set\n"
     ]
    }
   ],
   "source": [
    "writer.set_atom_data(mol=[0]*len(atoms))"
   ]
  },
  {
   "cell_type": "code",
   "execution_count": 72,
   "metadata": {
    "ExecuteTime": {
     "end_time": "2019-02-15T07:29:08.815708Z",
     "start_time": "2019-02-15T07:29:08.801066Z"
    }
   },
   "outputs": [
    {
     "data": {
      "text/plain": [
       "{(1, 2): 1}"
      ]
     },
     "execution_count": 72,
     "metadata": {},
     "output_type": "execute_result"
    }
   ],
   "source": [
    "bond_types = {\n",
    "  seq: i+1\n",
    "  for i, seq in enumerate(writer.get_bond_patterns())\n",
    "}\n",
    "bond_types"
   ]
  },
  {
   "cell_type": "code",
   "execution_count": 73,
   "metadata": {
    "ExecuteTime": {
     "end_time": "2019-02-15T07:29:08.831793Z",
     "start_time": "2019-02-15T07:29:08.818825Z"
    }
   },
   "outputs": [
    {
     "name": "stdout",
     "output_type": "stream",
     "text": [
      "LammpsBonds: 'type' have been set\n"
     ]
    }
   ],
   "source": [
    "writer.set_bond_types(bond_types)"
   ]
  },
  {
   "cell_type": "code",
   "execution_count": 74,
   "metadata": {
    "ExecuteTime": {
     "end_time": "2019-02-15T07:29:08.880224Z",
     "start_time": "2019-02-15T07:29:08.836318Z"
    }
   },
   "outputs": [
    {
     "data": {
      "text/plain": [
       "{(1, 2, 1): 1, (2, 1, 2): 2}"
      ]
     },
     "execution_count": 74,
     "metadata": {},
     "output_type": "execute_result"
    }
   ],
   "source": [
    "angle_types = {\n",
    "  seq: i+1\n",
    "  for i, seq in enumerate(writer.get_angle_patterns())\n",
    "}\n",
    "angle_types"
   ]
  },
  {
   "cell_type": "code",
   "execution_count": 75,
   "metadata": {
    "ExecuteTime": {
     "end_time": "2019-02-15T07:29:08.910870Z",
     "start_time": "2019-02-15T07:29:08.883762Z"
    }
   },
   "outputs": [
    {
     "name": "stdout",
     "output_type": "stream",
     "text": [
      "LammpsAngles: 'type' have been set\n"
     ]
    }
   ],
   "source": [
    "writer.set_angle_types(angle_types)"
   ]
  },
  {
   "cell_type": "code",
   "execution_count": 76,
   "metadata": {
    "ExecuteTime": {
     "end_time": "2019-02-15T07:29:08.952239Z",
     "start_time": "2019-02-15T07:29:08.913878Z"
    }
   },
   "outputs": [
    {
     "name": "stdout",
     "output_type": "stream",
     "text": [
      "You might need to set 'extra/bond/per/atom' to: 6\n",
      "You might need to set 'extra/angle/per/atom' to: 15\n",
      "You might need to set 'extra/dihedral/per/atom' to: 0\n",
      "You might need to set 'extra/improper/per/atom' to: 0\n"
     ]
    }
   ],
   "source": [
    "writer.print_max_bonds_per_atom()\n",
    "writer.print_max_angles_per_atom()\n",
    "writer.print_max_dihedrals_per_atom()\n",
    "writer.print_max_impropers_per_atom()"
   ]
  },
  {
   "cell_type": "code",
   "execution_count": 77,
   "metadata": {
    "ExecuteTime": {
     "end_time": "2019-02-15T07:29:09.245226Z",
     "start_time": "2019-02-15T07:29:08.957867Z"
    }
   },
   "outputs": [
    {
     "name": "stdout",
     "output_type": "stream",
     "text": [
      "'Masses' section was written\n",
      "'Atoms' section was written\n",
      "'Bonds' section was written\n",
      "'Angles' section was written\n"
     ]
    }
   ],
   "source": [
    "writer.write_lammps_data(\"./lammps_files/data.nacl.ba\", mass=True)"
   ]
  },
  {
   "cell_type": "markdown",
   "metadata": {},
   "source": [
    "* [link to the file](./lammps_files/data.nacl.ba)"
   ]
  },
  {
   "cell_type": "code",
   "execution_count": 78,
   "metadata": {
    "ExecuteTime": {
     "end_time": "2019-02-15T07:29:09.361877Z",
     "start_time": "2019-02-15T07:29:09.248301Z"
    }
   },
   "outputs": [
    {
     "data": {
      "text/plain": [
       "{(1, 2, 1, 2): 1}"
      ]
     },
     "execution_count": 78,
     "metadata": {},
     "output_type": "execute_result"
    }
   ],
   "source": [
    "dihedral_types = {\n",
    "  seq: i+1\n",
    "  for i, seq in enumerate(writer.get_dihedral_patterns())\n",
    "}\n",
    "dihedral_types"
   ]
  },
  {
   "cell_type": "code",
   "execution_count": 79,
   "metadata": {
    "ExecuteTime": {
     "end_time": "2019-02-15T07:29:09.525571Z",
     "start_time": "2019-02-15T07:29:09.364104Z"
    }
   },
   "outputs": [
    {
     "name": "stdout",
     "output_type": "stream",
     "text": [
      "LammpsDihedrals: 'type' have been set\n"
     ]
    }
   ],
   "source": [
    "writer.set_dihedral_types(dihedral_types)"
   ]
  },
  {
   "cell_type": "code",
   "execution_count": 80,
   "metadata": {
    "ExecuteTime": {
     "end_time": "2019-02-15T07:29:09.623392Z",
     "start_time": "2019-02-15T07:29:09.529224Z"
    }
   },
   "outputs": [
    {
     "data": {
      "text/plain": [
       "{(2, 1, 1, 1): 1, (1, 2, 2, 2): 2}"
      ]
     },
     "execution_count": 80,
     "metadata": {},
     "output_type": "execute_result"
    }
   ],
   "source": [
    "improper_types = {\n",
    "  seq: i+1\n",
    "  for i, seq in enumerate(writer.get_improper_patterns())\n",
    "}\n",
    "improper_types"
   ]
  },
  {
   "cell_type": "code",
   "execution_count": 81,
   "metadata": {
    "ExecuteTime": {
     "end_time": "2019-02-15T07:29:09.715964Z",
     "start_time": "2019-02-15T07:29:09.629313Z"
    }
   },
   "outputs": [
    {
     "name": "stdout",
     "output_type": "stream",
     "text": [
      "LammpsImpropers: 'type' have been set\n"
     ]
    }
   ],
   "source": [
    "writer.set_improper_types(improper_types)"
   ]
  },
  {
   "cell_type": "code",
   "execution_count": 82,
   "metadata": {
    "ExecuteTime": {
     "end_time": "2019-02-15T07:29:09.738628Z",
     "start_time": "2019-02-15T07:29:09.718750Z"
    }
   },
   "outputs": [
    {
     "name": "stdout",
     "output_type": "stream",
     "text": [
      "You might need to set 'extra/bond/per/atom' to: 6\n",
      "You might need to set 'extra/angle/per/atom' to: 15\n",
      "You might need to set 'extra/dihedral/per/atom' to: 78\n",
      "You might need to set 'extra/improper/per/atom' to: 36\n"
     ]
    }
   ],
   "source": [
    "writer.print_max_bonds_per_atom()\n",
    "writer.print_max_angles_per_atom()\n",
    "writer.print_max_dihedrals_per_atom()\n",
    "writer.print_max_impropers_per_atom()"
   ]
  },
  {
   "cell_type": "code",
   "execution_count": 83,
   "metadata": {
    "ExecuteTime": {
     "end_time": "2019-02-15T07:29:10.060557Z",
     "start_time": "2019-02-15T07:29:09.741094Z"
    }
   },
   "outputs": [
    {
     "name": "stdout",
     "output_type": "stream",
     "text": [
      "'Masses' section was written\n",
      "'Atoms' section was written\n",
      "'Bonds' section was written\n",
      "'Angles' section was written\n",
      "'Dihedrals' section was written\n",
      "'Impropers' section was written\n"
     ]
    }
   ],
   "source": [
    "writer.write_lammps_data(\"./lammps_files/data.nacl.badi\", mass=True)"
   ]
  },
  {
   "cell_type": "markdown",
   "metadata": {},
   "source": [
    "* [link to the file](./lammps_files/data.nacl.badi)"
   ]
  },
  {
   "cell_type": "code",
   "execution_count": null,
   "metadata": {},
   "outputs": [],
   "source": []
  }
 ],
 "metadata": {
  "kernelspec": {
   "display_name": "Python 3",
   "language": "python",
   "name": "python3"
  },
  "language_info": {
   "codemirror_mode": {
    "name": "ipython",
    "version": 3
   },
   "file_extension": ".py",
   "mimetype": "text/x-python",
   "name": "python",
   "nbconvert_exporter": "python",
   "pygments_lexer": "ipython3",
   "version": "3.6.8"
  },
  "toc": {
   "base_numbering": 1,
   "nav_menu": {},
   "number_sections": true,
   "sideBar": true,
   "skip_h1_title": true,
   "title_cell": "Table of Contents",
   "title_sidebar": "Contents",
   "toc_cell": false,
   "toc_position": {},
   "toc_section_display": true,
   "toc_window_display": false
  },
  "widgets": {
   "application/vnd.jupyter.widget-state+json": {
    "state": {},
    "version_major": 2,
    "version_minor": 0
   }
  }
 },
 "nbformat": 4,
 "nbformat_minor": 2
}
