{
 "cells": [
  {
   "cell_type": "markdown",
   "metadata": {},
   "source": [
    "# Create diamond crystal with bonds"
   ]
  },
  {
   "cell_type": "code",
   "execution_count": 1,
   "metadata": {
    "ExecuteTime": {
     "end_time": "2019-02-15T21:23:39.831394Z",
     "start_time": "2019-02-15T21:23:39.686153Z"
    }
   },
   "outputs": [],
   "source": [
    "from ease4lmp import BondedAtoms"
   ]
  },
  {
   "cell_type": "code",
   "execution_count": 2,
   "metadata": {
    "ExecuteTime": {
     "end_time": "2019-02-15T21:23:39.858592Z",
     "start_time": "2019-02-15T21:23:39.835081Z"
    }
   },
   "outputs": [],
   "source": [
    "from ase.build import bulk"
   ]
  },
  {
   "cell_type": "markdown",
   "metadata": {},
   "source": [
    "We can use ASE's functionality to build crystal structure.\n",
    "Here, we create an `ase.Atoms` instance for a diamond cube."
   ]
  },
  {
   "cell_type": "code",
   "execution_count": 3,
   "metadata": {
    "ExecuteTime": {
     "end_time": "2019-02-15T21:23:39.880300Z",
     "start_time": "2019-02-15T21:23:39.861152Z"
    }
   },
   "outputs": [],
   "source": [
    "diamond_unit = bulk(\"C\", \"diamond\", cubic=True)"
   ]
  },
  {
   "cell_type": "code",
   "execution_count": 4,
   "metadata": {
    "ExecuteTime": {
     "end_time": "2019-02-15T21:23:39.909738Z",
     "start_time": "2019-02-15T21:23:39.889778Z"
    }
   },
   "outputs": [
    {
     "data": {
      "text/plain": [
       "Atoms(symbols='C8', pbc=True, cell=[3.57, 3.57, 3.57])"
      ]
     },
     "execution_count": 4,
     "metadata": {},
     "output_type": "execute_result"
    }
   ],
   "source": [
    "diamond_unit"
   ]
  },
  {
   "cell_type": "code",
   "execution_count": 5,
   "metadata": {
    "ExecuteTime": {
     "end_time": "2019-02-15T21:23:39.926442Z",
     "start_time": "2019-02-15T21:23:39.914558Z"
    }
   },
   "outputs": [
    {
     "data": {
      "text/plain": [
       "array([[0.    , 0.    , 0.    ],\n",
       "       [0.8925, 0.8925, 0.8925],\n",
       "       [0.    , 1.785 , 1.785 ],\n",
       "       [0.8925, 2.6775, 2.6775],\n",
       "       [1.785 , 0.    , 1.785 ],\n",
       "       [2.6775, 0.8925, 2.6775],\n",
       "       [1.785 , 1.785 , 0.    ],\n",
       "       [2.6775, 2.6775, 0.8925]])"
      ]
     },
     "execution_count": 5,
     "metadata": {},
     "output_type": "execute_result"
    }
   ],
   "source": [
    "diamond_unit.get_positions()"
   ]
  },
  {
   "cell_type": "markdown",
   "metadata": {},
   "source": [
    "Next, we create a `ease4lmp.BondedAtoms` instance from the created `ase.Atoms` instance."
   ]
  },
  {
   "cell_type": "code",
   "execution_count": 6,
   "metadata": {
    "ExecuteTime": {
     "end_time": "2019-02-15T21:23:39.937849Z",
     "start_time": "2019-02-15T21:23:39.930748Z"
    }
   },
   "outputs": [],
   "source": [
    "diamond_unit_with_bonds = BondedAtoms(diamond_unit)"
   ]
  },
  {
   "cell_type": "markdown",
   "metadata": {},
   "source": [
    "We calculate length of a bond between the nearest two carbon atoms. "
   ]
  },
  {
   "cell_type": "code",
   "execution_count": 7,
   "metadata": {
    "ExecuteTime": {
     "end_time": "2019-02-15T21:23:39.977549Z",
     "start_time": "2019-02-15T21:23:39.968265Z"
    }
   },
   "outputs": [
    {
     "data": {
      "text/plain": [
       "2.38966875"
      ]
     },
     "execution_count": 7,
     "metadata": {},
     "output_type": "execute_result"
    }
   ],
   "source": [
    "positions = diamond_unit_with_bonds.get_positions()\n",
    "bond_vector = positions[1] - positions[0]\n",
    "squared_bond_length = (bond_vector*bond_vector).sum()\n",
    "squared_bond_length"
   ]
  },
  {
   "cell_type": "markdown",
   "metadata": {},
   "source": [
    "Now, we start to compute and set bonds connecting carbon atoms."
   ]
  },
  {
   "cell_type": "markdown",
   "metadata": {},
   "source": [
    "To resolve a periodic boundary function, we create a $2 \\times 2 \\times 2$ supercell of `diamond_unit_with_bonds`.\n",
    "Atoms in the supercell are tagged with original indices (indices in the original unit cell)."
   ]
  },
  {
   "cell_type": "code",
   "execution_count": 8,
   "metadata": {
    "ExecuteTime": {
     "end_time": "2019-02-15T21:23:40.396626Z",
     "start_time": "2019-02-15T21:23:40.084690Z"
    }
   },
   "outputs": [],
   "source": [
    "diamond_2x2x2 = diamond_unit_with_bonds.copy()\n",
    "diamond_2x2x2.set_tags(list(range(len(diamond_2x2x2))))\n",
    "diamond_2x2x2 *= 2"
   ]
  },
  {
   "cell_type": "code",
   "execution_count": 9,
   "metadata": {
    "ExecuteTime": {
     "end_time": "2019-02-15T21:23:40.416157Z",
     "start_time": "2019-02-15T21:23:40.404563Z"
    }
   },
   "outputs": [
    {
     "data": {
      "text/plain": [
       "array([0, 1, 2, 3, 4, 5, 6, 7, 0, 1, 2, 3, 4, 5, 6, 7, 0, 1, 2, 3, 4, 5,\n",
       "       6, 7, 0, 1, 2, 3, 4, 5, 6, 7, 0, 1, 2, 3, 4, 5, 6, 7, 0, 1, 2, 3,\n",
       "       4, 5, 6, 7, 0, 1, 2, 3, 4, 5, 6, 7, 0, 1, 2, 3, 4, 5, 6, 7])"
      ]
     },
     "execution_count": 9,
     "metadata": {},
     "output_type": "execute_result"
    }
   ],
   "source": [
    "diamond_2x2x2.get_tags()"
   ]
  },
  {
   "cell_type": "markdown",
   "metadata": {},
   "source": [
    "We investigate vectors from each atom in `diamond_unit_with_bonds` to each atom in `diamond_2x2x2`.\n",
    "If squred length of a vector is (nearly) equal to `squared_bond_length`, we store the following data:\n",
    "\n",
    "* A two-element set consisting of index for the first and second atoms.\n",
    "* An image flag of the unit cell where the second atom is in."
   ]
  },
  {
   "cell_type": "code",
   "execution_count": 10,
   "metadata": {
    "ExecuteTime": {
     "end_time": "2019-02-15T21:23:40.434575Z",
     "start_time": "2019-02-15T21:23:40.419433Z"
    }
   },
   "outputs": [],
   "source": [
    "from math import isclose\n",
    "\n",
    "cell_length = diamond_unit_with_bonds.get_cell()[1,1]\n",
    "\n",
    "first_positions = diamond_unit_with_bonds.get_positions()\n",
    "\n",
    "second_positions = diamond_2x2x2.get_positions()\n",
    "original_index = diamond_2x2x2.get_tags()\n",
    "\n",
    "stored_data = {}\n",
    "\n",
    "for i, ri in enumerate(first_positions):\n",
    "  for j, rj in zip(original_index, second_positions):\n",
    "    \n",
    "    vector = rj - ri\n",
    "    \n",
    "    if isclose((vector*vector).sum(), squared_bond_length, abs_tol=0.1):\n",
    "      \n",
    "      image_flag = tuple(map(int, rj/cell_length))\n",
    "      \n",
    "      stored_data[\n",
    "        tuple(sorted([i, j])) # avoid duplication if both atoms are in the original unit cell.\n",
    "        if image_flag == (0, 0, 0) else tuple([i, j])] = image_flag"
   ]
  },
  {
   "cell_type": "code",
   "execution_count": 11,
   "metadata": {
    "ExecuteTime": {
     "end_time": "2019-02-15T21:23:40.463711Z",
     "start_time": "2019-02-15T21:23:40.448609Z"
    }
   },
   "outputs": [
    {
     "data": {
      "text/plain": [
       "{(0, 1): (0, 0, 0),\n",
       " (1, 2): (0, 0, 0),\n",
       " (1, 4): (0, 0, 0),\n",
       " (1, 6): (0, 0, 0),\n",
       " (2, 3): (0, 0, 0),\n",
       " (3, 6): (0, 0, 1),\n",
       " (3, 4): (0, 1, 0),\n",
       " (3, 0): (0, 1, 1),\n",
       " (4, 5): (0, 0, 0),\n",
       " (5, 6): (0, 0, 1),\n",
       " (5, 2): (1, 0, 0),\n",
       " (5, 0): (1, 0, 1),\n",
       " (6, 7): (0, 0, 0),\n",
       " (7, 4): (0, 1, 0),\n",
       " (7, 2): (1, 0, 0),\n",
       " (7, 0): (1, 1, 0)}"
      ]
     },
     "execution_count": 11,
     "metadata": {},
     "output_type": "execute_result"
    }
   ],
   "source": [
    "stored_data"
   ]
  },
  {
   "cell_type": "markdown",
   "metadata": {},
   "source": [
    "Now, we set bonds to `diamond_unit_with_bonds`."
   ]
  },
  {
   "cell_type": "code",
   "execution_count": 12,
   "metadata": {
    "ExecuteTime": {
     "end_time": "2019-02-15T21:23:40.488928Z",
     "start_time": "2019-02-15T21:23:40.470290Z"
    }
   },
   "outputs": [],
   "source": [
    "for k, v in stored_data.items():\n",
    "  diamond_unit_with_bonds.add_bond(*k, img2=v)"
   ]
  },
  {
   "cell_type": "markdown",
   "metadata": {},
   "source": [
    "Bond data is stored as a `numpy.ndarray` object."
   ]
  },
  {
   "cell_type": "code",
   "execution_count": 13,
   "metadata": {
    "ExecuteTime": {
     "end_time": "2019-02-15T21:23:40.510630Z",
     "start_time": "2019-02-15T21:23:40.494894Z"
    }
   },
   "outputs": [
    {
     "data": {
      "text/plain": [
       "array([[[ 1,  0,  0,  0],\n",
       "        [ 3,  0, -1, -1],\n",
       "        [ 5, -1,  0, -1],\n",
       "        [ 7, -1, -1,  0]],\n",
       "\n",
       "       [[-1,  0,  0,  0],\n",
       "        [ 1,  0,  0,  0],\n",
       "        [ 3,  0,  0,  0],\n",
       "        [ 5,  0,  0,  0]],\n",
       "\n",
       "       [[-1,  0,  0,  0],\n",
       "        [ 1,  0,  0,  0],\n",
       "        [ 3, -1,  0,  0],\n",
       "        [ 5, -1,  0,  0]],\n",
       "\n",
       "       [[-1,  0,  0,  0],\n",
       "        [ 3,  0,  0,  1],\n",
       "        [ 1,  0,  1,  0],\n",
       "        [-3,  0,  1,  1]],\n",
       "\n",
       "       [[-3,  0,  0,  0],\n",
       "        [-1,  0, -1,  0],\n",
       "        [ 1,  0,  0,  0],\n",
       "        [ 3,  0, -1,  0]],\n",
       "\n",
       "       [[-1,  0,  0,  0],\n",
       "        [ 1,  0,  0,  1],\n",
       "        [-3,  1,  0,  0],\n",
       "        [-5,  1,  0,  1]],\n",
       "\n",
       "       [[-5,  0,  0,  0],\n",
       "        [-3,  0,  0, -1],\n",
       "        [-1,  0,  0, -1],\n",
       "        [ 1,  0,  0,  0]],\n",
       "\n",
       "       [[-1,  0,  0,  0],\n",
       "        [-3,  0,  1,  0],\n",
       "        [-5,  1,  0,  0],\n",
       "        [-7,  1,  1,  0]]])"
      ]
     },
     "execution_count": 13,
     "metadata": {},
     "output_type": "execute_result"
    }
   ],
   "source": [
    "diamond_unit_with_bonds.get_bonds()"
   ]
  },
  {
   "cell_type": "markdown",
   "metadata": {},
   "source": [
    "Shape of the array for bonds is:\n",
    "\n",
    "$$\n",
    "\\text{(# of atoms)} \\times \\text{(max # of bonds per atom)} \\times \\text{4}.\n",
    "$$\n",
    "\n",
    "Each bond is described by four numbers:\n",
    "\n",
    "0. *Relative* index of an atom which the bond connects to.\n",
    "1. *Relative* image flag of the atom (in *x* direction).\n",
    "2. *Relative* image flag of the atom (in *y* direction).\n",
    "3. *Relative* image flag of the atom (in *z* direction)."
   ]
  },
  {
   "cell_type": "markdown",
   "metadata": {},
   "source": [
    "In the above example, the first atom (whose index is 0) has a bond described as `[3, 0, -1, -1]`.\n",
    "This means that the first atom connects to the fourth atom (whose index is 3),\n",
    "and the connected fourth atom exists in an image cell next to the original cell (where the first atom exists) in (0, -1, -1) direction."
   ]
  },
  {
   "cell_type": "code",
   "execution_count": null,
   "metadata": {},
   "outputs": [],
   "source": []
  }
 ],
 "metadata": {
  "kernelspec": {
   "display_name": "Python 3",
   "language": "python",
   "name": "python3"
  },
  "language_info": {
   "codemirror_mode": {
    "name": "ipython",
    "version": 3
   },
   "file_extension": ".py",
   "mimetype": "text/x-python",
   "name": "python",
   "nbconvert_exporter": "python",
   "pygments_lexer": "ipython3",
   "version": "3.6.8"
  },
  "toc": {
   "base_numbering": 1,
   "nav_menu": {},
   "number_sections": true,
   "sideBar": true,
   "skip_h1_title": true,
   "title_cell": "Table of Contents",
   "title_sidebar": "Contents",
   "toc_cell": false,
   "toc_position": {},
   "toc_section_display": true,
   "toc_window_display": false
  }
 },
 "nbformat": 4,
 "nbformat_minor": 2
}
